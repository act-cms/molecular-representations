{
 "cells": [
  {
   "cell_type": "markdown",
   "id": "6454b76c",
   "metadata": {},
   "source": [
    "# VSEPR Geometry Predictor 🧮🔺\n",
    "\n",
    "*General Chemistry & Cyberinfrastructure Skills Module*"
   ]
  },
  {
   "cell_type": "markdown",
   "id": "355fd209",
   "metadata": {},
   "source": [
    "## Learning Objective\n",
    "Predict the **molecular geometry** of simple molecules using **VSEPR (Valence‑Shell Electron‑Pair Repulsion) theory**."
   ]
  },
  {
   "cell_type": "markdown",
   "id": "28c31b21",
   "metadata": {},
   "source": [
    "## Prerequisites\n",
    "- Python ≥ 3.8\n",
    "- **RDKit** for molecular parsing\n",
    "- *(Optional)* **py3Dmol** for 3‑D visualisation\n",
    "\n",
    "If you’re on Google Colab, run the install cell below first."
   ]
  },
  {
   "cell_type": "code",
   "execution_count": 1,
   "id": "6b5a33c1",
   "metadata": {},
   "outputs": [],
   "source": [
    "# !pip install rdkit-pypi py3Dmol -q  # ← Uncomment on first run\n",
    "\n",
    "from rdkit import Chem\n",
    "from rdkit.Chem import AllChem\n",
    "\n",
    "try:\n",
    "    import py3Dmol\n",
    "    def show_3d(mol):\n",
    "        m2 = Chem.AddHs(mol)\n",
    "        AllChem.EmbedMolecule(m2, randomSeed=0xC0FFEE)\n",
    "        AllChem.UFFOptimizeMolecule(m2)\n",
    "        mb = Chem.MolToMolBlock(m2)\n",
    "        v = py3Dmol.view()\n",
    "        v.addModel(mb, 'mol')\n",
    "        v.setStyle({'stick': {}})\n",
    "        v.zoomTo()\n",
    "        return v.show()\n",
    "except ModuleNotFoundError:\n",
    "    def show_3d(_):\n",
    "        print('Install py3Dmol for 3‑D visualisation.')\n"
   ]
  },
  {
   "cell_type": "markdown",
   "id": "6ef82f2f",
   "metadata": {},
   "source": [
    "## Quick Concept Check 🔍\n",
    "VSEPR predicts geometry from two key numbers for the **central atom**:\n",
    "1. **Steric number** = σ‑bonds + lone‑pairs.\n",
    "2. Number of **lone pairs**.\n",
    "\n",
    "| Steric # | Lone pairs | Electron‑pair geometry | **Molecular geometry** |\n",
    "|:--------:|:----------:|------------------------|------------------------|\n",
    "| 2 | 0 | Linear | Linear |\n",
    "| 3 | 0 | Trigonal planar | Trigonal planar |\n",
    "| 3 | 1 | Trigonal planar | Bent (∼120°) |\n",
    "| 4 | 0 | Tetrahedral | Tetrahedral |\n",
    "| 4 | 1 | Tetrahedral | Trigonal pyramidal |\n",
    "| 4 | 2 | Tetrahedral | Bent (∼109°) |\n",
    "| 5 | 0 | Trigonal bipyramidal | Trigonal bipyramidal |\n",
    "| 5 | 1 | Trigonal bipyramidal | Seesaw |\n",
    "| 5 | 2 | Trigonal bipyramidal | T‑shaped |\n",
    "| 5 | 3 | Trigonal bipyramidal | Linear |\n",
    "| 6 | 0 | Octahedral | Octahedral |\n",
    "| 6 | 1 | Octahedral | Square pyramidal |\n",
    "| 6 | 2 | Octahedral | Square planar |"
   ]
  },
  {
   "cell_type": "code",
   "execution_count": 2,
   "id": "e93db206",
   "metadata": {},
   "outputs": [],
   "source": [
    "GEOM_MAP = {\n",
    "    (2, 0): 'linear',\n",
    "    (3, 0): 'trigonal planar',\n",
    "    (3, 1): 'bent (120°)',\n",
    "    (4, 0): 'tetrahedral',\n",
    "    (4, 1): 'trigonal pyramidal',\n",
    "    (4, 2): 'bent (109°)',\n",
    "    (5, 0): 'trigonal bipyramidal',\n",
    "    (5, 1): 'seesaw',\n",
    "    (5, 2): 'T-shaped',\n",
    "    (5, 3): 'linear',\n",
    "    (6, 0): 'octahedral',\n",
    "    (6, 1): 'square pyramidal',\n",
    "    (6, 2): 'square planar'\n",
    "}\n",
    "\n",
    "def geometry_from_counts(steric, lps):\n",
    "    \"\"\"Return geometry string or 'unknown'.\"\"\"\n",
    "    return GEOM_MAP.get((steric, lps), 'unknown')\n"
   ]
  },
  {
   "cell_type": "markdown",
   "id": "10efe720",
   "metadata": {},
   "source": [
    "### Helper: Count σ‑bonds & Lone Pairs\n",
    "RDKit stores **explicit** hydrogens and implicit valence; we’ll leverage that to estimate σ‑bonds and lone pairs."
   ]
  },
  {
   "cell_type": "code",
   "execution_count": 3,
   "id": "a7c27612",
   "metadata": {},
   "outputs": [],
   "source": [
    "def steric_and_lps(atom):\n",
    "    \"\"\"Return (steric_number, lone_pairs) for *atom*.\n",
    "    σ‑bonds = atom.GetTotalDegree() (includes attached H after AddHs)\n",
    "    lone_pairs = (valence_electrons - atom.GetFormalCharge() - 2*atom.GetTotalBondOrders()) // 2.\n",
    "    \"\"\"\n",
    "    # Period‑wide valence electron counts for main‑group elements\n",
    "    VE = {'H':1,'C':4,'N':5,'O':6,'F':7,'P':5,'S':6,'Cl':7,'Br':7,'I':7,'Xe':8}\n",
    "    sym = atom.GetSymbol()\n",
    "    ve = VE.get(sym, None)\n",
    "    if ve is None:\n",
    "        raise ValueError(f'Valence electrons unknown for {sym}')\n",
    "    # Count σ bonds (after explicit Hs)\n",
    "    sigma = atom.GetTotalDegree()\n",
    "    bond_order_sum = sum(b.GetBondTypeAsDouble() for b in atom.GetBonds())\n",
    "    # Approximate lone pairs\n",
    "    lps = (ve - atom.GetFormalCharge() - int(bond_order_sum)) // 2\n",
    "    steric = sigma + lps\n",
    "    return steric, lps\n"
   ]
  },
  {
   "cell_type": "markdown",
   "id": "18cd969b",
   "metadata": {},
   "source": [
    "## Worked Examples\n",
    "We’ll predict geometries for three classic molecules."
   ]
  },
  {
   "cell_type": "code",
   "execution_count": 4,
   "id": "fcdb16a9",
   "metadata": {},
   "outputs": [
    {
     "name": "stdout",
     "output_type": "stream",
     "text": [
      "Water           → steric 4, lone pairs 2 ⇒ bent (109°)\n"
     ]
    },
    {
     "data": {
      "application/3dmoljs_load.v0": "<div id=\"3dmolviewer_175063382726882\"  style=\"position: relative; width: 640px; height: 480px;\">\n        <p id=\"3dmolwarning_175063382726882\" style=\"background-color:#ffcccc;color:black\">3Dmol.js failed to load for some reason.  Please check your browser console for error messages.<br></p>\n        </div>\n<script>\n\nvar loadScriptAsync = function(uri){\n  return new Promise((resolve, reject) => {\n    //this is to ignore the existence of requirejs amd\n    var savedexports, savedmodule;\n    if (typeof exports !== 'undefined') savedexports = exports;\n    else exports = {}\n    if (typeof module !== 'undefined') savedmodule = module;\n    else module = {}\n\n    var tag = document.createElement('script');\n    tag.src = uri;\n    tag.async = true;\n    tag.onload = () => {\n        exports = savedexports;\n        module = savedmodule;\n        resolve();\n    };\n  var firstScriptTag = document.getElementsByTagName('script')[0];\n  firstScriptTag.parentNode.insertBefore(tag, firstScriptTag);\n});\n};\n\nif(typeof $3Dmolpromise === 'undefined') {\n$3Dmolpromise = null;\n  $3Dmolpromise = loadScriptAsync('https://cdnjs.cloudflare.com/ajax/libs/3Dmol/2.1.0/3Dmol-min.js');\n}\n\nvar viewer_175063382726882 = null;\nvar warn = document.getElementById(\"3dmolwarning_175063382726882\");\nif(warn) {\n    warn.parentNode.removeChild(warn);\n}\n$3Dmolpromise.then(function() {\nviewer_175063382726882 = $3Dmol.createViewer(document.getElementById(\"3dmolviewer_175063382726882\"),{backgroundColor:\"white\"});\nviewer_175063382726882.zoomTo();\n\tviewer_175063382726882.addModel(\"\\n     RDKit          3D\\n\\n  3  2  0  0  0  0  0  0  0  0999 V2000\\n    0.0077    0.4040    0.0000 O   0  0  0  0  0  0  0  0  0  0  0  0\\n   -0.7867   -0.1872    0.0000 H   0  0  0  0  0  0  0  0  0  0  0  0\\n    0.7791   -0.2169    0.0000 H   0  0  0  0  0  0  0  0  0  0  0  0\\n  1  2  1  0\\n  1  3  1  0\\nM  END\\n\",\"mol\");\n\tviewer_175063382726882.setStyle({\"stick\": {}});\n\tviewer_175063382726882.zoomTo();\nviewer_175063382726882.render();\n});\n</script>",
      "text/html": [
       "<div id=\"3dmolviewer_175063382726882\"  style=\"position: relative; width: 640px; height: 480px;\">\n",
       "        <p id=\"3dmolwarning_175063382726882\" style=\"background-color:#ffcccc;color:black\">3Dmol.js failed to load for some reason.  Please check your browser console for error messages.<br></p>\n",
       "        </div>\n",
       "<script>\n",
       "\n",
       "var loadScriptAsync = function(uri){\n",
       "  return new Promise((resolve, reject) => {\n",
       "    //this is to ignore the existence of requirejs amd\n",
       "    var savedexports, savedmodule;\n",
       "    if (typeof exports !== 'undefined') savedexports = exports;\n",
       "    else exports = {}\n",
       "    if (typeof module !== 'undefined') savedmodule = module;\n",
       "    else module = {}\n",
       "\n",
       "    var tag = document.createElement('script');\n",
       "    tag.src = uri;\n",
       "    tag.async = true;\n",
       "    tag.onload = () => {\n",
       "        exports = savedexports;\n",
       "        module = savedmodule;\n",
       "        resolve();\n",
       "    };\n",
       "  var firstScriptTag = document.getElementsByTagName('script')[0];\n",
       "  firstScriptTag.parentNode.insertBefore(tag, firstScriptTag);\n",
       "});\n",
       "};\n",
       "\n",
       "if(typeof $3Dmolpromise === 'undefined') {\n",
       "$3Dmolpromise = null;\n",
       "  $3Dmolpromise = loadScriptAsync('https://cdnjs.cloudflare.com/ajax/libs/3Dmol/2.1.0/3Dmol-min.js');\n",
       "}\n",
       "\n",
       "var viewer_175063382726882 = null;\n",
       "var warn = document.getElementById(\"3dmolwarning_175063382726882\");\n",
       "if(warn) {\n",
       "    warn.parentNode.removeChild(warn);\n",
       "}\n",
       "$3Dmolpromise.then(function() {\n",
       "viewer_175063382726882 = $3Dmol.createViewer(document.getElementById(\"3dmolviewer_175063382726882\"),{backgroundColor:\"white\"});\n",
       "viewer_175063382726882.zoomTo();\n",
       "\tviewer_175063382726882.addModel(\"\\n     RDKit          3D\\n\\n  3  2  0  0  0  0  0  0  0  0999 V2000\\n    0.0077    0.4040    0.0000 O   0  0  0  0  0  0  0  0  0  0  0  0\\n   -0.7867   -0.1872    0.0000 H   0  0  0  0  0  0  0  0  0  0  0  0\\n    0.7791   -0.2169    0.0000 H   0  0  0  0  0  0  0  0  0  0  0  0\\n  1  2  1  0\\n  1  3  1  0\\nM  END\\n\",\"mol\");\n",
       "\tviewer_175063382726882.setStyle({\"stick\": {}});\n",
       "\tviewer_175063382726882.zoomTo();\n",
       "viewer_175063382726882.render();\n",
       "});\n",
       "</script>"
      ]
     },
     "metadata": {},
     "output_type": "display_data"
    },
    {
     "name": "stdout",
     "output_type": "stream",
     "text": [
      "Ammonia         → steric 4, lone pairs 1 ⇒ trigonal pyramidal\n"
     ]
    },
    {
     "data": {
      "application/3dmoljs_load.v0": "<div id=\"3dmolviewer_17506338272712488\"  style=\"position: relative; width: 640px; height: 480px;\">\n        <p id=\"3dmolwarning_17506338272712488\" style=\"background-color:#ffcccc;color:black\">3Dmol.js failed to load for some reason.  Please check your browser console for error messages.<br></p>\n        </div>\n<script>\n\nvar loadScriptAsync = function(uri){\n  return new Promise((resolve, reject) => {\n    //this is to ignore the existence of requirejs amd\n    var savedexports, savedmodule;\n    if (typeof exports !== 'undefined') savedexports = exports;\n    else exports = {}\n    if (typeof module !== 'undefined') savedmodule = module;\n    else module = {}\n\n    var tag = document.createElement('script');\n    tag.src = uri;\n    tag.async = true;\n    tag.onload = () => {\n        exports = savedexports;\n        module = savedmodule;\n        resolve();\n    };\n  var firstScriptTag = document.getElementsByTagName('script')[0];\n  firstScriptTag.parentNode.insertBefore(tag, firstScriptTag);\n});\n};\n\nif(typeof $3Dmolpromise === 'undefined') {\n$3Dmolpromise = null;\n  $3Dmolpromise = loadScriptAsync('https://cdnjs.cloudflare.com/ajax/libs/3Dmol/2.1.0/3Dmol-min.js');\n}\n\nvar viewer_17506338272712488 = null;\nvar warn = document.getElementById(\"3dmolwarning_17506338272712488\");\nif(warn) {\n    warn.parentNode.removeChild(warn);\n}\n$3Dmolpromise.then(function() {\nviewer_17506338272712488 = $3Dmol.createViewer(document.getElementById(\"3dmolviewer_17506338272712488\"),{backgroundColor:\"white\"});\nviewer_17506338272712488.zoomTo();\n\tviewer_17506338272712488.addModel(\"\\n     RDKit          3D\\n\\n  4  3  0  0  0  0  0  0  0  0999 V2000\\n   -0.0093   -0.0058    0.2947 N   0  0  0  0  0  0  0  0  0  0  0  0\\n    0.9581   -0.1514   -0.0710 H   0  0  0  0  0  0  0  0  0  0  0  0\\n   -0.6066   -0.7486   -0.1323 H   0  0  0  0  0  0  0  0  0  0  0  0\\n   -0.3422    0.9058   -0.0914 H   0  0  0  0  0  0  0  0  0  0  0  0\\n  1  2  1  0\\n  1  3  1  0\\n  1  4  1  0\\nM  END\\n\",\"mol\");\n\tviewer_17506338272712488.setStyle({\"stick\": {}});\n\tviewer_17506338272712488.zoomTo();\nviewer_17506338272712488.render();\n});\n</script>",
      "text/html": [
       "<div id=\"3dmolviewer_17506338272712488\"  style=\"position: relative; width: 640px; height: 480px;\">\n",
       "        <p id=\"3dmolwarning_17506338272712488\" style=\"background-color:#ffcccc;color:black\">3Dmol.js failed to load for some reason.  Please check your browser console for error messages.<br></p>\n",
       "        </div>\n",
       "<script>\n",
       "\n",
       "var loadScriptAsync = function(uri){\n",
       "  return new Promise((resolve, reject) => {\n",
       "    //this is to ignore the existence of requirejs amd\n",
       "    var savedexports, savedmodule;\n",
       "    if (typeof exports !== 'undefined') savedexports = exports;\n",
       "    else exports = {}\n",
       "    if (typeof module !== 'undefined') savedmodule = module;\n",
       "    else module = {}\n",
       "\n",
       "    var tag = document.createElement('script');\n",
       "    tag.src = uri;\n",
       "    tag.async = true;\n",
       "    tag.onload = () => {\n",
       "        exports = savedexports;\n",
       "        module = savedmodule;\n",
       "        resolve();\n",
       "    };\n",
       "  var firstScriptTag = document.getElementsByTagName('script')[0];\n",
       "  firstScriptTag.parentNode.insertBefore(tag, firstScriptTag);\n",
       "});\n",
       "};\n",
       "\n",
       "if(typeof $3Dmolpromise === 'undefined') {\n",
       "$3Dmolpromise = null;\n",
       "  $3Dmolpromise = loadScriptAsync('https://cdnjs.cloudflare.com/ajax/libs/3Dmol/2.1.0/3Dmol-min.js');\n",
       "}\n",
       "\n",
       "var viewer_17506338272712488 = null;\n",
       "var warn = document.getElementById(\"3dmolwarning_17506338272712488\");\n",
       "if(warn) {\n",
       "    warn.parentNode.removeChild(warn);\n",
       "}\n",
       "$3Dmolpromise.then(function() {\n",
       "viewer_17506338272712488 = $3Dmol.createViewer(document.getElementById(\"3dmolviewer_17506338272712488\"),{backgroundColor:\"white\"});\n",
       "viewer_17506338272712488.zoomTo();\n",
       "\tviewer_17506338272712488.addModel(\"\\n     RDKit          3D\\n\\n  4  3  0  0  0  0  0  0  0  0999 V2000\\n   -0.0093   -0.0058    0.2947 N   0  0  0  0  0  0  0  0  0  0  0  0\\n    0.9581   -0.1514   -0.0710 H   0  0  0  0  0  0  0  0  0  0  0  0\\n   -0.6066   -0.7486   -0.1323 H   0  0  0  0  0  0  0  0  0  0  0  0\\n   -0.3422    0.9058   -0.0914 H   0  0  0  0  0  0  0  0  0  0  0  0\\n  1  2  1  0\\n  1  3  1  0\\n  1  4  1  0\\nM  END\\n\",\"mol\");\n",
       "\tviewer_17506338272712488.setStyle({\"stick\": {}});\n",
       "\tviewer_17506338272712488.zoomTo();\n",
       "viewer_17506338272712488.render();\n",
       "});\n",
       "</script>"
      ]
     },
     "metadata": {},
     "output_type": "display_data"
    },
    {
     "name": "stdout",
     "output_type": "stream",
     "text": [
      "Carbon dioxide  → steric 2, lone pairs 0 ⇒ linear\n"
     ]
    },
    {
     "data": {
      "application/3dmoljs_load.v0": "<div id=\"3dmolviewer_17506338272738729\"  style=\"position: relative; width: 640px; height: 480px;\">\n        <p id=\"3dmolwarning_17506338272738729\" style=\"background-color:#ffcccc;color:black\">3Dmol.js failed to load for some reason.  Please check your browser console for error messages.<br></p>\n        </div>\n<script>\n\nvar loadScriptAsync = function(uri){\n  return new Promise((resolve, reject) => {\n    //this is to ignore the existence of requirejs amd\n    var savedexports, savedmodule;\n    if (typeof exports !== 'undefined') savedexports = exports;\n    else exports = {}\n    if (typeof module !== 'undefined') savedmodule = module;\n    else module = {}\n\n    var tag = document.createElement('script');\n    tag.src = uri;\n    tag.async = true;\n    tag.onload = () => {\n        exports = savedexports;\n        module = savedmodule;\n        resolve();\n    };\n  var firstScriptTag = document.getElementsByTagName('script')[0];\n  firstScriptTag.parentNode.insertBefore(tag, firstScriptTag);\n});\n};\n\nif(typeof $3Dmolpromise === 'undefined') {\n$3Dmolpromise = null;\n  $3Dmolpromise = loadScriptAsync('https://cdnjs.cloudflare.com/ajax/libs/3Dmol/2.1.0/3Dmol-min.js');\n}\n\nvar viewer_17506338272738729 = null;\nvar warn = document.getElementById(\"3dmolwarning_17506338272738729\");\nif(warn) {\n    warn.parentNode.removeChild(warn);\n}\n$3Dmolpromise.then(function() {\nviewer_17506338272738729 = $3Dmol.createViewer(document.getElementById(\"3dmolviewer_17506338272738729\"),{backgroundColor:\"white\"});\nviewer_17506338272738729.zoomTo();\n\tviewer_17506338272738729.addModel(\"\\n     RDKit          3D\\n\\n  3  2  0  0  0  0  0  0  0  0999 V2000\\n   -1.2373   -0.7338    0.0000 O   0  0  0  0  0  0  0  0  0  0  0  0\\n   -0.0000   -0.7103    0.0000 C   0  0  0  0  0  0  0  0  0  0  0  0\\n    1.2373   -0.6867    0.0000 O   0  0  0  0  0  0  0  0  0  0  0  0\\n  1  2  2  0\\n  2  3  2  0\\nM  END\\n\",\"mol\");\n\tviewer_17506338272738729.setStyle({\"stick\": {}});\n\tviewer_17506338272738729.zoomTo();\nviewer_17506338272738729.render();\n});\n</script>",
      "text/html": [
       "<div id=\"3dmolviewer_17506338272738729\"  style=\"position: relative; width: 640px; height: 480px;\">\n",
       "        <p id=\"3dmolwarning_17506338272738729\" style=\"background-color:#ffcccc;color:black\">3Dmol.js failed to load for some reason.  Please check your browser console for error messages.<br></p>\n",
       "        </div>\n",
       "<script>\n",
       "\n",
       "var loadScriptAsync = function(uri){\n",
       "  return new Promise((resolve, reject) => {\n",
       "    //this is to ignore the existence of requirejs amd\n",
       "    var savedexports, savedmodule;\n",
       "    if (typeof exports !== 'undefined') savedexports = exports;\n",
       "    else exports = {}\n",
       "    if (typeof module !== 'undefined') savedmodule = module;\n",
       "    else module = {}\n",
       "\n",
       "    var tag = document.createElement('script');\n",
       "    tag.src = uri;\n",
       "    tag.async = true;\n",
       "    tag.onload = () => {\n",
       "        exports = savedexports;\n",
       "        module = savedmodule;\n",
       "        resolve();\n",
       "    };\n",
       "  var firstScriptTag = document.getElementsByTagName('script')[0];\n",
       "  firstScriptTag.parentNode.insertBefore(tag, firstScriptTag);\n",
       "});\n",
       "};\n",
       "\n",
       "if(typeof $3Dmolpromise === 'undefined') {\n",
       "$3Dmolpromise = null;\n",
       "  $3Dmolpromise = loadScriptAsync('https://cdnjs.cloudflare.com/ajax/libs/3Dmol/2.1.0/3Dmol-min.js');\n",
       "}\n",
       "\n",
       "var viewer_17506338272738729 = null;\n",
       "var warn = document.getElementById(\"3dmolwarning_17506338272738729\");\n",
       "if(warn) {\n",
       "    warn.parentNode.removeChild(warn);\n",
       "}\n",
       "$3Dmolpromise.then(function() {\n",
       "viewer_17506338272738729 = $3Dmol.createViewer(document.getElementById(\"3dmolviewer_17506338272738729\"),{backgroundColor:\"white\"});\n",
       "viewer_17506338272738729.zoomTo();\n",
       "\tviewer_17506338272738729.addModel(\"\\n     RDKit          3D\\n\\n  3  2  0  0  0  0  0  0  0  0999 V2000\\n   -1.2373   -0.7338    0.0000 O   0  0  0  0  0  0  0  0  0  0  0  0\\n   -0.0000   -0.7103    0.0000 C   0  0  0  0  0  0  0  0  0  0  0  0\\n    1.2373   -0.6867    0.0000 O   0  0  0  0  0  0  0  0  0  0  0  0\\n  1  2  2  0\\n  2  3  2  0\\nM  END\\n\",\"mol\");\n",
       "\tviewer_17506338272738729.setStyle({\"stick\": {}});\n",
       "\tviewer_17506338272738729.zoomTo();\n",
       "viewer_17506338272738729.render();\n",
       "});\n",
       "</script>"
      ]
     },
     "metadata": {},
     "output_type": "display_data"
    }
   ],
   "source": [
    "examples = {\n",
    "    'Water'   : 'O',        # H2O after AddHs\n",
    "    'Ammonia' : 'N',        # NH3\n",
    "    'Carbon dioxide': 'O=C=O'\n",
    "}\n",
    "\n",
    "for name, smi in examples.items():\n",
    "    mol = Chem.AddHs(Chem.MolFromSmiles(smi))\n",
    "    central = max(\n",
    "        (a for a in mol.GetAtoms() if a.GetSymbol() != \"H\"),\n",
    "        key=lambda a: a.GetTotalDegree()\n",
    "    ) \n",
    "    sn, lps = steric_and_lps(central)\n",
    "    geom = geometry_from_counts(sn, lps)\n",
    "    print(f'{name:<15s} → steric {sn}, lone pairs {lps} ⇒ {geom}')\n",
    "    show_3d(mol)\n"
   ]
  },
  {
   "cell_type": "markdown",
   "id": "6c9a4dc7",
   "metadata": {},
   "source": [
    "## Your Turn 📝\n",
    "1. Choose **three** molecules with a single obvious central atom (e.g. *BF₃*, *XeF₂*, *IF₅*).\n",
    "2. Use `steric_and_lps` and `geometry_from_counts` to predict their geometries.\n",
    "3. Verify visually with the 3‑D model.\n",
    "\n",
    "*(Tip: Add explicit hydrogens with `Chem.AddHs`.)*"
   ]
  },
  {
   "cell_type": "code",
   "execution_count": 5,
   "id": "7d412d6b",
   "metadata": {},
   "outputs": [
    {
     "name": "stdout",
     "output_type": "stream",
     "text": [
      "   F[B-](F)(F)F → steric 4, LP 3 ⇒ unknown\n",
      "     ClI(F)(F)F → steric 4, LP 3 ⇒ unknown\n"
     ]
    }
   ],
   "source": [
    "# TODO 1: Replace with your own SMILES strings\n",
    "my_smiles = ['F[B-](F)(F)F', 'ClI(F)(F)F']  # ← EDIT ME\n",
    "\n",
    "for smi in my_smiles:\n",
    "    mol = Chem.AddHs(Chem.MolFromSmiles(smi))\n",
    "    # TODO 2: Select the central atom wisely (maybe the least electronegative?)\n",
    "    central = mol.GetAtomWithIdx(0)  # ← You might need smarter logic!\n",
    "    sn, lps = steric_and_lps(central)\n",
    "    geom = geometry_from_counts(sn, lps)\n",
    "    print(f'{smi:>15s} → steric {sn}, LP {lps} ⇒ {geom}')\n",
    "    # TODO 3: Visualise the structure\n",
    "    pass\n"
   ]
  },
  {
   "cell_type": "markdown",
   "id": "8f13edca",
   "metadata": {},
   "source": [
    "### Challenge: Automate Central‑Atom Detection\n",
    "Write a function that *automatically* finds the most likely central atom (hint: often the atom that can form the most bonds or is least electronegative among non‑hydrogen atoms)."
   ]
  },
  {
   "cell_type": "code",
   "execution_count": 6,
   "id": "bcdc0a6d",
   "metadata": {},
   "outputs": [],
   "source": [
    "def find_central_atom(mol):\n",
    "    \"\"\"Return the atom idx most likely to be central.\n",
    "    Currently a stub – improve me!\"\"\"\n",
    "    # TODO 4: Implement heuristic\n",
    "    return 0\n"
   ]
  },
  {
   "cell_type": "markdown",
   "id": "f0ab646f",
   "metadata": {},
   "source": [
    "## Summary & Next Steps\n",
    "- **VSEPR** uses steric number + lone pairs to predict molecular geometry.\n",
    "- Programmatic prediction lets you screen many molecules quickly.\n",
    "- Enhance accuracy by refining lone‑pair counting and central‑atom detection.\n",
    "\n",
    "> **Extension:** Combine this approach with web APIs (PubChem, Materials Project) to build a database of predicted geometries."
   ]
  }
 ],
 "metadata": {
  "kernelspec": {
   "display_name": "molssi-actcms-test",
   "language": "python",
   "name": "python3"
  },
  "language_info": {
   "codemirror_mode": {
    "name": "ipython",
    "version": 3
   },
   "file_extension": ".py",
   "mimetype": "text/x-python",
   "name": "python",
   "nbconvert_exporter": "python",
   "pygments_lexer": "ipython3",
   "version": "3.11.9"
  }
 },
 "nbformat": 4,
 "nbformat_minor": 5
}
