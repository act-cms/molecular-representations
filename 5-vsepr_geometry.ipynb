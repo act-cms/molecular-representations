{
 "cells": [
  {
   "cell_type": "markdown",
   "id": "6454b76c",
   "metadata": {},
   "source": [
    "# VSEPR Geometry Predictor 🧮🔺\n",
    "\n",
    "*General Chemistry & Cyberinfrastructure Skills Module*"
   ]
  },
  {
   "cell_type": "markdown",
   "id": "96bd4b94",
   "metadata": {},
   "source": [
    "### Warm‑Up Questions\n",
    "\n",
    "**WQ‑1.** What does **VSEPR** stand for, and what is the fundamental principle behind this theory? How does it differ from hybridisation theory?\n",
    "\n",
    "<span style=\"color:cyan\"><strong>Free response:</strong> YOUR RESPONSE TEXT HERE </span>\n",
    "\n",
    "**WQ‑2.** Why do lone pairs take up more space around an atom than bonding pairs? How does this affect molecular geometry?\n",
    "\n",
    "<span style=\"color:cyan\"><strong>Free response:</strong> YOUR RESPONSE TEXT HERE </span>\n"
   ]
  },
  {
   "cell_type": "markdown",
   "id": "355fd209",
   "metadata": {},
   "source": [
    "## Learning Objective\n",
    "Predict the **molecular geometry** of simple molecules using **VSEPR (Valence‑Shell Electron‑Pair Repulsion) theory**."
   ]
  },
  {
   "cell_type": "markdown",
   "id": "28c31b21",
   "metadata": {},
   "source": [
    "## Prerequisites\n",
    "- Python ≥ 3.8\n",
    "- **RDKit** for molecular parsing\n",
    "- *(Optional)* **py3Dmol** for 3‑D visualisation\n",
    "\n",
    "If you’re on Google Colab, run the install cell below first."
   ]
  },
  {
   "cell_type": "code",
   "execution_count": null,
   "id": "6b5a33c1",
   "metadata": {},
   "outputs": [],
   "source": [
    "# !pip install rdkit-pypi py3Dmol -q  # ← Uncomment on first run \n",
    "\n",
    "from rdkit import Chem\n",
    "from rdkit.Chem import AllChem\n",
    "\n",
    "try:\n",
    "    import py3Dmol\n",
    "    def show_3d(mol):\n",
    "        m2 = Chem.AddHs(mol)\n",
    "        AllChem.EmbedMolecule(m2, randomSeed=0xC0FFEE)\n",
    "        AllChem.UFFOptimizeMolecule(m2)\n",
    "        mb = Chem.MolToMolBlock(m2)\n",
    "        v = py3Dmol.view()\n",
    "        v.addModel(mb, 'mol')\n",
    "        v.setStyle({'stick': {}})\n",
    "        v.zoomTo()\n",
    "        return v.show()\n",
    "except ModuleNotFoundError:\n",
    "    def show_3d(_):\n",
    "        print('Install py3Dmol for 3‑D visualisation.')\n"
   ]
  },
  {
   "cell_type": "markdown",
   "id": "6ef82f2f",
   "metadata": {},
   "source": [
    "## Quick Concept Check 🔍\n",
    "VSEPR predicts geometry from two key numbers for the **central atom**:\n",
    "1. **Steric number** = σ‑bonds + lone‑pairs.\n",
    "2. Number of **lone pairs**.\n",
    "\n",
    "| Steric # | Lone pairs | Electron‑pair geometry | **Molecular geometry** |\n",
    "|:--------:|:----------:|------------------------|------------------------|\n",
    "| 2 | 0 | Linear | Linear |\n",
    "| 3 | 0 | Trigonal planar | Trigonal planar |\n",
    "| 3 | 1 | Trigonal planar | Bent (∼120°) |\n",
    "| 4 | 0 | Tetrahedral | Tetrahedral |\n",
    "| 4 | 1 | Tetrahedral | Trigonal pyramidal |\n",
    "| 4 | 2 | Tetrahedral | Bent (∼109°) |\n",
    "| 5 | 0 | Trigonal bipyramidal | Trigonal bipyramidal |\n",
    "| 5 | 1 | Trigonal bipyramidal | Seesaw |\n",
    "| 5 | 2 | Trigonal bipyramidal | T‑shaped |\n",
    "| 5 | 3 | Trigonal bipyramidal | Linear |\n",
    "| 6 | 0 | Octahedral | Octahedral |\n",
    "| 6 | 1 | Octahedral | Square pyramidal |\n",
    "| 6 | 2 | Octahedral | Square planar |"
   ]
  },
  {
   "cell_type": "code",
   "execution_count": null,
   "id": "e93db206",
   "metadata": {},
   "outputs": [],
   "source": [
    "GEOM_MAP = {\n",
    "    (2, 0): 'linear',\n",
    "    (3, 0): 'trigonal planar',\n",
    "    (3, 1): 'bent (120°)',\n",
    "    (4, 0): 'tetrahedral',\n",
    "    (4, 1): 'trigonal pyramidal',\n",
    "    (4, 2): 'bent (109°)',\n",
    "    (5, 0): 'trigonal bipyramidal',\n",
    "    (5, 1): 'seesaw',\n",
    "    (5, 2): 'T-shaped',\n",
    "    (5, 3): 'linear',\n",
    "    (6, 0): 'octahedral',\n",
    "    (6, 1): 'square pyramidal',\n",
    "    (6, 2): 'square planar'\n",
    "}\n",
    "\n",
    "def geometry_from_counts(steric, lps):\n",
    "    \"\"\"Return geometry string or 'unknown'.\"\"\"\n",
    "    return GEOM_MAP.get((steric, lps), 'unknown')\n"
   ]
  },
  {
   "cell_type": "markdown",
   "id": "10efe720",
   "metadata": {},
   "source": [
    "### Helper: Count σ‑bonds & Lone Pairs\n",
    "RDKit stores **explicit** hydrogens and implicit valence; we’ll leverage that to estimate σ‑bonds and lone pairs."
   ]
  },
  {
   "cell_type": "code",
   "execution_count": null,
   "id": "a7c27612",
   "metadata": {},
   "outputs": [],
   "source": [
    "def steric_and_lps(atom):\n",
    "    \"\"\"Return (steric_number, lone_pairs) with improved calculation for formal charges.\"\"\"\n",
    "    VE = {'H':1,'B':3,'C':4,'N':5,'O':6,'F':7,'P':5,'S':6,'Cl':7,'Br':7,'I':7,'Xe':8}\n",
    "    sym = atom.GetSymbol()\n",
    "    ve = VE.get(sym, None)\n",
    "    if ve is None:\n",
    "        raise ValueError(f'Valence electrons unknown for {sym}')\n",
    "    \n",
    "    # Count σ bonds\n",
    "    sigma = atom.GetTotalDegree()\n",
    "    \n",
    "    # Improved calculation: account for formal charge properly\n",
    "    total_electrons = ve - atom.GetFormalCharge()  # Formal charge affects electron count\n",
    "    bond_order_sum = sum(b.GetBondTypeAsDouble() for b in atom.GetBonds())\n",
    "    \n",
    "    # Lone pairs = (total_electrons - electrons_used_in_bonds) / 2\n",
    "    electrons_used_in_bonds = int(bond_order_sum)\n",
    "    lps = max(0, (total_electrons - electrons_used_in_bonds) // 2)\n",
    "    \n",
    "    steric = sigma + lps\n",
    "    return steric, lps\n"
   ]
  },
  {
   "cell_type": "markdown",
   "id": "18cd969b",
   "metadata": {},
   "source": [
    "## Worked Examples\n",
    "We’ll predict geometries for three classic molecules."
   ]
  },
  {
   "cell_type": "code",
   "execution_count": null,
   "id": "fcdb16a9",
   "metadata": {},
   "outputs": [],
   "source": [
    "examples = {\n",
    "    'Water'   : 'O',        # H2O after AddHs\n",
    "    'Ammonia' : 'N',        # NH3\n",
    "    'Carbon dioxide': 'O=C=O'\n",
    "}\n",
    "\n",
    "for name, smi in examples.items():\n",
    "    mol = Chem.AddHs(Chem.MolFromSmiles(smi))\n",
    "    central = max(\n",
    "        (a for a in mol.GetAtoms() if a.GetSymbol() != \"H\"),\n",
    "        key=lambda a: a.GetTotalDegree()\n",
    "    ) \n",
    "    sn, lps = steric_and_lps(central)\n",
    "    geom = geometry_from_counts(sn, lps)\n",
    "    print(f'{name:<15s} → steric {sn}, lone pairs {lps} ⇒ {geom}')\n",
    "    show_3d(mol)\n"
   ]
  },
  {
   "cell_type": "markdown",
   "id": "6c9a4dc7",
   "metadata": {},
   "source": [
    "## Your Turn 📝\n",
    "1. Choose **three** molecules with a single obvious central atom (e.g. *BF₃*, *XeF₂*, *IF₅*).\n",
    "2. Use `steric_and_lps` and `geometry_from_counts` to predict their geometries.\n",
    "3. Verify visually with the 3‑D model.\n",
    "\n",
    "*(Tip: Add explicit hydrogens with `Chem.AddHs`.)*"
   ]
  },
  {
   "cell_type": "code",
   "execution_count": null,
   "id": "7d412d6b",
   "metadata": {},
   "outputs": [],
   "source": [
    "# TODO 1: Replace with your own SMILES strings\n",
    "my_smiles = ['B(F)(F)F']  # ← EDIT ME\n",
    "\n",
    "for smi in my_smiles:\n",
    "    mol = Chem.AddHs(Chem.MolFromSmiles(smi))\n",
    "    # TODO 2: Select the central atom wisely (maybe the least electronegative?)\n",
    "    central = mol.GetAtomWithIdx(0)  # ← You might need smarter logic!\n",
    "    sn, lps = steric_and_lps(central)\n",
    "    geom = geometry_from_counts(sn, lps)\n",
    "    print(f'{smi:>15s} → steric {sn}, LP {lps} ⇒ {geom}')\n",
    "    # Visualise the structure\n",
    "    show_3d(mol)\n"
   ]
  },
  {
   "cell_type": "markdown",
   "id": "fdea5fea",
   "metadata": {},
   "source": [
    "### Critical‑Thinking Questions\n",
    "\n",
    "**CTQ‑1.** Why might VSEPR theory **fail** for molecules with very large atoms or unusual bonding situations? Give an example where VSEPR predictions might not match experimental observations.\n",
    "\n",
    "<span style=\"color:cyan\"><strong>Free response:</strong> YOUR RESPONSE TEXT HERE </span>\n",
    "\n",
    "**CTQ‑2.** How does the presence of **lone pairs** affect the bond angles in a molecule? Why do lone pairs cause bond angles to be smaller than the ideal electron-pair geometry would suggest?\n",
    "\n",
    "<span style=\"color:cyan\"><strong>Free response:</strong> YOUR RESPONSE TEXT HERE </span>\n"
   ]
  },
  {
   "cell_type": "markdown",
   "id": "8dbb117f",
   "metadata": {},
   "source": [
    "### Challenge: Automate Central‑Atom Detection\n",
    "Write a function that *automatically* finds the most likely central atom (hint: often the atom that can form the most bonds or is least electronegative among non‑hydrogen atoms)."
   ]
  },
  {
   "cell_type": "code",
   "execution_count": null,
   "id": "bcdc0a6d",
   "metadata": {},
   "outputs": [],
   "source": [
    "def find_central_atom(mol):\n",
    "    \"\"\"Return the atom idx most likely to be central.\n",
    "    Currently a stub – improve me!\"\"\"\n",
    "    # TODO 4: Implement heuristic\n",
    "    return 0\n"
   ]
  },
  {
   "cell_type": "markdown",
   "id": "f0ab646f",
   "metadata": {},
   "source": [
    "## Summary & Next Steps\n",
    "- **VSEPR** uses steric number + lone pairs to predict molecular geometry.\n",
    "- Programmatic prediction lets you screen many molecules quickly.\n",
    "- Enhance accuracy by refining lone‑pair counting and central‑atom detection.\n",
    "\n",
    "> **Extension:** Combine this approach with web APIs (PubChem, Materials Project) to build a database of predicted geometries."
   ]
  }
 ],
 "metadata": {
  "kernelspec": {
   "display_name": "molssi-actcms-molecular-representations",
   "language": "python",
   "name": "python3"
  },
  "language_info": {
   "codemirror_mode": {
    "name": "ipython",
    "version": 3
   },
   "file_extension": ".py",
   "mimetype": "text/x-python",
   "name": "python",
   "nbconvert_exporter": "python",
   "pygments_lexer": "ipython3",
   "version": "3.11.9"
  }
 },
 "nbformat": 4,
 "nbformat_minor": 5
}
