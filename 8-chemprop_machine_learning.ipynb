{
 "cells": [
  {
   "cell_type": "markdown",
   "id": "eaf3e0ab",
   "metadata": {},
   "source": [
    "# Chemprop 2.x Pure‑Python Workflow on Colab 🚀\n",
    "\n",
    "*GPU‑Accelerated Graph Neural‑Network Regression Without the CLI*"
   ]
  },
  {
   "cell_type": "markdown",
   "id": "0891fea8",
   "metadata": {},
   "source": [
    "### Warm‑Up Questions\n",
    "\n",
    "**WQ‑1.** What is the main advantage of using **graph neural networks** for molecular property prediction compared to traditional machine learning approaches that use molecular descriptors?\n",
    "\n",
    "<span style=\"color:cyan\"><strong>Free response:</strong> YOUR RESPONSE TEXT HERE </span>\n",
    "\n",
    "**WQ‑2.** Why might **scaffold-balanced splitting** be important when training a machine learning model on chemical data? What problems could arise if you use random splitting instead?\n",
    "\n",
    "<span style=\"color:cyan\"><strong>Free response:</strong> YOUR RESPONSE TEXT HERE </span>\n"
   ]
  },
  {
   "cell_type": "markdown",
   "id": "6e760543",
   "metadata": {},
   "source": [
    "## Learning Objectives\n",
    "1. Use **Google Colab GPU** resources to train a Chemprop ≥ 2.0 model entirely from **Python code (no CLI flags)**.\n",
    "2. Make **test‑set predictions** and create a **parity plot** with `matplotlib` / `seaborn`."
   ]
  },
  {
   "cell_type": "markdown",
   "id": "5c7a07d8",
   "metadata": {},
   "source": [
    "## 0 — Runtime & GPU Check\n",
    "Make sure your Colab session uses a GPU (**Runtime → Change runtime type → GPU**)."
   ]
  },
  {
   "cell_type": "code",
   "execution_count": null,
   "id": "5ba76c75",
   "metadata": {},
   "outputs": [],
   "source": [
    "import torch, os, platform, sys\n",
    "print('PyTorch :', torch.__version__)\n",
    "print('CUDA?   :', torch.cuda.is_available())\n",
    "if torch.cuda.is_available():\n",
    "    print('Device  :', torch.cuda.get_device_name(0))\n",
    "else:\n",
    "    print('⚠️ Training will be CPU‑only (slow).')"
   ]
  },
  {
   "cell_type": "markdown",
   "id": "967e4d09",
   "metadata": {},
   "source": [
    "### Install Chemprop 2.x"
   ]
  },
  {
   "cell_type": "code",
   "execution_count": null,
   "id": "eb6b8309",
   "metadata": {},
   "outputs": [],
   "source": [
    "# !pip install --quiet 'chemprop>=2.0' "
   ]
  },
  {
   "cell_type": "markdown",
   "id": "c632ceb7",
   "metadata": {},
   "source": [
    "## 1 — Load the Delaney Solubility Dataset"
   ]
  },
  {
   "cell_type": "code",
   "execution_count": null,
   "id": "08a8f8e0",
   "metadata": {},
   "outputs": [],
   "source": [
    "import pandas as pd, requests, io, os, math, numpy as np\n",
    "url = 'https://raw.githubusercontent.com/deepchem/deepchem/master/datasets/delaney-processed.csv'\n",
    "df = pd.read_csv(io.StringIO(requests.get(url).text))\n",
    "df = df.rename(columns={'measured log solubility in mols per litre': 'solubility'})[['smiles','solubility']]\n",
    "data_path = 'delaney.csv'\n",
    "df.to_csv(data_path, index=False)\n",
    "df.head()"
   ]
  },
  {
   "cell_type": "markdown",
   "id": "4511fde7",
   "metadata": {},
   "source": [
    "## 2 — Scaffold‑Balanced Train/Val/Test Split"
   ]
  },
  {
   "cell_type": "code",
   "execution_count": null,
   "id": "83978885",
   "metadata": {},
   "outputs": [],
   "source": [
    "from rdkit import Chem\n",
    "from chemprop.data import MoleculeDatapoint, MoleculeDataset\n",
    "from chemprop.data.splitting import make_split_indices          # NEW ✅\n",
    "\n",
    "# ---- Build MoleculeDataset ----\n",
    "dataset = MoleculeDataset([\n",
    "    MoleculeDatapoint(smiles=[s], targets=[v])\n",
    "    for s, v in zip(df.smiles, df.solubility)\n",
    "])\n",
    "\n",
    "# ---- Generate scaffold-balanced indices ----\n",
    "mols = [Chem.MolFromSmiles(s) for s in df.smiles]               # RDKit molecules\n",
    "train_idx, val_idx, test_idx = make_split_indices(\n",
    "    mols,\n",
    "    split='scaffold_balanced',\n",
    "    sizes=(0.8, 0.1, 0.1),\n",
    "    seed=42\n",
    ")\n",
    "\n",
    "# ---- Slice the MoleculeDataset ----\n",
    "train = [dataset[i] for i in train_idx]\n",
    "val   = [dataset[i] for i in val_idx]\n",
    "test  = [dataset[i] for i in test_idx]\n",
    "\n",
    "print(len(train), len(val), len(test))"
   ]
  },
  {
   "cell_type": "markdown",
   "id": "60e1796b",
   "metadata": {},
   "source": [
    "## 3 — Train Chemprop (Python API Only)"
   ]
  },
  {
   "cell_type": "code",
   "execution_count": null,
   "id": "f39a4bb5",
   "metadata": {},
   "outputs": [],
   "source": [
    "from chemprop.args import TrainArgs\n",
    "from chemprop.train import run_training\n",
    "\n",
    "args = TrainArgs()\n",
    "# --- essential paths ---\n",
    "args.train_data_path = train_path\n",
    "args.val_data_path = val_path\n",
    "args.save_dir = 'chemprop_model_py'\n",
    "\n",
    "# --- basic settings ---\n",
    "args.dataset_type = 'regression'\n",
    "args.target_columns = ['solubility']\n",
    "args.epochs = 30\n",
    "args.batch_size = 32\n",
    "args.gpu = 0 if torch.cuda.is_available() else -1\n",
    "args.metric = 'rmse'\n",
    "# You can tweak more hyperparameters here, e.g. args.hidden_size, args.depth\n",
    "\n",
    "run_training(args)"
   ]
  },
  {
   "cell_type": "markdown",
   "id": "02c2e437",
   "metadata": {},
   "source": [
    "## 4 — Predict on Held‑out Test Set"
   ]
  },
  {
   "cell_type": "code",
   "execution_count": null,
   "id": "2dd783e4",
   "metadata": {},
   "outputs": [],
   "source": [
    "from chemprop.train import load_checkpoint, make_predictions\n",
    "from chemprop.args import PredictArgs\n",
    "\n",
    "# Find the best checkpoint saved during training\n",
    "ckpt_dir = args.save_dir\n",
    "checkpoint_path = os.path.join(ckpt_dir, 'model_0', 'model.pt')\n",
    "\n",
    "pred_args = PredictArgs()\n",
    "pred_args.test_path = test_path\n",
    "pred_args.checkpoint_paths = [checkpoint_path]\n",
    "preds = make_predictions(pred_args)\n",
    "\n",
    "# Combine predictions with truth\n",
    "test_df = pd.read_csv(test_path)\n",
    "test_df['pred'] = preds\n",
    "test_df.head()"
   ]
  },
  {
   "cell_type": "markdown",
   "id": "84248fea",
   "metadata": {},
   "source": [
    "## 5 — Visualise Parity Plot"
   ]
  },
  {
   "cell_type": "markdown",
   "id": "ecd7a1e6",
   "metadata": {},
   "source": [
    "### Auto‑Graded Checkpoints\n",
    "\n",
    "**Checkpoint CP‑1 (2 pts)** — Implement `calculate_rmse(y_true, y_pred)` that returns the root mean square error between true and predicted values.\n"
   ]
  },
  {
   "cell_type": "code",
   "execution_count": null,
   "id": "ed518f39",
   "metadata": {},
   "outputs": [],
   "source": [
    "### BEGIN SOLUTION\n",
    "import numpy as np\n",
    "\n",
    "def calculate_rmse(y_true, y_pred):\n",
    "    \"\"\"Calculate root mean square error.\"\"\"\n",
    "    return np.sqrt(np.mean((y_true - y_pred)**2))\n",
    "### END SOLUTION\n"
   ]
  },
  {
   "cell_type": "code",
   "execution_count": null,
   "id": "1f8251a3",
   "metadata": {},
   "outputs": [],
   "source": [
    "# hidden tests\n",
    "import numpy as np\n",
    "y_true = np.array([1, 2, 3, 4, 5])\n",
    "y_pred = np.array([1.1, 2.1, 2.9, 4.1, 4.9])\n",
    "rmse = calculate_rmse(y_true, y_pred)\n",
    "assert abs(rmse - 0.141) < 0.01  # approximately 0.141\n"
   ]
  },
  {
   "cell_type": "markdown",
   "id": "b0357b7a",
   "metadata": {},
   "source": [
    "**Checkpoint CP‑2 (3 pts)** — Implement `create_parity_plot_data(y_true, y_pred)` that returns a pandas DataFrame with columns 'true' and 'predicted' for creating parity plots.\n"
   ]
  },
  {
   "cell_type": "code",
   "execution_count": null,
   "id": "e317d862",
   "metadata": {},
   "outputs": [],
   "source": [
    "### BEGIN SOLUTION\n",
    "import pandas as pd\n",
    "import numpy as np\n",
    "\n",
    "def create_parity_plot_data(y_true, y_pred):\n",
    "    \"\"\"Create DataFrame for parity plot.\"\"\"\n",
    "    return pd.DataFrame({\n",
    "        'true': y_true,\n",
    "        'predicted': y_pred\n",
    "    })\n",
    "### END SOLUTION\n"
   ]
  },
  {
   "cell_type": "code",
   "execution_count": null,
   "id": "9509db42",
   "metadata": {},
   "outputs": [],
   "source": [
    "# hidden tests\n",
    "import pandas as pd\n",
    "import numpy as np\n",
    "y_true = np.array([1, 2, 3])\n",
    "y_pred = np.array([1.1, 2.1, 2.9])\n",
    "df = create_parity_plot_data(y_true, y_pred)\n",
    "assert len(df) == 3\n",
    "assert 'true' in df.columns\n",
    "assert 'predicted' in df.columns\n",
    "assert df['true'].iloc[0] == 1\n",
    "assert df['predicted'].iloc[0] == 1.1\n"
   ]
  },
  {
   "cell_type": "code",
   "execution_count": null,
   "id": "588313ae",
   "metadata": {},
   "outputs": [],
   "source": [
    "import matplotlib.pyplot as plt, seaborn as sns\n",
    "sns.set(style='ticks')\n",
    "\n",
    "plt.figure(figsize=(5,5))\n",
    "sns.scatterplot(x='solubility', y='pred', data=test_df)\n",
    "lims = [test_df[['solubility','pred']].min().min(), test_df[['solubility','pred']].max().max()]\n",
    "plt.plot(lims, lims, '--k')\n",
    "plt.xlabel('True log S')\n",
    "plt.ylabel('Predicted log S')\n",
    "plt.title('Chemprop 2.x Parity Plot (Python API)')\n",
    "plt.show()\n",
    "\n",
    "rmse = math.sqrt(((test_df.solubility - test_df.pred)**2).mean())\n",
    "print(f'RMSE : {rmse:.3f}')"
   ]
  },
  {
   "cell_type": "markdown",
   "id": "a1a3274a",
   "metadata": {},
   "source": [
    "### Critical‑Thinking Questions\n",
    "\n",
    "**CTQ‑1.** What are the potential **limitations** of using machine learning models for molecular property prediction? When might experimental validation still be necessary despite having a good-performing model?\n",
    "\n",
    "<span style=\"color:cyan\"><strong>Free response:</strong> YOUR RESPONSE TEXT HERE </span>\n"
   ]
  },
  {
   "cell_type": "markdown",
   "id": "24a207c3",
   "metadata": {},
   "source": [
    "## Your Turn 📝\n",
    "1. Swap in **your own dataset** (same columns: `smiles`, target).  \n",
    "2. Experiment with `args.hidden_size`, `args.depth`, `args.dropout`.  \n",
    "3. Try `args.ensemble_size = 5` for an ensemble model.  \n",
    "4. Create residual plots or error vs. molecular weight."
   ]
  }
 ],
 "metadata": {
  "kernelspec": {
   "display_name": "molssi-actcms-molecular-representations",
   "language": "python",
   "name": "python3"
  },
  "language_info": {
   "codemirror_mode": {
    "name": "ipython",
    "version": 3
   },
   "file_extension": ".py",
   "mimetype": "text/x-python",
   "name": "python",
   "nbconvert_exporter": "python",
   "pygments_lexer": "ipython3",
   "version": "3.11.9"
  }
 },
 "nbformat": 4,
 "nbformat_minor": 5
}
