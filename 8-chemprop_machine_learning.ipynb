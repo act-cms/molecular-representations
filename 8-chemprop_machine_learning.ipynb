{
 "cells": [
  {
   "cell_type": "markdown",
   "id": "eaf3e0ab",
   "metadata": {},
   "source": [
    "# Chemprop 2.x Pure‑Python Workflow on Colab 🚀\n",
    "\n",
    "*GPU‑Accelerated Graph Neural‑Network Regression Without the CLI*"
   ]
  },
  {
   "cell_type": "markdown",
   "id": "6e760543",
   "metadata": {},
   "source": [
    "## Learning Objectives\n",
    "1. Use **Google Colab GPU** resources to train a Chemprop ≥ 2.0 model entirely from **Python code (no CLI flags)**.\n",
    "2. Make **test‑set predictions** and create a **parity plot** with `matplotlib` / `seaborn`."
   ]
  },
  {
   "cell_type": "markdown",
   "id": "5c7a07d8",
   "metadata": {},
   "source": [
    "## 0 — Runtime & GPU Check\n",
    "Make sure your Colab session uses a GPU (**Runtime → Change runtime type → GPU**)."
   ]
  },
  {
   "cell_type": "code",
   "execution_count": 1,
   "id": "5ba76c75",
   "metadata": {},
   "outputs": [
    {
     "name": "stdout",
     "output_type": "stream",
     "text": [
      "PyTorch : 2.2.2\n",
      "CUDA?   : False\n",
      "⚠️ Training will be CPU‑only (slow).\n"
     ]
    }
   ],
   "source": [
    "import torch, os, platform, sys\n",
    "print('PyTorch :', torch.__version__)\n",
    "print('CUDA?   :', torch.cuda.is_available())\n",
    "if torch.cuda.is_available():\n",
    "    print('Device  :', torch.cuda.get_device_name(0))\n",
    "else:\n",
    "    print('⚠️ Training will be CPU‑only (slow).')"
   ]
  },
  {
   "cell_type": "markdown",
   "id": "967e4d09",
   "metadata": {},
   "source": [
    "### Install Chemprop 2.x"
   ]
  },
  {
   "cell_type": "code",
   "execution_count": 2,
   "id": "eb6b8309",
   "metadata": {},
   "outputs": [],
   "source": [
    "# !pip install --quiet 'chemprop>=2.0'"
   ]
  },
  {
   "cell_type": "markdown",
   "id": "c632ceb7",
   "metadata": {},
   "source": [
    "## 1 — Load the Delaney Solubility Dataset"
   ]
  },
  {
   "cell_type": "code",
   "execution_count": 3,
   "id": "08a8f8e0",
   "metadata": {},
   "outputs": [
    {
     "data": {
      "text/html": [
       "<div>\n",
       "<style scoped>\n",
       "    .dataframe tbody tr th:only-of-type {\n",
       "        vertical-align: middle;\n",
       "    }\n",
       "\n",
       "    .dataframe tbody tr th {\n",
       "        vertical-align: top;\n",
       "    }\n",
       "\n",
       "    .dataframe thead th {\n",
       "        text-align: right;\n",
       "    }\n",
       "</style>\n",
       "<table border=\"1\" class=\"dataframe\">\n",
       "  <thead>\n",
       "    <tr style=\"text-align: right;\">\n",
       "      <th></th>\n",
       "      <th>smiles</th>\n",
       "      <th>solubility</th>\n",
       "    </tr>\n",
       "  </thead>\n",
       "  <tbody>\n",
       "    <tr>\n",
       "      <th>0</th>\n",
       "      <td>OCC3OC(OCC2OC(OC(C#N)c1ccccc1)C(O)C(O)C2O)C(O)...</td>\n",
       "      <td>-0.77</td>\n",
       "    </tr>\n",
       "    <tr>\n",
       "      <th>1</th>\n",
       "      <td>Cc1occc1C(=O)Nc2ccccc2</td>\n",
       "      <td>-3.30</td>\n",
       "    </tr>\n",
       "    <tr>\n",
       "      <th>2</th>\n",
       "      <td>CC(C)=CCCC(C)=CC(=O)</td>\n",
       "      <td>-2.06</td>\n",
       "    </tr>\n",
       "    <tr>\n",
       "      <th>3</th>\n",
       "      <td>c1ccc2c(c1)ccc3c2ccc4c5ccccc5ccc43</td>\n",
       "      <td>-7.87</td>\n",
       "    </tr>\n",
       "    <tr>\n",
       "      <th>4</th>\n",
       "      <td>c1ccsc1</td>\n",
       "      <td>-1.33</td>\n",
       "    </tr>\n",
       "  </tbody>\n",
       "</table>\n",
       "</div>"
      ],
      "text/plain": [
       "                                              smiles  solubility\n",
       "0  OCC3OC(OCC2OC(OC(C#N)c1ccccc1)C(O)C(O)C2O)C(O)...       -0.77\n",
       "1                             Cc1occc1C(=O)Nc2ccccc2       -3.30\n",
       "2                               CC(C)=CCCC(C)=CC(=O)       -2.06\n",
       "3                 c1ccc2c(c1)ccc3c2ccc4c5ccccc5ccc43       -7.87\n",
       "4                                            c1ccsc1       -1.33"
      ]
     },
     "execution_count": 3,
     "metadata": {},
     "output_type": "execute_result"
    }
   ],
   "source": [
    "import pandas as pd, requests, io, os, math, numpy as np\n",
    "url = 'https://raw.githubusercontent.com/deepchem/deepchem/master/datasets/delaney-processed.csv'\n",
    "df = pd.read_csv(io.StringIO(requests.get(url).text))\n",
    "df = df.rename(columns={'measured log solubility in mols per litre': 'solubility'})[['smiles','solubility']]\n",
    "data_path = 'delaney.csv'\n",
    "df.to_csv(data_path, index=False)\n",
    "df.head()"
   ]
  },
  {
   "cell_type": "markdown",
   "id": "4511fde7",
   "metadata": {},
   "source": [
    "## 2 — Scaffold‑Balanced Train/Val/Test Split"
   ]
  },
  {
   "cell_type": "code",
   "execution_count": 5,
   "id": "83978885",
   "metadata": {},
   "outputs": [
    {
     "ename": "TypeError",
     "evalue": "MoleculeDatapoint.__init__() got an unexpected keyword argument 'smiles'",
     "output_type": "error",
     "traceback": [
      "\u001b[0;31m---------------------------------------------------------------------------\u001b[0m",
      "\u001b[0;31mTypeError\u001b[0m                                 Traceback (most recent call last)",
      "Cell \u001b[0;32mIn[5], line 6\u001b[0m\n\u001b[1;32m      3\u001b[0m \u001b[38;5;28;01mfrom\u001b[39;00m \u001b[38;5;21;01mchemprop\u001b[39;00m\u001b[38;5;21;01m.\u001b[39;00m\u001b[38;5;21;01mdata\u001b[39;00m\u001b[38;5;21;01m.\u001b[39;00m\u001b[38;5;21;01msplitting\u001b[39;00m \u001b[38;5;28;01mimport\u001b[39;00m make_split_indices          \u001b[38;5;66;03m# NEW ✅\u001b[39;00m\n\u001b[1;32m      5\u001b[0m \u001b[38;5;66;03m# ---- Build MoleculeDataset ----\u001b[39;00m\n\u001b[0;32m----> 6\u001b[0m dataset \u001b[38;5;241m=\u001b[39m MoleculeDataset(\u001b[43m[\u001b[49m\n\u001b[1;32m      7\u001b[0m \u001b[43m    \u001b[49m\u001b[43mMoleculeDatapoint\u001b[49m\u001b[43m(\u001b[49m\u001b[43msmiles\u001b[49m\u001b[38;5;241;43m=\u001b[39;49m\u001b[43m[\u001b[49m\u001b[43ms\u001b[49m\u001b[43m]\u001b[49m\u001b[43m,\u001b[49m\u001b[43m \u001b[49m\u001b[43mtargets\u001b[49m\u001b[38;5;241;43m=\u001b[39;49m\u001b[43m[\u001b[49m\u001b[43mv\u001b[49m\u001b[43m]\u001b[49m\u001b[43m)\u001b[49m\n\u001b[1;32m      8\u001b[0m \u001b[43m    \u001b[49m\u001b[38;5;28;43;01mfor\u001b[39;49;00m\u001b[43m \u001b[49m\u001b[43ms\u001b[49m\u001b[43m,\u001b[49m\u001b[43m \u001b[49m\u001b[43mv\u001b[49m\u001b[43m \u001b[49m\u001b[38;5;129;43;01min\u001b[39;49;00m\u001b[43m \u001b[49m\u001b[38;5;28;43mzip\u001b[39;49m\u001b[43m(\u001b[49m\u001b[43mdf\u001b[49m\u001b[38;5;241;43m.\u001b[39;49m\u001b[43msmiles\u001b[49m\u001b[43m,\u001b[49m\u001b[43m \u001b[49m\u001b[43mdf\u001b[49m\u001b[38;5;241;43m.\u001b[39;49m\u001b[43msolubility\u001b[49m\u001b[43m)\u001b[49m\n\u001b[1;32m      9\u001b[0m \u001b[43m]\u001b[49m)\n\u001b[1;32m     11\u001b[0m \u001b[38;5;66;03m# ---- Generate scaffold-balanced indices ----\u001b[39;00m\n\u001b[1;32m     12\u001b[0m mols \u001b[38;5;241m=\u001b[39m [Chem\u001b[38;5;241m.\u001b[39mMolFromSmiles(s) \u001b[38;5;28;01mfor\u001b[39;00m s \u001b[38;5;129;01min\u001b[39;00m df\u001b[38;5;241m.\u001b[39msmiles]               \u001b[38;5;66;03m# RDKit molecules\u001b[39;00m\n",
      "Cell \u001b[0;32mIn[5], line 7\u001b[0m, in \u001b[0;36m<listcomp>\u001b[0;34m(.0)\u001b[0m\n\u001b[1;32m      3\u001b[0m \u001b[38;5;28;01mfrom\u001b[39;00m \u001b[38;5;21;01mchemprop\u001b[39;00m\u001b[38;5;21;01m.\u001b[39;00m\u001b[38;5;21;01mdata\u001b[39;00m\u001b[38;5;21;01m.\u001b[39;00m\u001b[38;5;21;01msplitting\u001b[39;00m \u001b[38;5;28;01mimport\u001b[39;00m make_split_indices          \u001b[38;5;66;03m# NEW ✅\u001b[39;00m\n\u001b[1;32m      5\u001b[0m \u001b[38;5;66;03m# ---- Build MoleculeDataset ----\u001b[39;00m\n\u001b[1;32m      6\u001b[0m dataset \u001b[38;5;241m=\u001b[39m MoleculeDataset([\n\u001b[0;32m----> 7\u001b[0m     \u001b[43mMoleculeDatapoint\u001b[49m\u001b[43m(\u001b[49m\u001b[43msmiles\u001b[49m\u001b[38;5;241;43m=\u001b[39;49m\u001b[43m[\u001b[49m\u001b[43ms\u001b[49m\u001b[43m]\u001b[49m\u001b[43m,\u001b[49m\u001b[43m \u001b[49m\u001b[43mtargets\u001b[49m\u001b[38;5;241;43m=\u001b[39;49m\u001b[43m[\u001b[49m\u001b[43mv\u001b[49m\u001b[43m]\u001b[49m\u001b[43m)\u001b[49m\n\u001b[1;32m      8\u001b[0m     \u001b[38;5;28;01mfor\u001b[39;00m s, v \u001b[38;5;129;01min\u001b[39;00m \u001b[38;5;28mzip\u001b[39m(df\u001b[38;5;241m.\u001b[39msmiles, df\u001b[38;5;241m.\u001b[39msolubility)\n\u001b[1;32m      9\u001b[0m ])\n\u001b[1;32m     11\u001b[0m \u001b[38;5;66;03m# ---- Generate scaffold-balanced indices ----\u001b[39;00m\n\u001b[1;32m     12\u001b[0m mols \u001b[38;5;241m=\u001b[39m [Chem\u001b[38;5;241m.\u001b[39mMolFromSmiles(s) \u001b[38;5;28;01mfor\u001b[39;00m s \u001b[38;5;129;01min\u001b[39;00m df\u001b[38;5;241m.\u001b[39msmiles]               \u001b[38;5;66;03m# RDKit molecules\u001b[39;00m\n",
      "\u001b[0;31mTypeError\u001b[0m: MoleculeDatapoint.__init__() got an unexpected keyword argument 'smiles'"
     ]
    }
   ],
   "source": [
    "from rdkit import Chem\n",
    "from chemprop.data import MoleculeDatapoint, MoleculeDataset\n",
    "from chemprop.data.splitting import make_split_indices          # NEW ✅\n",
    "\n",
    "# ---- Build MoleculeDataset ----\n",
    "dataset = MoleculeDataset([\n",
    "    MoleculeDatapoint(smiles=[s], targets=[v])\n",
    "    for s, v in zip(df.smiles, df.solubility)\n",
    "])\n",
    "\n",
    "# ---- Generate scaffold-balanced indices ----\n",
    "mols = [Chem.MolFromSmiles(s) for s in df.smiles]               # RDKit molecules\n",
    "train_idx, val_idx, test_idx = make_split_indices(\n",
    "    mols,\n",
    "    split='scaffold_balanced',\n",
    "    sizes=(0.8, 0.1, 0.1),\n",
    "    seed=42\n",
    ")\n",
    "\n",
    "# ---- Slice the MoleculeDataset ----\n",
    "train = [dataset[i] for i in train_idx]\n",
    "val   = [dataset[i] for i in val_idx]\n",
    "test  = [dataset[i] for i in test_idx]\n",
    "\n",
    "print(len(train), len(val), len(test))"
   ]
  },
  {
   "cell_type": "markdown",
   "id": "60e1796b",
   "metadata": {},
   "source": [
    "## 3 — Train Chemprop (Python API Only)"
   ]
  },
  {
   "cell_type": "code",
   "execution_count": null,
   "id": "f39a4bb5",
   "metadata": {},
   "outputs": [],
   "source": [
    "from chemprop.args import TrainArgs\n",
    "from chemprop.train import run_training\n",
    "\n",
    "args = TrainArgs()\n",
    "# --- essential paths ---\n",
    "args.train_data_path = train_path\n",
    "args.val_data_path = val_path\n",
    "args.save_dir = 'chemprop_model_py'\n",
    "\n",
    "# --- basic settings ---\n",
    "args.dataset_type = 'regression'\n",
    "args.target_columns = ['solubility']\n",
    "args.epochs = 30\n",
    "args.batch_size = 32\n",
    "args.gpu = 0 if torch.cuda.is_available() else -1\n",
    "args.metric = 'rmse'\n",
    "# You can tweak more hyperparameters here, e.g. args.hidden_size, args.depth\n",
    "\n",
    "run_training(args)"
   ]
  },
  {
   "cell_type": "markdown",
   "id": "02c2e437",
   "metadata": {},
   "source": [
    "## 4 — Predict on Held‑out Test Set"
   ]
  },
  {
   "cell_type": "code",
   "execution_count": null,
   "id": "2dd783e4",
   "metadata": {},
   "outputs": [],
   "source": [
    "from chemprop.train import load_checkpoint, make_predictions\n",
    "from chemprop.args import PredictArgs\n",
    "\n",
    "# Find the best checkpoint saved during training\n",
    "ckpt_dir = args.save_dir\n",
    "checkpoint_path = os.path.join(ckpt_dir, 'model_0', 'model.pt')\n",
    "\n",
    "pred_args = PredictArgs()\n",
    "pred_args.test_path = test_path\n",
    "pred_args.checkpoint_paths = [checkpoint_path]\n",
    "preds = make_predictions(pred_args)\n",
    "\n",
    "# Combine predictions with truth\n",
    "test_df = pd.read_csv(test_path)\n",
    "test_df['pred'] = preds\n",
    "test_df.head()"
   ]
  },
  {
   "cell_type": "markdown",
   "id": "84248fea",
   "metadata": {},
   "source": [
    "## 5 — Visualise Parity Plot"
   ]
  },
  {
   "cell_type": "code",
   "execution_count": null,
   "id": "91409f4f",
   "metadata": {},
   "outputs": [],
   "source": [
    "import matplotlib.pyplot as plt, seaborn as sns\n",
    "sns.set(style='ticks')\n",
    "\n",
    "plt.figure(figsize=(5,5))\n",
    "sns.scatterplot(x='solubility', y='pred', data=test_df)\n",
    "lims = [test_df[['solubility','pred']].min().min(), test_df[['solubility','pred']].max().max()]\n",
    "plt.plot(lims, lims, '--k')\n",
    "plt.xlabel('True log S')\n",
    "plt.ylabel('Predicted log S')\n",
    "plt.title('Chemprop 2.x Parity Plot (Python API)')\n",
    "plt.show()\n",
    "\n",
    "rmse = math.sqrt(((test_df.solubility - test_df.pred)**2).mean())\n",
    "print(f'RMSE : {rmse:.3f}')"
   ]
  },
  {
   "cell_type": "markdown",
   "id": "24a207c3",
   "metadata": {},
   "source": [
    "## Your Turn 📝\n",
    "1. Swap in **your own dataset** (same columns: `smiles`, target).  \n",
    "2. Experiment with `args.hidden_size`, `args.depth`, `args.dropout`.  \n",
    "3. Try `args.ensemble_size = 5` for an ensemble model.  \n",
    "4. Create residual plots or error vs. molecular weight."
   ]
  }
 ],
 "metadata": {
  "kernelspec": {
   "display_name": "molssi-actcms-test",
   "language": "python",
   "name": "python3"
  },
  "language_info": {
   "codemirror_mode": {
    "name": "ipython",
    "version": 3
   },
   "file_extension": ".py",
   "mimetype": "text/x-python",
   "name": "python",
   "nbconvert_exporter": "python",
   "pygments_lexer": "ipython3",
   "version": "3.11.9"
  }
 },
 "nbformat": 4,
 "nbformat_minor": 5
}
