{
 "cells": [
  {
   "cell_type": "markdown",
   "id": "5c27770f",
   "metadata": {},
   "source": [
    "# Molecular Visualisation Toolkit 🎨🧬\n",
    "\n",
    "*General Chemistry & Cyberinfrastructure Skills Module*"
   ]
  },
  {
   "cell_type": "markdown",
   "id": "2d01c7b7",
   "metadata": {},
   "source": [
    "## Learning Objective\n",
    "Construct and **distinguish** between different molecular visualisations, including (but not limited to):\n",
    "- **Ball‑and‑stick**\n",
    "- **Space‑filling** (CPK)\n",
    "- **Line / wireframe**\n",
    "- **2‑D line drawing**\n",
    "- **Electron‑cloud / VDW surface**"
   ]
  },
  {
   "cell_type": "markdown",
   "id": "7abf8d4b",
   "metadata": {},
   "source": [
    "## Prerequisites\n",
    "- Python ≥ 3.8\n",
    "- **RDKit** for molecule parsing & 2‑D depictions\n",
    "- **py3Dmol** for interactive 3‑D\n",
    "\n",
    "On Google Colab, run the install cell below first."
   ]
  },
  {
   "cell_type": "code",
   "execution_count": 1,
   "id": "6c962c5a",
   "metadata": {},
   "outputs": [],
   "source": [
    "# !pip install rdkit-pypi py3Dmol -q   # ← Uncomment if needed\n",
    "\n",
    "from rdkit import Chem\n",
    "from rdkit.Chem import AllChem, Draw\n",
    "from rdkit.Chem.Draw import rdMolDraw2D\n",
    "try:\n",
    "    import py3Dmol\n",
    "except ModuleNotFoundError:\n",
    "    raise ModuleNotFoundError('Install py3Dmol to use this notebook!')"
   ]
  },
  {
   "cell_type": "code",
   "execution_count": 2,
   "id": "0d542e5a",
   "metadata": {},
   "outputs": [],
   "source": [
    "def embed_3d(mol):\n",
    "    \"\"\"Return a 3‑D conformation using RDKit ETKDG and UFF optimise.\"\"\"\n",
    "    m = Chem.AddHs(Chem.Mol(mol))\n",
    "    AllChem.EmbedMolecule(m, AllChem.ETKDG())\n",
    "    AllChem.UFFOptimizeMolecule(m)\n",
    "    return m\n",
    "\n",
    "def view_style(mol3d, style='stick'):\n",
    "    \"\"\"Show *mol3d* (with 3‑D coords) in chosen *style*.\"\"\"\n",
    "    block = Chem.MolToMolBlock(mol3d)\n",
    "    v = py3Dmol.view(width=400, height=300)\n",
    "    v.addModel(block, 'mol')\n",
    "    if style == 'surface':\n",
    "        v.setStyle({'stick':{'radius':0.15}})\n",
    "        v.addSurface(py3Dmol.VDW, {'opacity':0.7, 'color':'0x99ccff'})\n",
    "    else:\n",
    "        v.setStyle({style:{}})\n",
    "    v.zoomTo()\n",
    "    return v.show()\n"
   ]
  },
  {
   "cell_type": "markdown",
   "id": "988e1459",
   "metadata": {},
   "source": [
    "## Visualisation Styles at a Glance\n",
    "| Style | What it emphasises | Typical use |\n",
    "|-------|--------------------|--------------|\n",
    "| **Line / wireframe** | Connectivity (bonds), fastest to render | quick sketches, large biomolecules |\n",
    "| **Ball‑and‑stick** | Both atoms (balls) and bonds (sticks); shows angles | teaching geometry |\n",
    "| **Space‑filling (CPK)** | Atomic radii & overall molecular shape | packing, docking visualisation |\n",
    "| **Electron cloud / VDW surface** | Approx. electron density; cavities & pockets | reactivity, protein‑ligand fits |\n",
    "| **2‑D depiction** | Flat schematic | reports, publications |"
   ]
  },
  {
   "cell_type": "markdown",
   "id": "88bec538",
   "metadata": {},
   "source": [
    "## Worked Example — Caffeine ☕\n",
    "We’ll generate 2‑D and 3‑D views in multiple styles."
   ]
  },
  {
   "cell_type": "code",
   "execution_count": 3,
   "id": "800dbb43",
   "metadata": {},
   "outputs": [
    {
     "data": {
      "image/jpeg": "[encoded data removed]",
      "image/png": "[encoded data removed]",
      "text/plain": [
       "<PIL.PngImagePlugin.PngImageFile image mode=RGB size=250x200>"
      ]
     },
     "execution_count": 3,
     "metadata": {},
     "output_type": "execute_result"
    }
   ],
   "source": [
    "caffeine = Chem.MolFromSmiles('Cn1cnc2c1c(=O)n(C)c(=O)n2C')\n",
    "caff3d = embed_3d(caffeine)\n",
    "\n",
    "# 2‑D depiction\n",
    "Draw.MolToImage(caffeine, size=(250, 200))"
   ]
  },
  {
   "cell_type": "code",
   "execution_count": 4,
   "id": "8ccf59d0",
   "metadata": {},
   "outputs": [
    {
     "data": {
      "application/3dmoljs_load.v0": "<div id=\"3dmolviewer_1750708974303328\"  style=\"position: relative; width: 400px; height: 300px;\">\n        <p id=\"3dmolwarning_1750708974303328\" style=\"background-color:#ffcccc;color:black\">3Dmol.js failed to load for some reason.  Please check your browser console for error messages.<br></p>\n        </div>\n<script>\n\nvar loadScriptAsync = function(uri){\n  return new Promise((resolve, reject) => {\n    //this is to ignore the existence of requirejs amd\n    var savedexports, savedmodule;\n    if (typeof exports !== 'undefined') savedexports = exports;\n    else exports = {}\n    if (typeof module !== 'undefined') savedmodule = module;\n    else module = {}\n\n    var tag = document.createElement('script');\n    tag.src = uri;\n    tag.async = true;\n    tag.onload = () => {\n        exports = savedexports;\n        module = savedmodule;\n        resolve();\n    };\n  var firstScriptTag = document.getElementsByTagName('script')[0];\n  firstScriptTag.parentNode.insertBefore(tag, firstScriptTag);\n});\n};\n\nif(typeof $3Dmolpromise === 'undefined') {\n$3Dmolpromise = null;\n  $3Dmolpromise = loadScriptAsync('https://cdnjs.cloudflare.com/ajax/libs/3Dmol/2.1.0/3Dmol-min.js');\n}\n\nvar viewer_1750708974303328 = null;\nvar warn = document.getElementById(\"3dmolwarning_1750708974303328\");\nif(warn) {\n    warn.parentNode.removeChild(warn);\n}\n$3Dmolpromise.then(function() {\nviewer_1750708974303328 = $3Dmol.createViewer(document.getElementById(\"3dmolviewer_1750708974303328\"),{backgroundColor:\"white\"});\nviewer_1750708974303328.zoomTo();\n\tviewer_1750708974303328.addModel(\"\\n     RDKit          3D\\n\\n 24 25  0  0  0  0  0  0  0  0999 V2000\\n    3.3034    0.4700   -0.0316 C   0  0  0  0  0  0  0  0  0  0  0  0\\n    2.1199   -0.3833   -0.0065 N   0  0  0  0  0  0  0  0  0  0  0  0\\n    2.0910   -1.7385    0.0201 C   0  0  0  0  0  0  0  0  0  0  0  0\\n    0.8309   -2.2465    0.0200 N   0  0  0  0  0  0  0  0  0  0  0  0\\n    0.0615   -1.1393   -0.0058 C   0  0  0  0  0  0  0  0  0  0  0  0\\n    0.8256   -0.0236   -0.0246 C   0  0  0  0  0  0  0  0  0  0  0  0\\n    0.2367    1.2328   -0.0794 C   0  0  0  0  0  0  0  0  0  0  0  0\\n    0.9494    2.2731   -0.1181 O   0  0  0  0  0  0  0  0  0  0  0  0\\n   -1.1378    1.3070   -0.0997 N   0  0  0  0  0  0  0  0  0  0  0  0\\n   -1.7992    2.6190   -0.1952 C   0  0  0  0  0  0  0  0  0  0  0  0\\n   -1.8984    0.1487   -0.1098 C   0  0  0  0  0  0  0  0  0  0  0  0\\n   -3.1568    0.2254   -0.1964 O   0  0  0  0  0  0  0  0  0  0  0  0\\n   -1.2980   -1.0901   -0.0340 N   0  0  0  0  0  0  0  0  0  0  0  0\\n   -2.0938   -2.3243   -0.0677 C   0  0  0  0  0  0  0  0  0  0  0  0\\n    3.2877    1.1586    0.8390 H   0  0  0  0  0  0  0  0  0  0  0  0\\n    4.2268   -0.1453    0.0192 H   0  0  0  0  0  0  0  0  0  0  0  0\\n    3.3195    1.0601   -0.9718 H   0  0  0  0  0  0  0  0  0  0  0  0\\n    2.9785   -2.3581    0.0351 H   0  0  0  0  0  0  0  0  0  0  0  0\\n   -1.1921    3.4149    0.2866 H   0  0  0  0  0  0  0  0  0  0  0  0\\n   -1.9580    2.8787   -1.2630 H   0  0  0  0  0  0  0  0  0  0  0  0\\n   -2.7787    2.6123    0.3290 H   0  0  0  0  0  0  0  0  0  0  0  0\\n   -1.5398   -3.1747    0.3840 H   0  0  0  0  0  0  0  0  0  0  0  0\\n   -2.3468   -2.5750   -1.1193 H   0  0  0  0  0  0  0  0  0  0  0  0\\n   -3.0315   -2.2019    0.5154 H   0  0  0  0  0  0  0  0  0  0  0  0\\n  1  2  1  0\\n  2  3  1  0\\n  3  4  2  0\\n  4  5  1  0\\n  5  6  2  0\\n  6  7  1  0\\n  7  8  2  0\\n  7  9  1  0\\n  9 10  1  0\\n  9 11  1  0\\n 11 12  2  0\\n 11 13  1  0\\n 13 14  1  0\\n  6  2  1  0\\n 13  5  1  0\\n  1 15  1  0\\n  1 16  1  0\\n  1 17  1  0\\n  3 18  1  0\\n 10 19  1  0\\n 10 20  1  0\\n 10 21  1  0\\n 14 22  1  0\\n 14 23  1  0\\n 14 24  1  0\\nM  END\\n\",\"mol\");\n\tviewer_1750708974303328.setStyle({\"stick\": {}});\n\tviewer_1750708974303328.zoomTo();\nviewer_1750708974303328.render();\n});\n</script>",
      "text/html": [
       "<div id=\"3dmolviewer_1750708974303328\"  style=\"position: relative; width: 400px; height: 300px;\">\n",
       "        <p id=\"3dmolwarning_1750708974303328\" style=\"background-color:#ffcccc;color:black\">3Dmol.js failed to load for some reason.  Please check your browser console for error messages.<br></p>\n",
       "        </div>\n",
       "<script>\n",
       "\n",
       "var loadScriptAsync = function(uri){\n",
       "  return new Promise((resolve, reject) => {\n",
       "    //this is to ignore the existence of requirejs amd\n",
       "    var savedexports, savedmodule;\n",
       "    if (typeof exports !== 'undefined') savedexports = exports;\n",
       "    else exports = {}\n",
       "    if (typeof module !== 'undefined') savedmodule = module;\n",
       "    else module = {}\n",
       "\n",
       "    var tag = document.createElement('script');\n",
       "    tag.src = uri;\n",
       "    tag.async = true;\n",
       "    tag.onload = () => {\n",
       "        exports = savedexports;\n",
       "        module = savedmodule;\n",
       "        resolve();\n",
       "    };\n",
       "  var firstScriptTag = document.getElementsByTagName('script')[0];\n",
       "  firstScriptTag.parentNode.insertBefore(tag, firstScriptTag);\n",
       "});\n",
       "};\n",
       "\n",
       "if(typeof $3Dmolpromise === 'undefined') {\n",
       "$3Dmolpromise = null;\n",
       "  $3Dmolpromise = loadScriptAsync('https://cdnjs.cloudflare.com/ajax/libs/3Dmol/2.1.0/3Dmol-min.js');\n",
       "}\n",
       "\n",
       "var viewer_1750708974303328 = null;\n",
       "var warn = document.getElementById(\"3dmolwarning_1750708974303328\");\n",
       "if(warn) {\n",
       "    warn.parentNode.removeChild(warn);\n",
       "}\n",
       "$3Dmolpromise.then(function() {\n",
       "viewer_1750708974303328 = $3Dmol.createViewer(document.getElementById(\"3dmolviewer_1750708974303328\"),{backgroundColor:\"white\"});\n",
       "viewer_1750708974303328.zoomTo();\n",
       "\tviewer_1750708974303328.addModel(\"\\n     RDKit          3D\\n\\n 24 25  0  0  0  0  0  0  0  0999 V2000\\n    3.3034    0.4700   -0.0316 C   0  0  0  0  0  0  0  0  0  0  0  0\\n    2.1199   -0.3833   -0.0065 N   0  0  0  0  0  0  0  0  0  0  0  0\\n    2.0910   -1.7385    0.0201 C   0  0  0  0  0  0  0  0  0  0  0  0\\n    0.8309   -2.2465    0.0200 N   0  0  0  0  0  0  0  0  0  0  0  0\\n    0.0615   -1.1393   -0.0058 C   0  0  0  0  0  0  0  0  0  0  0  0\\n    0.8256   -0.0236   -0.0246 C   0  0  0  0  0  0  0  0  0  0  0  0\\n    0.2367    1.2328   -0.0794 C   0  0  0  0  0  0  0  0  0  0  0  0\\n    0.9494    2.2731   -0.1181 O   0  0  0  0  0  0  0  0  0  0  0  0\\n   -1.1378    1.3070   -0.0997 N   0  0  0  0  0  0  0  0  0  0  0  0\\n   -1.7992    2.6190   -0.1952 C   0  0  0  0  0  0  0  0  0  0  0  0\\n   -1.8984    0.1487   -0.1098 C   0  0  0  0  0  0  0  0  0  0  0  0\\n   -3.1568    0.2254   -0.1964 O   0  0  0  0  0  0  0  0  0  0  0  0\\n   -1.2980   -1.0901   -0.0340 N   0  0  0  0  0  0  0  0  0  0  0  0\\n   -2.0938   -2.3243   -0.0677 C   0  0  0  0  0  0  0  0  0  0  0  0\\n    3.2877    1.1586    0.8390 H   0  0  0  0  0  0  0  0  0  0  0  0\\n    4.2268   -0.1453    0.0192 H   0  0  0  0  0  0  0  0  0  0  0  0\\n    3.3195    1.0601   -0.9718 H   0  0  0  0  0  0  0  0  0  0  0  0\\n    2.9785   -2.3581    0.0351 H   0  0  0  0  0  0  0  0  0  0  0  0\\n   -1.1921    3.4149    0.2866 H   0  0  0  0  0  0  0  0  0  0  0  0\\n   -1.9580    2.8787   -1.2630 H   0  0  0  0  0  0  0  0  0  0  0  0\\n   -2.7787    2.6123    0.3290 H   0  0  0  0  0  0  0  0  0  0  0  0\\n   -1.5398   -3.1747    0.3840 H   0  0  0  0  0  0  0  0  0  0  0  0\\n   -2.3468   -2.5750   -1.1193 H   0  0  0  0  0  0  0  0  0  0  0  0\\n   -3.0315   -2.2019    0.5154 H   0  0  0  0  0  0  0  0  0  0  0  0\\n  1  2  1  0\\n  2  3  1  0\\n  3  4  2  0\\n  4  5  1  0\\n  5  6  2  0\\n  6  7  1  0\\n  7  8  2  0\\n  7  9  1  0\\n  9 10  1  0\\n  9 11  1  0\\n 11 12  2  0\\n 11 13  1  0\\n 13 14  1  0\\n  6  2  1  0\\n 13  5  1  0\\n  1 15  1  0\\n  1 16  1  0\\n  1 17  1  0\\n  3 18  1  0\\n 10 19  1  0\\n 10 20  1  0\\n 10 21  1  0\\n 14 22  1  0\\n 14 23  1  0\\n 14 24  1  0\\nM  END\\n\",\"mol\");\n",
       "\tviewer_1750708974303328.setStyle({\"stick\": {}});\n",
       "\tviewer_1750708974303328.zoomTo();\n",
       "viewer_1750708974303328.render();\n",
       "});\n",
       "</script>"
      ]
     },
     "metadata": {},
     "output_type": "display_data"
    }
   ],
   "source": [
    "# Ball‑and‑stick\n",
    "view_style(caff3d, 'stick')"
   ]
  },
  {
   "cell_type": "code",
   "execution_count": 5,
   "id": "464dff77",
   "metadata": {},
   "outputs": [
    {
     "data": {
      "application/3dmoljs_load.v0": "<div id=\"3dmolviewer_1750708974308958\"  style=\"position: relative; width: 400px; height: 300px;\">\n        <p id=\"3dmolwarning_1750708974308958\" style=\"background-color:#ffcccc;color:black\">3Dmol.js failed to load for some reason.  Please check your browser console for error messages.<br></p>\n        </div>\n<script>\n\nvar loadScriptAsync = function(uri){\n  return new Promise((resolve, reject) => {\n    //this is to ignore the existence of requirejs amd\n    var savedexports, savedmodule;\n    if (typeof exports !== 'undefined') savedexports = exports;\n    else exports = {}\n    if (typeof module !== 'undefined') savedmodule = module;\n    else module = {}\n\n    var tag = document.createElement('script');\n    tag.src = uri;\n    tag.async = true;\n    tag.onload = () => {\n        exports = savedexports;\n        module = savedmodule;\n        resolve();\n    };\n  var firstScriptTag = document.getElementsByTagName('script')[0];\n  firstScriptTag.parentNode.insertBefore(tag, firstScriptTag);\n});\n};\n\nif(typeof $3Dmolpromise === 'undefined') {\n$3Dmolpromise = null;\n  $3Dmolpromise = loadScriptAsync('https://cdnjs.cloudflare.com/ajax/libs/3Dmol/2.1.0/3Dmol-min.js');\n}\n\nvar viewer_1750708974308958 = null;\nvar warn = document.getElementById(\"3dmolwarning_1750708974308958\");\nif(warn) {\n    warn.parentNode.removeChild(warn);\n}\n$3Dmolpromise.then(function() {\nviewer_1750708974308958 = $3Dmol.createViewer(document.getElementById(\"3dmolviewer_1750708974308958\"),{backgroundColor:\"white\"});\nviewer_1750708974308958.zoomTo();\n\tviewer_1750708974308958.addModel(\"\\n     RDKit          3D\\n\\n 24 25  0  0  0  0  0  0  0  0999 V2000\\n    3.3034    0.4700   -0.0316 C   0  0  0  0  0  0  0  0  0  0  0  0\\n    2.1199   -0.3833   -0.0065 N   0  0  0  0  0  0  0  0  0  0  0  0\\n    2.0910   -1.7385    0.0201 C   0  0  0  0  0  0  0  0  0  0  0  0\\n    0.8309   -2.2465    0.0200 N   0  0  0  0  0  0  0  0  0  0  0  0\\n    0.0615   -1.1393   -0.0058 C   0  0  0  0  0  0  0  0  0  0  0  0\\n    0.8256   -0.0236   -0.0246 C   0  0  0  0  0  0  0  0  0  0  0  0\\n    0.2367    1.2328   -0.0794 C   0  0  0  0  0  0  0  0  0  0  0  0\\n    0.9494    2.2731   -0.1181 O   0  0  0  0  0  0  0  0  0  0  0  0\\n   -1.1378    1.3070   -0.0997 N   0  0  0  0  0  0  0  0  0  0  0  0\\n   -1.7992    2.6190   -0.1952 C   0  0  0  0  0  0  0  0  0  0  0  0\\n   -1.8984    0.1487   -0.1098 C   0  0  0  0  0  0  0  0  0  0  0  0\\n   -3.1568    0.2254   -0.1964 O   0  0  0  0  0  0  0  0  0  0  0  0\\n   -1.2980   -1.0901   -0.0340 N   0  0  0  0  0  0  0  0  0  0  0  0\\n   -2.0938   -2.3243   -0.0677 C   0  0  0  0  0  0  0  0  0  0  0  0\\n    3.2877    1.1586    0.8390 H   0  0  0  0  0  0  0  0  0  0  0  0\\n    4.2268   -0.1453    0.0192 H   0  0  0  0  0  0  0  0  0  0  0  0\\n    3.3195    1.0601   -0.9718 H   0  0  0  0  0  0  0  0  0  0  0  0\\n    2.9785   -2.3581    0.0351 H   0  0  0  0  0  0  0  0  0  0  0  0\\n   -1.1921    3.4149    0.2866 H   0  0  0  0  0  0  0  0  0  0  0  0\\n   -1.9580    2.8787   -1.2630 H   0  0  0  0  0  0  0  0  0  0  0  0\\n   -2.7787    2.6123    0.3290 H   0  0  0  0  0  0  0  0  0  0  0  0\\n   -1.5398   -3.1747    0.3840 H   0  0  0  0  0  0  0  0  0  0  0  0\\n   -2.3468   -2.5750   -1.1193 H   0  0  0  0  0  0  0  0  0  0  0  0\\n   -3.0315   -2.2019    0.5154 H   0  0  0  0  0  0  0  0  0  0  0  0\\n  1  2  1  0\\n  2  3  1  0\\n  3  4  2  0\\n  4  5  1  0\\n  5  6  2  0\\n  6  7  1  0\\n  7  8  2  0\\n  7  9  1  0\\n  9 10  1  0\\n  9 11  1  0\\n 11 12  2  0\\n 11 13  1  0\\n 13 14  1  0\\n  6  2  1  0\\n 13  5  1  0\\n  1 15  1  0\\n  1 16  1  0\\n  1 17  1  0\\n  3 18  1  0\\n 10 19  1  0\\n 10 20  1  0\\n 10 21  1  0\\n 14 22  1  0\\n 14 23  1  0\\n 14 24  1  0\\nM  END\\n\",\"mol\");\n\tviewer_1750708974308958.setStyle({\"sphere\": {}});\n\tviewer_1750708974308958.zoomTo();\nviewer_1750708974308958.render();\n});\n</script>",
      "text/html": [
       "<div id=\"3dmolviewer_1750708974308958\"  style=\"position: relative; width: 400px; height: 300px;\">\n",
       "        <p id=\"3dmolwarning_1750708974308958\" style=\"background-color:#ffcccc;color:black\">3Dmol.js failed to load for some reason.  Please check your browser console for error messages.<br></p>\n",
       "        </div>\n",
       "<script>\n",
       "\n",
       "var loadScriptAsync = function(uri){\n",
       "  return new Promise((resolve, reject) => {\n",
       "    //this is to ignore the existence of requirejs amd\n",
       "    var savedexports, savedmodule;\n",
       "    if (typeof exports !== 'undefined') savedexports = exports;\n",
       "    else exports = {}\n",
       "    if (typeof module !== 'undefined') savedmodule = module;\n",
       "    else module = {}\n",
       "\n",
       "    var tag = document.createElement('script');\n",
       "    tag.src = uri;\n",
       "    tag.async = true;\n",
       "    tag.onload = () => {\n",
       "        exports = savedexports;\n",
       "        module = savedmodule;\n",
       "        resolve();\n",
       "    };\n",
       "  var firstScriptTag = document.getElementsByTagName('script')[0];\n",
       "  firstScriptTag.parentNode.insertBefore(tag, firstScriptTag);\n",
       "});\n",
       "};\n",
       "\n",
       "if(typeof $3Dmolpromise === 'undefined') {\n",
       "$3Dmolpromise = null;\n",
       "  $3Dmolpromise = loadScriptAsync('https://cdnjs.cloudflare.com/ajax/libs/3Dmol/2.1.0/3Dmol-min.js');\n",
       "}\n",
       "\n",
       "var viewer_1750708974308958 = null;\n",
       "var warn = document.getElementById(\"3dmolwarning_1750708974308958\");\n",
       "if(warn) {\n",
       "    warn.parentNode.removeChild(warn);\n",
       "}\n",
       "$3Dmolpromise.then(function() {\n",
       "viewer_1750708974308958 = $3Dmol.createViewer(document.getElementById(\"3dmolviewer_1750708974308958\"),{backgroundColor:\"white\"});\n",
       "viewer_1750708974308958.zoomTo();\n",
       "\tviewer_1750708974308958.addModel(\"\\n     RDKit          3D\\n\\n 24 25  0  0  0  0  0  0  0  0999 V2000\\n    3.3034    0.4700   -0.0316 C   0  0  0  0  0  0  0  0  0  0  0  0\\n    2.1199   -0.3833   -0.0065 N   0  0  0  0  0  0  0  0  0  0  0  0\\n    2.0910   -1.7385    0.0201 C   0  0  0  0  0  0  0  0  0  0  0  0\\n    0.8309   -2.2465    0.0200 N   0  0  0  0  0  0  0  0  0  0  0  0\\n    0.0615   -1.1393   -0.0058 C   0  0  0  0  0  0  0  0  0  0  0  0\\n    0.8256   -0.0236   -0.0246 C   0  0  0  0  0  0  0  0  0  0  0  0\\n    0.2367    1.2328   -0.0794 C   0  0  0  0  0  0  0  0  0  0  0  0\\n    0.9494    2.2731   -0.1181 O   0  0  0  0  0  0  0  0  0  0  0  0\\n   -1.1378    1.3070   -0.0997 N   0  0  0  0  0  0  0  0  0  0  0  0\\n   -1.7992    2.6190   -0.1952 C   0  0  0  0  0  0  0  0  0  0  0  0\\n   -1.8984    0.1487   -0.1098 C   0  0  0  0  0  0  0  0  0  0  0  0\\n   -3.1568    0.2254   -0.1964 O   0  0  0  0  0  0  0  0  0  0  0  0\\n   -1.2980   -1.0901   -0.0340 N   0  0  0  0  0  0  0  0  0  0  0  0\\n   -2.0938   -2.3243   -0.0677 C   0  0  0  0  0  0  0  0  0  0  0  0\\n    3.2877    1.1586    0.8390 H   0  0  0  0  0  0  0  0  0  0  0  0\\n    4.2268   -0.1453    0.0192 H   0  0  0  0  0  0  0  0  0  0  0  0\\n    3.3195    1.0601   -0.9718 H   0  0  0  0  0  0  0  0  0  0  0  0\\n    2.9785   -2.3581    0.0351 H   0  0  0  0  0  0  0  0  0  0  0  0\\n   -1.1921    3.4149    0.2866 H   0  0  0  0  0  0  0  0  0  0  0  0\\n   -1.9580    2.8787   -1.2630 H   0  0  0  0  0  0  0  0  0  0  0  0\\n   -2.7787    2.6123    0.3290 H   0  0  0  0  0  0  0  0  0  0  0  0\\n   -1.5398   -3.1747    0.3840 H   0  0  0  0  0  0  0  0  0  0  0  0\\n   -2.3468   -2.5750   -1.1193 H   0  0  0  0  0  0  0  0  0  0  0  0\\n   -3.0315   -2.2019    0.5154 H   0  0  0  0  0  0  0  0  0  0  0  0\\n  1  2  1  0\\n  2  3  1  0\\n  3  4  2  0\\n  4  5  1  0\\n  5  6  2  0\\n  6  7  1  0\\n  7  8  2  0\\n  7  9  1  0\\n  9 10  1  0\\n  9 11  1  0\\n 11 12  2  0\\n 11 13  1  0\\n 13 14  1  0\\n  6  2  1  0\\n 13  5  1  0\\n  1 15  1  0\\n  1 16  1  0\\n  1 17  1  0\\n  3 18  1  0\\n 10 19  1  0\\n 10 20  1  0\\n 10 21  1  0\\n 14 22  1  0\\n 14 23  1  0\\n 14 24  1  0\\nM  END\\n\",\"mol\");\n",
       "\tviewer_1750708974308958.setStyle({\"sphere\": {}});\n",
       "\tviewer_1750708974308958.zoomTo();\n",
       "viewer_1750708974308958.render();\n",
       "});\n",
       "</script>"
      ]
     },
     "metadata": {},
     "output_type": "display_data"
    }
   ],
   "source": [
    "# Space‑filling (CPK)\n",
    "view_style(caff3d, 'sphere')"
   ]
  },
  {
   "cell_type": "code",
   "execution_count": 6,
   "id": "305a35f9",
   "metadata": {},
   "outputs": [
    {
     "data": {
      "application/3dmoljs_load.v0": "<div id=\"3dmolviewer_1750708974315555\"  style=\"position: relative; width: 400px; height: 300px;\">\n        <p id=\"3dmolwarning_1750708974315555\" style=\"background-color:#ffcccc;color:black\">3Dmol.js failed to load for some reason.  Please check your browser console for error messages.<br></p>\n        </div>\n<script>\n\nvar loadScriptAsync = function(uri){\n  return new Promise((resolve, reject) => {\n    //this is to ignore the existence of requirejs amd\n    var savedexports, savedmodule;\n    if (typeof exports !== 'undefined') savedexports = exports;\n    else exports = {}\n    if (typeof module !== 'undefined') savedmodule = module;\n    else module = {}\n\n    var tag = document.createElement('script');\n    tag.src = uri;\n    tag.async = true;\n    tag.onload = () => {\n        exports = savedexports;\n        module = savedmodule;\n        resolve();\n    };\n  var firstScriptTag = document.getElementsByTagName('script')[0];\n  firstScriptTag.parentNode.insertBefore(tag, firstScriptTag);\n});\n};\n\nif(typeof $3Dmolpromise === 'undefined') {\n$3Dmolpromise = null;\n  $3Dmolpromise = loadScriptAsync('https://cdnjs.cloudflare.com/ajax/libs/3Dmol/2.1.0/3Dmol-min.js');\n}\n\nvar viewer_1750708974315555 = null;\nvar warn = document.getElementById(\"3dmolwarning_1750708974315555\");\nif(warn) {\n    warn.parentNode.removeChild(warn);\n}\n$3Dmolpromise.then(function() {\nviewer_1750708974315555 = $3Dmol.createViewer(document.getElementById(\"3dmolviewer_1750708974315555\"),{backgroundColor:\"white\"});\nviewer_1750708974315555.zoomTo();\n\tviewer_1750708974315555.addModel(\"\\n     RDKit          3D\\n\\n 24 25  0  0  0  0  0  0  0  0999 V2000\\n    3.3034    0.4700   -0.0316 C   0  0  0  0  0  0  0  0  0  0  0  0\\n    2.1199   -0.3833   -0.0065 N   0  0  0  0  0  0  0  0  0  0  0  0\\n    2.0910   -1.7385    0.0201 C   0  0  0  0  0  0  0  0  0  0  0  0\\n    0.8309   -2.2465    0.0200 N   0  0  0  0  0  0  0  0  0  0  0  0\\n    0.0615   -1.1393   -0.0058 C   0  0  0  0  0  0  0  0  0  0  0  0\\n    0.8256   -0.0236   -0.0246 C   0  0  0  0  0  0  0  0  0  0  0  0\\n    0.2367    1.2328   -0.0794 C   0  0  0  0  0  0  0  0  0  0  0  0\\n    0.9494    2.2731   -0.1181 O   0  0  0  0  0  0  0  0  0  0  0  0\\n   -1.1378    1.3070   -0.0997 N   0  0  0  0  0  0  0  0  0  0  0  0\\n   -1.7992    2.6190   -0.1952 C   0  0  0  0  0  0  0  0  0  0  0  0\\n   -1.8984    0.1487   -0.1098 C   0  0  0  0  0  0  0  0  0  0  0  0\\n   -3.1568    0.2254   -0.1964 O   0  0  0  0  0  0  0  0  0  0  0  0\\n   -1.2980   -1.0901   -0.0340 N   0  0  0  0  0  0  0  0  0  0  0  0\\n   -2.0938   -2.3243   -0.0677 C   0  0  0  0  0  0  0  0  0  0  0  0\\n    3.2877    1.1586    0.8390 H   0  0  0  0  0  0  0  0  0  0  0  0\\n    4.2268   -0.1453    0.0192 H   0  0  0  0  0  0  0  0  0  0  0  0\\n    3.3195    1.0601   -0.9718 H   0  0  0  0  0  0  0  0  0  0  0  0\\n    2.9785   -2.3581    0.0351 H   0  0  0  0  0  0  0  0  0  0  0  0\\n   -1.1921    3.4149    0.2866 H   0  0  0  0  0  0  0  0  0  0  0  0\\n   -1.9580    2.8787   -1.2630 H   0  0  0  0  0  0  0  0  0  0  0  0\\n   -2.7787    2.6123    0.3290 H   0  0  0  0  0  0  0  0  0  0  0  0\\n   -1.5398   -3.1747    0.3840 H   0  0  0  0  0  0  0  0  0  0  0  0\\n   -2.3468   -2.5750   -1.1193 H   0  0  0  0  0  0  0  0  0  0  0  0\\n   -3.0315   -2.2019    0.5154 H   0  0  0  0  0  0  0  0  0  0  0  0\\n  1  2  1  0\\n  2  3  1  0\\n  3  4  2  0\\n  4  5  1  0\\n  5  6  2  0\\n  6  7  1  0\\n  7  8  2  0\\n  7  9  1  0\\n  9 10  1  0\\n  9 11  1  0\\n 11 12  2  0\\n 11 13  1  0\\n 13 14  1  0\\n  6  2  1  0\\n 13  5  1  0\\n  1 15  1  0\\n  1 16  1  0\\n  1 17  1  0\\n  3 18  1  0\\n 10 19  1  0\\n 10 20  1  0\\n 10 21  1  0\\n 14 22  1  0\\n 14 23  1  0\\n 14 24  1  0\\nM  END\\n\",\"mol\");\n\tviewer_1750708974315555.setStyle({\"line\": {}});\n\tviewer_1750708974315555.zoomTo();\nviewer_1750708974315555.render();\n});\n</script>",
      "text/html": [
       "<div id=\"3dmolviewer_1750708974315555\"  style=\"position: relative; width: 400px; height: 300px;\">\n",
       "        <p id=\"3dmolwarning_1750708974315555\" style=\"background-color:#ffcccc;color:black\">3Dmol.js failed to load for some reason.  Please check your browser console for error messages.<br></p>\n",
       "        </div>\n",
       "<script>\n",
       "\n",
       "var loadScriptAsync = function(uri){\n",
       "  return new Promise((resolve, reject) => {\n",
       "    //this is to ignore the existence of requirejs amd\n",
       "    var savedexports, savedmodule;\n",
       "    if (typeof exports !== 'undefined') savedexports = exports;\n",
       "    else exports = {}\n",
       "    if (typeof module !== 'undefined') savedmodule = module;\n",
       "    else module = {}\n",
       "\n",
       "    var tag = document.createElement('script');\n",
       "    tag.src = uri;\n",
       "    tag.async = true;\n",
       "    tag.onload = () => {\n",
       "        exports = savedexports;\n",
       "        module = savedmodule;\n",
       "        resolve();\n",
       "    };\n",
       "  var firstScriptTag = document.getElementsByTagName('script')[0];\n",
       "  firstScriptTag.parentNode.insertBefore(tag, firstScriptTag);\n",
       "});\n",
       "};\n",
       "\n",
       "if(typeof $3Dmolpromise === 'undefined') {\n",
       "$3Dmolpromise = null;\n",
       "  $3Dmolpromise = loadScriptAsync('https://cdnjs.cloudflare.com/ajax/libs/3Dmol/2.1.0/3Dmol-min.js');\n",
       "}\n",
       "\n",
       "var viewer_1750708974315555 = null;\n",
       "var warn = document.getElementById(\"3dmolwarning_1750708974315555\");\n",
       "if(warn) {\n",
       "    warn.parentNode.removeChild(warn);\n",
       "}\n",
       "$3Dmolpromise.then(function() {\n",
       "viewer_1750708974315555 = $3Dmol.createViewer(document.getElementById(\"3dmolviewer_1750708974315555\"),{backgroundColor:\"white\"});\n",
       "viewer_1750708974315555.zoomTo();\n",
       "\tviewer_1750708974315555.addModel(\"\\n     RDKit          3D\\n\\n 24 25  0  0  0  0  0  0  0  0999 V2000\\n    3.3034    0.4700   -0.0316 C   0  0  0  0  0  0  0  0  0  0  0  0\\n    2.1199   -0.3833   -0.0065 N   0  0  0  0  0  0  0  0  0  0  0  0\\n    2.0910   -1.7385    0.0201 C   0  0  0  0  0  0  0  0  0  0  0  0\\n    0.8309   -2.2465    0.0200 N   0  0  0  0  0  0  0  0  0  0  0  0\\n    0.0615   -1.1393   -0.0058 C   0  0  0  0  0  0  0  0  0  0  0  0\\n    0.8256   -0.0236   -0.0246 C   0  0  0  0  0  0  0  0  0  0  0  0\\n    0.2367    1.2328   -0.0794 C   0  0  0  0  0  0  0  0  0  0  0  0\\n    0.9494    2.2731   -0.1181 O   0  0  0  0  0  0  0  0  0  0  0  0\\n   -1.1378    1.3070   -0.0997 N   0  0  0  0  0  0  0  0  0  0  0  0\\n   -1.7992    2.6190   -0.1952 C   0  0  0  0  0  0  0  0  0  0  0  0\\n   -1.8984    0.1487   -0.1098 C   0  0  0  0  0  0  0  0  0  0  0  0\\n   -3.1568    0.2254   -0.1964 O   0  0  0  0  0  0  0  0  0  0  0  0\\n   -1.2980   -1.0901   -0.0340 N   0  0  0  0  0  0  0  0  0  0  0  0\\n   -2.0938   -2.3243   -0.0677 C   0  0  0  0  0  0  0  0  0  0  0  0\\n    3.2877    1.1586    0.8390 H   0  0  0  0  0  0  0  0  0  0  0  0\\n    4.2268   -0.1453    0.0192 H   0  0  0  0  0  0  0  0  0  0  0  0\\n    3.3195    1.0601   -0.9718 H   0  0  0  0  0  0  0  0  0  0  0  0\\n    2.9785   -2.3581    0.0351 H   0  0  0  0  0  0  0  0  0  0  0  0\\n   -1.1921    3.4149    0.2866 H   0  0  0  0  0  0  0  0  0  0  0  0\\n   -1.9580    2.8787   -1.2630 H   0  0  0  0  0  0  0  0  0  0  0  0\\n   -2.7787    2.6123    0.3290 H   0  0  0  0  0  0  0  0  0  0  0  0\\n   -1.5398   -3.1747    0.3840 H   0  0  0  0  0  0  0  0  0  0  0  0\\n   -2.3468   -2.5750   -1.1193 H   0  0  0  0  0  0  0  0  0  0  0  0\\n   -3.0315   -2.2019    0.5154 H   0  0  0  0  0  0  0  0  0  0  0  0\\n  1  2  1  0\\n  2  3  1  0\\n  3  4  2  0\\n  4  5  1  0\\n  5  6  2  0\\n  6  7  1  0\\n  7  8  2  0\\n  7  9  1  0\\n  9 10  1  0\\n  9 11  1  0\\n 11 12  2  0\\n 11 13  1  0\\n 13 14  1  0\\n  6  2  1  0\\n 13  5  1  0\\n  1 15  1  0\\n  1 16  1  0\\n  1 17  1  0\\n  3 18  1  0\\n 10 19  1  0\\n 10 20  1  0\\n 10 21  1  0\\n 14 22  1  0\\n 14 23  1  0\\n 14 24  1  0\\nM  END\\n\",\"mol\");\n",
       "\tviewer_1750708974315555.setStyle({\"line\": {}});\n",
       "\tviewer_1750708974315555.zoomTo();\n",
       "viewer_1750708974315555.render();\n",
       "});\n",
       "</script>"
      ]
     },
     "metadata": {},
     "output_type": "display_data"
    }
   ],
   "source": [
    "# Wireframe / line\n",
    "view_style(caff3d, 'line')"
   ]
  },
  {
   "cell_type": "code",
   "execution_count": 7,
   "id": "743d6020",
   "metadata": {},
   "outputs": [
    {
     "data": {
      "application/3dmoljs_load.v0": "<div id=\"3dmolviewer_1750708974346219\"  style=\"position: relative; width: 400px; height: 300px;\">\n        <p id=\"3dmolwarning_1750708974346219\" style=\"background-color:#ffcccc;color:black\">3Dmol.js failed to load for some reason.  Please check your browser console for error messages.<br></p>\n        </div>\n<script>\n\nvar loadScriptAsync = function(uri){\n  return new Promise((resolve, reject) => {\n    //this is to ignore the existence of requirejs amd\n    var savedexports, savedmodule;\n    if (typeof exports !== 'undefined') savedexports = exports;\n    else exports = {}\n    if (typeof module !== 'undefined') savedmodule = module;\n    else module = {}\n\n    var tag = document.createElement('script');\n    tag.src = uri;\n    tag.async = true;\n    tag.onload = () => {\n        exports = savedexports;\n        module = savedmodule;\n        resolve();\n    };\n  var firstScriptTag = document.getElementsByTagName('script')[0];\n  firstScriptTag.parentNode.insertBefore(tag, firstScriptTag);\n});\n};\n\nif(typeof $3Dmolpromise === 'undefined') {\n$3Dmolpromise = null;\n  $3Dmolpromise = loadScriptAsync('https://cdnjs.cloudflare.com/ajax/libs/3Dmol/2.1.0/3Dmol-min.js');\n}\n\nvar viewer_1750708974346219 = null;\nvar warn = document.getElementById(\"3dmolwarning_1750708974346219\");\nif(warn) {\n    warn.parentNode.removeChild(warn);\n}\n$3Dmolpromise.then(function() {\nviewer_1750708974346219 = $3Dmol.createViewer(document.getElementById(\"3dmolviewer_1750708974346219\"),{backgroundColor:\"white\"});\nviewer_1750708974346219.zoomTo();\n\tviewer_1750708974346219.addModel(\"\\n     RDKit          3D\\n\\n 24 25  0  0  0  0  0  0  0  0999 V2000\\n    3.3034    0.4700   -0.0316 C   0  0  0  0  0  0  0  0  0  0  0  0\\n    2.1199   -0.3833   -0.0065 N   0  0  0  0  0  0  0  0  0  0  0  0\\n    2.0910   -1.7385    0.0201 C   0  0  0  0  0  0  0  0  0  0  0  0\\n    0.8309   -2.2465    0.0200 N   0  0  0  0  0  0  0  0  0  0  0  0\\n    0.0615   -1.1393   -0.0058 C   0  0  0  0  0  0  0  0  0  0  0  0\\n    0.8256   -0.0236   -0.0246 C   0  0  0  0  0  0  0  0  0  0  0  0\\n    0.2367    1.2328   -0.0794 C   0  0  0  0  0  0  0  0  0  0  0  0\\n    0.9494    2.2731   -0.1181 O   0  0  0  0  0  0  0  0  0  0  0  0\\n   -1.1378    1.3070   -0.0997 N   0  0  0  0  0  0  0  0  0  0  0  0\\n   -1.7992    2.6190   -0.1952 C   0  0  0  0  0  0  0  0  0  0  0  0\\n   -1.8984    0.1487   -0.1098 C   0  0  0  0  0  0  0  0  0  0  0  0\\n   -3.1568    0.2254   -0.1964 O   0  0  0  0  0  0  0  0  0  0  0  0\\n   -1.2980   -1.0901   -0.0340 N   0  0  0  0  0  0  0  0  0  0  0  0\\n   -2.0938   -2.3243   -0.0677 C   0  0  0  0  0  0  0  0  0  0  0  0\\n    3.2877    1.1586    0.8390 H   0  0  0  0  0  0  0  0  0  0  0  0\\n    4.2268   -0.1453    0.0192 H   0  0  0  0  0  0  0  0  0  0  0  0\\n    3.3195    1.0601   -0.9718 H   0  0  0  0  0  0  0  0  0  0  0  0\\n    2.9785   -2.3581    0.0351 H   0  0  0  0  0  0  0  0  0  0  0  0\\n   -1.1921    3.4149    0.2866 H   0  0  0  0  0  0  0  0  0  0  0  0\\n   -1.9580    2.8787   -1.2630 H   0  0  0  0  0  0  0  0  0  0  0  0\\n   -2.7787    2.6123    0.3290 H   0  0  0  0  0  0  0  0  0  0  0  0\\n   -1.5398   -3.1747    0.3840 H   0  0  0  0  0  0  0  0  0  0  0  0\\n   -2.3468   -2.5750   -1.1193 H   0  0  0  0  0  0  0  0  0  0  0  0\\n   -3.0315   -2.2019    0.5154 H   0  0  0  0  0  0  0  0  0  0  0  0\\n  1  2  1  0\\n  2  3  1  0\\n  3  4  2  0\\n  4  5  1  0\\n  5  6  2  0\\n  6  7  1  0\\n  7  8  2  0\\n  7  9  1  0\\n  9 10  1  0\\n  9 11  1  0\\n 11 12  2  0\\n 11 13  1  0\\n 13 14  1  0\\n  6  2  1  0\\n 13  5  1  0\\n  1 15  1  0\\n  1 16  1  0\\n  1 17  1  0\\n  3 18  1  0\\n 10 19  1  0\\n 10 20  1  0\\n 10 21  1  0\\n 14 22  1  0\\n 14 23  1  0\\n 14 24  1  0\\nM  END\\n\",\"mol\");\n\tviewer_1750708974346219.setStyle({\"stick\": {\"radius\": 0.15}});\n\tviewer_1750708974346219.addSurface(1,{\"opacity\": 0.7, \"color\": \"0x99ccff\"});\n\tviewer_1750708974346219.zoomTo();\nviewer_1750708974346219.render();\n});\n</script>",
      "text/html": [
       "<div id=\"3dmolviewer_1750708974346219\"  style=\"position: relative; width: 400px; height: 300px;\">\n",
       "        <p id=\"3dmolwarning_1750708974346219\" style=\"background-color:#ffcccc;color:black\">3Dmol.js failed to load for some reason.  Please check your browser console for error messages.<br></p>\n",
       "        </div>\n",
       "<script>\n",
       "\n",
       "var loadScriptAsync = function(uri){\n",
       "  return new Promise((resolve, reject) => {\n",
       "    //this is to ignore the existence of requirejs amd\n",
       "    var savedexports, savedmodule;\n",
       "    if (typeof exports !== 'undefined') savedexports = exports;\n",
       "    else exports = {}\n",
       "    if (typeof module !== 'undefined') savedmodule = module;\n",
       "    else module = {}\n",
       "\n",
       "    var tag = document.createElement('script');\n",
       "    tag.src = uri;\n",
       "    tag.async = true;\n",
       "    tag.onload = () => {\n",
       "        exports = savedexports;\n",
       "        module = savedmodule;\n",
       "        resolve();\n",
       "    };\n",
       "  var firstScriptTag = document.getElementsByTagName('script')[0];\n",
       "  firstScriptTag.parentNode.insertBefore(tag, firstScriptTag);\n",
       "});\n",
       "};\n",
       "\n",
       "if(typeof $3Dmolpromise === 'undefined') {\n",
       "$3Dmolpromise = null;\n",
       "  $3Dmolpromise = loadScriptAsync('https://cdnjs.cloudflare.com/ajax/libs/3Dmol/2.1.0/3Dmol-min.js');\n",
       "}\n",
       "\n",
       "var viewer_1750708974346219 = null;\n",
       "var warn = document.getElementById(\"3dmolwarning_1750708974346219\");\n",
       "if(warn) {\n",
       "    warn.parentNode.removeChild(warn);\n",
       "}\n",
       "$3Dmolpromise.then(function() {\n",
       "viewer_1750708974346219 = $3Dmol.createViewer(document.getElementById(\"3dmolviewer_1750708974346219\"),{backgroundColor:\"white\"});\n",
       "viewer_1750708974346219.zoomTo();\n",
       "\tviewer_1750708974346219.addModel(\"\\n     RDKit          3D\\n\\n 24 25  0  0  0  0  0  0  0  0999 V2000\\n    3.3034    0.4700   -0.0316 C   0  0  0  0  0  0  0  0  0  0  0  0\\n    2.1199   -0.3833   -0.0065 N   0  0  0  0  0  0  0  0  0  0  0  0\\n    2.0910   -1.7385    0.0201 C   0  0  0  0  0  0  0  0  0  0  0  0\\n    0.8309   -2.2465    0.0200 N   0  0  0  0  0  0  0  0  0  0  0  0\\n    0.0615   -1.1393   -0.0058 C   0  0  0  0  0  0  0  0  0  0  0  0\\n    0.8256   -0.0236   -0.0246 C   0  0  0  0  0  0  0  0  0  0  0  0\\n    0.2367    1.2328   -0.0794 C   0  0  0  0  0  0  0  0  0  0  0  0\\n    0.9494    2.2731   -0.1181 O   0  0  0  0  0  0  0  0  0  0  0  0\\n   -1.1378    1.3070   -0.0997 N   0  0  0  0  0  0  0  0  0  0  0  0\\n   -1.7992    2.6190   -0.1952 C   0  0  0  0  0  0  0  0  0  0  0  0\\n   -1.8984    0.1487   -0.1098 C   0  0  0  0  0  0  0  0  0  0  0  0\\n   -3.1568    0.2254   -0.1964 O   0  0  0  0  0  0  0  0  0  0  0  0\\n   -1.2980   -1.0901   -0.0340 N   0  0  0  0  0  0  0  0  0  0  0  0\\n   -2.0938   -2.3243   -0.0677 C   0  0  0  0  0  0  0  0  0  0  0  0\\n    3.2877    1.1586    0.8390 H   0  0  0  0  0  0  0  0  0  0  0  0\\n    4.2268   -0.1453    0.0192 H   0  0  0  0  0  0  0  0  0  0  0  0\\n    3.3195    1.0601   -0.9718 H   0  0  0  0  0  0  0  0  0  0  0  0\\n    2.9785   -2.3581    0.0351 H   0  0  0  0  0  0  0  0  0  0  0  0\\n   -1.1921    3.4149    0.2866 H   0  0  0  0  0  0  0  0  0  0  0  0\\n   -1.9580    2.8787   -1.2630 H   0  0  0  0  0  0  0  0  0  0  0  0\\n   -2.7787    2.6123    0.3290 H   0  0  0  0  0  0  0  0  0  0  0  0\\n   -1.5398   -3.1747    0.3840 H   0  0  0  0  0  0  0  0  0  0  0  0\\n   -2.3468   -2.5750   -1.1193 H   0  0  0  0  0  0  0  0  0  0  0  0\\n   -3.0315   -2.2019    0.5154 H   0  0  0  0  0  0  0  0  0  0  0  0\\n  1  2  1  0\\n  2  3  1  0\\n  3  4  2  0\\n  4  5  1  0\\n  5  6  2  0\\n  6  7  1  0\\n  7  8  2  0\\n  7  9  1  0\\n  9 10  1  0\\n  9 11  1  0\\n 11 12  2  0\\n 11 13  1  0\\n 13 14  1  0\\n  6  2  1  0\\n 13  5  1  0\\n  1 15  1  0\\n  1 16  1  0\\n  1 17  1  0\\n  3 18  1  0\\n 10 19  1  0\\n 10 20  1  0\\n 10 21  1  0\\n 14 22  1  0\\n 14 23  1  0\\n 14 24  1  0\\nM  END\\n\",\"mol\");\n",
       "\tviewer_1750708974346219.setStyle({\"stick\": {\"radius\": 0.15}});\n",
       "\tviewer_1750708974346219.addSurface(1,{\"opacity\": 0.7, \"color\": \"0x99ccff\"});\n",
       "\tviewer_1750708974346219.zoomTo();\n",
       "viewer_1750708974346219.render();\n",
       "});\n",
       "</script>"
      ]
     },
     "metadata": {},
     "output_type": "display_data"
    }
   ],
   "source": [
    "# Electron cloud (VDW surface) + thin sticks for reference\n",
    "view_style(caff3d, 'surface')"
   ]
  },
  {
   "cell_type": "markdown",
   "id": "0ec492b7",
   "metadata": {},
   "source": [
    "## Your Turn 📝\n",
    "1. Pick **two** molecules of interest (size ≤ 80 atoms recommended).  \n",
    "2. Generate **all four** representations for each.  \n",
    "3. Briefly note which visualisation you find most informative and **why**.\n",
    "\n",
    "*(Hint: Re‑use the helper `embed_3d` and `view_style`.)*"
   ]
  },
  {
   "cell_type": "code",
   "execution_count": 8,
   "id": "f745b432",
   "metadata": {},
   "outputs": [
    {
     "name": "stdout",
     "output_type": "stream",
     "text": [
      "\n",
      "Molecule: CCO\n"
     ]
    },
    {
     "data": {
      "image/jpeg": "[encoded data removed]",
      "image/png": "[encoded data removed]",
      "text/plain": [
       "<PIL.PngImagePlugin.PngImageFile image mode=RGB size=200x150>"
      ]
     },
     "metadata": {},
     "output_type": "display_data"
    },
    {
     "name": "stdout",
     "output_type": "stream",
     "text": [
      "— stick\n"
     ]
    },
    {
     "data": {
      "application/3dmoljs_load.v0": "<div id=\"3dmolviewer_1750708974395804\"  style=\"position: relative; width: 400px; height: 300px;\">\n        <p id=\"3dmolwarning_1750708974395804\" style=\"background-color:#ffcccc;color:black\">3Dmol.js failed to load for some reason.  Please check your browser console for error messages.<br></p>\n        </div>\n<script>\n\nvar loadScriptAsync = function(uri){\n  return new Promise((resolve, reject) => {\n    //this is to ignore the existence of requirejs amd\n    var savedexports, savedmodule;\n    if (typeof exports !== 'undefined') savedexports = exports;\n    else exports = {}\n    if (typeof module !== 'undefined') savedmodule = module;\n    else module = {}\n\n    var tag = document.createElement('script');\n    tag.src = uri;\n    tag.async = true;\n    tag.onload = () => {\n        exports = savedexports;\n        module = savedmodule;\n        resolve();\n    };\n  var firstScriptTag = document.getElementsByTagName('script')[0];\n  firstScriptTag.parentNode.insertBefore(tag, firstScriptTag);\n});\n};\n\nif(typeof $3Dmolpromise === 'undefined') {\n$3Dmolpromise = null;\n  $3Dmolpromise = loadScriptAsync('https://cdnjs.cloudflare.com/ajax/libs/3Dmol/2.1.0/3Dmol-min.js');\n}\n\nvar viewer_1750708974395804 = null;\nvar warn = document.getElementById(\"3dmolwarning_1750708974395804\");\nif(warn) {\n    warn.parentNode.removeChild(warn);\n}\n$3Dmolpromise.then(function() {\nviewer_1750708974395804 = $3Dmol.createViewer(document.getElementById(\"3dmolviewer_1750708974395804\"),{backgroundColor:\"white\"});\nviewer_1750708974395804.zoomTo();\n\tviewer_1750708974395804.addModel(\"\\n     RDKit          3D\\n\\n  9  8  0  0  0  0  0  0  0  0999 V2000\\n   -0.9093   -0.0582   -0.1809 C   0  0  0  0  0  0  0  0  0  0  0  0\\n    0.5566   -0.3458    0.1199 C   0  0  0  0  0  0  0  0  0  0  0  0\\n    1.3615    0.7140   -0.3194 O   0  0  0  0  0  0  0  0  0  0  0  0\\n   -1.5336   -0.9168    0.1448 H   0  0  0  0  0  0  0  0  0  0  0  0\\n   -1.0502    0.0967   -1.2716 H   0  0  0  0  0  0  0  0  0  0  0  0\\n   -1.2390    0.8523    0.3630 H   0  0  0  0  0  0  0  0  0  0  0  0\\n    0.8617   -1.2709   -0.4133 H   0  0  0  0  0  0  0  0  0  0  0  0\\n    0.6946   -0.5153    1.2119 H   0  0  0  0  0  0  0  0  0  0  0  0\\n    1.2576    1.4440    0.3456 H   0  0  0  0  0  0  0  0  0  0  0  0\\n  1  2  1  0\\n  2  3  1  0\\n  1  4  1  0\\n  1  5  1  0\\n  1  6  1  0\\n  2  7  1  0\\n  2  8  1  0\\n  3  9  1  0\\nM  END\\n\",\"mol\");\n\tviewer_1750708974395804.setStyle({\"stick\": {}});\n\tviewer_1750708974395804.zoomTo();\nviewer_1750708974395804.render();\n});\n</script>",
      "text/html": [
       "<div id=\"3dmolviewer_1750708974395804\"  style=\"position: relative; width: 400px; height: 300px;\">\n",
       "        <p id=\"3dmolwarning_1750708974395804\" style=\"background-color:#ffcccc;color:black\">3Dmol.js failed to load for some reason.  Please check your browser console for error messages.<br></p>\n",
       "        </div>\n",
       "<script>\n",
       "\n",
       "var loadScriptAsync = function(uri){\n",
       "  return new Promise((resolve, reject) => {\n",
       "    //this is to ignore the existence of requirejs amd\n",
       "    var savedexports, savedmodule;\n",
       "    if (typeof exports !== 'undefined') savedexports = exports;\n",
       "    else exports = {}\n",
       "    if (typeof module !== 'undefined') savedmodule = module;\n",
       "    else module = {}\n",
       "\n",
       "    var tag = document.createElement('script');\n",
       "    tag.src = uri;\n",
       "    tag.async = true;\n",
       "    tag.onload = () => {\n",
       "        exports = savedexports;\n",
       "        module = savedmodule;\n",
       "        resolve();\n",
       "    };\n",
       "  var firstScriptTag = document.getElementsByTagName('script')[0];\n",
       "  firstScriptTag.parentNode.insertBefore(tag, firstScriptTag);\n",
       "});\n",
       "};\n",
       "\n",
       "if(typeof $3Dmolpromise === 'undefined') {\n",
       "$3Dmolpromise = null;\n",
       "  $3Dmolpromise = loadScriptAsync('https://cdnjs.cloudflare.com/ajax/libs/3Dmol/2.1.0/3Dmol-min.js');\n",
       "}\n",
       "\n",
       "var viewer_1750708974395804 = null;\n",
       "var warn = document.getElementById(\"3dmolwarning_1750708974395804\");\n",
       "if(warn) {\n",
       "    warn.parentNode.removeChild(warn);\n",
       "}\n",
       "$3Dmolpromise.then(function() {\n",
       "viewer_1750708974395804 = $3Dmol.createViewer(document.getElementById(\"3dmolviewer_1750708974395804\"),{backgroundColor:\"white\"});\n",
       "viewer_1750708974395804.zoomTo();\n",
       "\tviewer_1750708974395804.addModel(\"\\n     RDKit          3D\\n\\n  9  8  0  0  0  0  0  0  0  0999 V2000\\n   -0.9093   -0.0582   -0.1809 C   0  0  0  0  0  0  0  0  0  0  0  0\\n    0.5566   -0.3458    0.1199 C   0  0  0  0  0  0  0  0  0  0  0  0\\n    1.3615    0.7140   -0.3194 O   0  0  0  0  0  0  0  0  0  0  0  0\\n   -1.5336   -0.9168    0.1448 H   0  0  0  0  0  0  0  0  0  0  0  0\\n   -1.0502    0.0967   -1.2716 H   0  0  0  0  0  0  0  0  0  0  0  0\\n   -1.2390    0.8523    0.3630 H   0  0  0  0  0  0  0  0  0  0  0  0\\n    0.8617   -1.2709   -0.4133 H   0  0  0  0  0  0  0  0  0  0  0  0\\n    0.6946   -0.5153    1.2119 H   0  0  0  0  0  0  0  0  0  0  0  0\\n    1.2576    1.4440    0.3456 H   0  0  0  0  0  0  0  0  0  0  0  0\\n  1  2  1  0\\n  2  3  1  0\\n  1  4  1  0\\n  1  5  1  0\\n  1  6  1  0\\n  2  7  1  0\\n  2  8  1  0\\n  3  9  1  0\\nM  END\\n\",\"mol\");\n",
       "\tviewer_1750708974395804.setStyle({\"stick\": {}});\n",
       "\tviewer_1750708974395804.zoomTo();\n",
       "viewer_1750708974395804.render();\n",
       "});\n",
       "</script>"
      ]
     },
     "metadata": {},
     "output_type": "display_data"
    },
    {
     "name": "stdout",
     "output_type": "stream",
     "text": [
      "— sphere\n"
     ]
    },
    {
     "data": {
      "application/3dmoljs_load.v0": "<div id=\"3dmolviewer_17507089743969579\"  style=\"position: relative; width: 400px; height: 300px;\">\n        <p id=\"3dmolwarning_17507089743969579\" style=\"background-color:#ffcccc;color:black\">3Dmol.js failed to load for some reason.  Please check your browser console for error messages.<br></p>\n        </div>\n<script>\n\nvar loadScriptAsync = function(uri){\n  return new Promise((resolve, reject) => {\n    //this is to ignore the existence of requirejs amd\n    var savedexports, savedmodule;\n    if (typeof exports !== 'undefined') savedexports = exports;\n    else exports = {}\n    if (typeof module !== 'undefined') savedmodule = module;\n    else module = {}\n\n    var tag = document.createElement('script');\n    tag.src = uri;\n    tag.async = true;\n    tag.onload = () => {\n        exports = savedexports;\n        module = savedmodule;\n        resolve();\n    };\n  var firstScriptTag = document.getElementsByTagName('script')[0];\n  firstScriptTag.parentNode.insertBefore(tag, firstScriptTag);\n});\n};\n\nif(typeof $3Dmolpromise === 'undefined') {\n$3Dmolpromise = null;\n  $3Dmolpromise = loadScriptAsync('https://cdnjs.cloudflare.com/ajax/libs/3Dmol/2.1.0/3Dmol-min.js');\n}\n\nvar viewer_17507089743969579 = null;\nvar warn = document.getElementById(\"3dmolwarning_17507089743969579\");\nif(warn) {\n    warn.parentNode.removeChild(warn);\n}\n$3Dmolpromise.then(function() {\nviewer_17507089743969579 = $3Dmol.createViewer(document.getElementById(\"3dmolviewer_17507089743969579\"),{backgroundColor:\"white\"});\nviewer_17507089743969579.zoomTo();\n\tviewer_17507089743969579.addModel(\"\\n     RDKit          3D\\n\\n  9  8  0  0  0  0  0  0  0  0999 V2000\\n   -0.9093   -0.0582   -0.1809 C   0  0  0  0  0  0  0  0  0  0  0  0\\n    0.5566   -0.3458    0.1199 C   0  0  0  0  0  0  0  0  0  0  0  0\\n    1.3615    0.7140   -0.3194 O   0  0  0  0  0  0  0  0  0  0  0  0\\n   -1.5336   -0.9168    0.1448 H   0  0  0  0  0  0  0  0  0  0  0  0\\n   -1.0502    0.0967   -1.2716 H   0  0  0  0  0  0  0  0  0  0  0  0\\n   -1.2390    0.8523    0.3630 H   0  0  0  0  0  0  0  0  0  0  0  0\\n    0.8617   -1.2709   -0.4133 H   0  0  0  0  0  0  0  0  0  0  0  0\\n    0.6946   -0.5153    1.2119 H   0  0  0  0  0  0  0  0  0  0  0  0\\n    1.2576    1.4440    0.3456 H   0  0  0  0  0  0  0  0  0  0  0  0\\n  1  2  1  0\\n  2  3  1  0\\n  1  4  1  0\\n  1  5  1  0\\n  1  6  1  0\\n  2  7  1  0\\n  2  8  1  0\\n  3  9  1  0\\nM  END\\n\",\"mol\");\n\tviewer_17507089743969579.setStyle({\"sphere\": {}});\n\tviewer_17507089743969579.zoomTo();\nviewer_17507089743969579.render();\n});\n</script>",
      "text/html": [
       "<div id=\"3dmolviewer_17507089743969579\"  style=\"position: relative; width: 400px; height: 300px;\">\n",
       "        <p id=\"3dmolwarning_17507089743969579\" style=\"background-color:#ffcccc;color:black\">3Dmol.js failed to load for some reason.  Please check your browser console for error messages.<br></p>\n",
       "        </div>\n",
       "<script>\n",
       "\n",
       "var loadScriptAsync = function(uri){\n",
       "  return new Promise((resolve, reject) => {\n",
       "    //this is to ignore the existence of requirejs amd\n",
       "    var savedexports, savedmodule;\n",
       "    if (typeof exports !== 'undefined') savedexports = exports;\n",
       "    else exports = {}\n",
       "    if (typeof module !== 'undefined') savedmodule = module;\n",
       "    else module = {}\n",
       "\n",
       "    var tag = document.createElement('script');\n",
       "    tag.src = uri;\n",
       "    tag.async = true;\n",
       "    tag.onload = () => {\n",
       "        exports = savedexports;\n",
       "        module = savedmodule;\n",
       "        resolve();\n",
       "    };\n",
       "  var firstScriptTag = document.getElementsByTagName('script')[0];\n",
       "  firstScriptTag.parentNode.insertBefore(tag, firstScriptTag);\n",
       "});\n",
       "};\n",
       "\n",
       "if(typeof $3Dmolpromise === 'undefined') {\n",
       "$3Dmolpromise = null;\n",
       "  $3Dmolpromise = loadScriptAsync('https://cdnjs.cloudflare.com/ajax/libs/3Dmol/2.1.0/3Dmol-min.js');\n",
       "}\n",
       "\n",
       "var viewer_17507089743969579 = null;\n",
       "var warn = document.getElementById(\"3dmolwarning_17507089743969579\");\n",
       "if(warn) {\n",
       "    warn.parentNode.removeChild(warn);\n",
       "}\n",
       "$3Dmolpromise.then(function() {\n",
       "viewer_17507089743969579 = $3Dmol.createViewer(document.getElementById(\"3dmolviewer_17507089743969579\"),{backgroundColor:\"white\"});\n",
       "viewer_17507089743969579.zoomTo();\n",
       "\tviewer_17507089743969579.addModel(\"\\n     RDKit          3D\\n\\n  9  8  0  0  0  0  0  0  0  0999 V2000\\n   -0.9093   -0.0582   -0.1809 C   0  0  0  0  0  0  0  0  0  0  0  0\\n    0.5566   -0.3458    0.1199 C   0  0  0  0  0  0  0  0  0  0  0  0\\n    1.3615    0.7140   -0.3194 O   0  0  0  0  0  0  0  0  0  0  0  0\\n   -1.5336   -0.9168    0.1448 H   0  0  0  0  0  0  0  0  0  0  0  0\\n   -1.0502    0.0967   -1.2716 H   0  0  0  0  0  0  0  0  0  0  0  0\\n   -1.2390    0.8523    0.3630 H   0  0  0  0  0  0  0  0  0  0  0  0\\n    0.8617   -1.2709   -0.4133 H   0  0  0  0  0  0  0  0  0  0  0  0\\n    0.6946   -0.5153    1.2119 H   0  0  0  0  0  0  0  0  0  0  0  0\\n    1.2576    1.4440    0.3456 H   0  0  0  0  0  0  0  0  0  0  0  0\\n  1  2  1  0\\n  2  3  1  0\\n  1  4  1  0\\n  1  5  1  0\\n  1  6  1  0\\n  2  7  1  0\\n  2  8  1  0\\n  3  9  1  0\\nM  END\\n\",\"mol\");\n",
       "\tviewer_17507089743969579.setStyle({\"sphere\": {}});\n",
       "\tviewer_17507089743969579.zoomTo();\n",
       "viewer_17507089743969579.render();\n",
       "});\n",
       "</script>"
      ]
     },
     "metadata": {},
     "output_type": "display_data"
    },
    {
     "name": "stdout",
     "output_type": "stream",
     "text": [
      "— line\n"
     ]
    },
    {
     "data": {
      "application/3dmoljs_load.v0": "<div id=\"3dmolviewer_1750708974397989\"  style=\"position: relative; width: 400px; height: 300px;\">\n        <p id=\"3dmolwarning_1750708974397989\" style=\"background-color:#ffcccc;color:black\">3Dmol.js failed to load for some reason.  Please check your browser console for error messages.<br></p>\n        </div>\n<script>\n\nvar loadScriptAsync = function(uri){\n  return new Promise((resolve, reject) => {\n    //this is to ignore the existence of requirejs amd\n    var savedexports, savedmodule;\n    if (typeof exports !== 'undefined') savedexports = exports;\n    else exports = {}\n    if (typeof module !== 'undefined') savedmodule = module;\n    else module = {}\n\n    var tag = document.createElement('script');\n    tag.src = uri;\n    tag.async = true;\n    tag.onload = () => {\n        exports = savedexports;\n        module = savedmodule;\n        resolve();\n    };\n  var firstScriptTag = document.getElementsByTagName('script')[0];\n  firstScriptTag.parentNode.insertBefore(tag, firstScriptTag);\n});\n};\n\nif(typeof $3Dmolpromise === 'undefined') {\n$3Dmolpromise = null;\n  $3Dmolpromise = loadScriptAsync('https://cdnjs.cloudflare.com/ajax/libs/3Dmol/2.1.0/3Dmol-min.js');\n}\n\nvar viewer_1750708974397989 = null;\nvar warn = document.getElementById(\"3dmolwarning_1750708974397989\");\nif(warn) {\n    warn.parentNode.removeChild(warn);\n}\n$3Dmolpromise.then(function() {\nviewer_1750708974397989 = $3Dmol.createViewer(document.getElementById(\"3dmolviewer_1750708974397989\"),{backgroundColor:\"white\"});\nviewer_1750708974397989.zoomTo();\n\tviewer_1750708974397989.addModel(\"\\n     RDKit          3D\\n\\n  9  8  0  0  0  0  0  0  0  0999 V2000\\n   -0.9093   -0.0582   -0.1809 C   0  0  0  0  0  0  0  0  0  0  0  0\\n    0.5566   -0.3458    0.1199 C   0  0  0  0  0  0  0  0  0  0  0  0\\n    1.3615    0.7140   -0.3194 O   0  0  0  0  0  0  0  0  0  0  0  0\\n   -1.5336   -0.9168    0.1448 H   0  0  0  0  0  0  0  0  0  0  0  0\\n   -1.0502    0.0967   -1.2716 H   0  0  0  0  0  0  0  0  0  0  0  0\\n   -1.2390    0.8523    0.3630 H   0  0  0  0  0  0  0  0  0  0  0  0\\n    0.8617   -1.2709   -0.4133 H   0  0  0  0  0  0  0  0  0  0  0  0\\n    0.6946   -0.5153    1.2119 H   0  0  0  0  0  0  0  0  0  0  0  0\\n    1.2576    1.4440    0.3456 H   0  0  0  0  0  0  0  0  0  0  0  0\\n  1  2  1  0\\n  2  3  1  0\\n  1  4  1  0\\n  1  5  1  0\\n  1  6  1  0\\n  2  7  1  0\\n  2  8  1  0\\n  3  9  1  0\\nM  END\\n\",\"mol\");\n\tviewer_1750708974397989.setStyle({\"line\": {}});\n\tviewer_1750708974397989.zoomTo();\nviewer_1750708974397989.render();\n});\n</script>",
      "text/html": [
       "<div id=\"3dmolviewer_1750708974397989\"  style=\"position: relative; width: 400px; height: 300px;\">\n",
       "        <p id=\"3dmolwarning_1750708974397989\" style=\"background-color:#ffcccc;color:black\">3Dmol.js failed to load for some reason.  Please check your browser console for error messages.<br></p>\n",
       "        </div>\n",
       "<script>\n",
       "\n",
       "var loadScriptAsync = function(uri){\n",
       "  return new Promise((resolve, reject) => {\n",
       "    //this is to ignore the existence of requirejs amd\n",
       "    var savedexports, savedmodule;\n",
       "    if (typeof exports !== 'undefined') savedexports = exports;\n",
       "    else exports = {}\n",
       "    if (typeof module !== 'undefined') savedmodule = module;\n",
       "    else module = {}\n",
       "\n",
       "    var tag = document.createElement('script');\n",
       "    tag.src = uri;\n",
       "    tag.async = true;\n",
       "    tag.onload = () => {\n",
       "        exports = savedexports;\n",
       "        module = savedmodule;\n",
       "        resolve();\n",
       "    };\n",
       "  var firstScriptTag = document.getElementsByTagName('script')[0];\n",
       "  firstScriptTag.parentNode.insertBefore(tag, firstScriptTag);\n",
       "});\n",
       "};\n",
       "\n",
       "if(typeof $3Dmolpromise === 'undefined') {\n",
       "$3Dmolpromise = null;\n",
       "  $3Dmolpromise = loadScriptAsync('https://cdnjs.cloudflare.com/ajax/libs/3Dmol/2.1.0/3Dmol-min.js');\n",
       "}\n",
       "\n",
       "var viewer_1750708974397989 = null;\n",
       "var warn = document.getElementById(\"3dmolwarning_1750708974397989\");\n",
       "if(warn) {\n",
       "    warn.parentNode.removeChild(warn);\n",
       "}\n",
       "$3Dmolpromise.then(function() {\n",
       "viewer_1750708974397989 = $3Dmol.createViewer(document.getElementById(\"3dmolviewer_1750708974397989\"),{backgroundColor:\"white\"});\n",
       "viewer_1750708974397989.zoomTo();\n",
       "\tviewer_1750708974397989.addModel(\"\\n     RDKit          3D\\n\\n  9  8  0  0  0  0  0  0  0  0999 V2000\\n   -0.9093   -0.0582   -0.1809 C   0  0  0  0  0  0  0  0  0  0  0  0\\n    0.5566   -0.3458    0.1199 C   0  0  0  0  0  0  0  0  0  0  0  0\\n    1.3615    0.7140   -0.3194 O   0  0  0  0  0  0  0  0  0  0  0  0\\n   -1.5336   -0.9168    0.1448 H   0  0  0  0  0  0  0  0  0  0  0  0\\n   -1.0502    0.0967   -1.2716 H   0  0  0  0  0  0  0  0  0  0  0  0\\n   -1.2390    0.8523    0.3630 H   0  0  0  0  0  0  0  0  0  0  0  0\\n    0.8617   -1.2709   -0.4133 H   0  0  0  0  0  0  0  0  0  0  0  0\\n    0.6946   -0.5153    1.2119 H   0  0  0  0  0  0  0  0  0  0  0  0\\n    1.2576    1.4440    0.3456 H   0  0  0  0  0  0  0  0  0  0  0  0\\n  1  2  1  0\\n  2  3  1  0\\n  1  4  1  0\\n  1  5  1  0\\n  1  6  1  0\\n  2  7  1  0\\n  2  8  1  0\\n  3  9  1  0\\nM  END\\n\",\"mol\");\n",
       "\tviewer_1750708974397989.setStyle({\"line\": {}});\n",
       "\tviewer_1750708974397989.zoomTo();\n",
       "viewer_1750708974397989.render();\n",
       "});\n",
       "</script>"
      ]
     },
     "metadata": {},
     "output_type": "display_data"
    },
    {
     "name": "stdout",
     "output_type": "stream",
     "text": [
      "— surface\n"
     ]
    },
    {
     "data": {
      "application/3dmoljs_load.v0": "<div id=\"3dmolviewer_17507089743990889\"  style=\"position: relative; width: 400px; height: 300px;\">\n        <p id=\"3dmolwarning_17507089743990889\" style=\"background-color:#ffcccc;color:black\">3Dmol.js failed to load for some reason.  Please check your browser console for error messages.<br></p>\n        </div>\n<script>\n\nvar loadScriptAsync = function(uri){\n  return new Promise((resolve, reject) => {\n    //this is to ignore the existence of requirejs amd\n    var savedexports, savedmodule;\n    if (typeof exports !== 'undefined') savedexports = exports;\n    else exports = {}\n    if (typeof module !== 'undefined') savedmodule = module;\n    else module = {}\n\n    var tag = document.createElement('script');\n    tag.src = uri;\n    tag.async = true;\n    tag.onload = () => {\n        exports = savedexports;\n        module = savedmodule;\n        resolve();\n    };\n  var firstScriptTag = document.getElementsByTagName('script')[0];\n  firstScriptTag.parentNode.insertBefore(tag, firstScriptTag);\n});\n};\n\nif(typeof $3Dmolpromise === 'undefined') {\n$3Dmolpromise = null;\n  $3Dmolpromise = loadScriptAsync('https://cdnjs.cloudflare.com/ajax/libs/3Dmol/2.1.0/3Dmol-min.js');\n}\n\nvar viewer_17507089743990889 = null;\nvar warn = document.getElementById(\"3dmolwarning_17507089743990889\");\nif(warn) {\n    warn.parentNode.removeChild(warn);\n}\n$3Dmolpromise.then(function() {\nviewer_17507089743990889 = $3Dmol.createViewer(document.getElementById(\"3dmolviewer_17507089743990889\"),{backgroundColor:\"white\"});\nviewer_17507089743990889.zoomTo();\n\tviewer_17507089743990889.addModel(\"\\n     RDKit          3D\\n\\n  9  8  0  0  0  0  0  0  0  0999 V2000\\n   -0.9093   -0.0582   -0.1809 C   0  0  0  0  0  0  0  0  0  0  0  0\\n    0.5566   -0.3458    0.1199 C   0  0  0  0  0  0  0  0  0  0  0  0\\n    1.3615    0.7140   -0.3194 O   0  0  0  0  0  0  0  0  0  0  0  0\\n   -1.5336   -0.9168    0.1448 H   0  0  0  0  0  0  0  0  0  0  0  0\\n   -1.0502    0.0967   -1.2716 H   0  0  0  0  0  0  0  0  0  0  0  0\\n   -1.2390    0.8523    0.3630 H   0  0  0  0  0  0  0  0  0  0  0  0\\n    0.8617   -1.2709   -0.4133 H   0  0  0  0  0  0  0  0  0  0  0  0\\n    0.6946   -0.5153    1.2119 H   0  0  0  0  0  0  0  0  0  0  0  0\\n    1.2576    1.4440    0.3456 H   0  0  0  0  0  0  0  0  0  0  0  0\\n  1  2  1  0\\n  2  3  1  0\\n  1  4  1  0\\n  1  5  1  0\\n  1  6  1  0\\n  2  7  1  0\\n  2  8  1  0\\n  3  9  1  0\\nM  END\\n\",\"mol\");\n\tviewer_17507089743990889.setStyle({\"stick\": {\"radius\": 0.15}});\n\tviewer_17507089743990889.addSurface(1,{\"opacity\": 0.7, \"color\": \"0x99ccff\"});\n\tviewer_17507089743990889.zoomTo();\nviewer_17507089743990889.render();\n});\n</script>",
      "text/html": [
       "<div id=\"3dmolviewer_17507089743990889\"  style=\"position: relative; width: 400px; height: 300px;\">\n",
       "        <p id=\"3dmolwarning_17507089743990889\" style=\"background-color:#ffcccc;color:black\">3Dmol.js failed to load for some reason.  Please check your browser console for error messages.<br></p>\n",
       "        </div>\n",
       "<script>\n",
       "\n",
       "var loadScriptAsync = function(uri){\n",
       "  return new Promise((resolve, reject) => {\n",
       "    //this is to ignore the existence of requirejs amd\n",
       "    var savedexports, savedmodule;\n",
       "    if (typeof exports !== 'undefined') savedexports = exports;\n",
       "    else exports = {}\n",
       "    if (typeof module !== 'undefined') savedmodule = module;\n",
       "    else module = {}\n",
       "\n",
       "    var tag = document.createElement('script');\n",
       "    tag.src = uri;\n",
       "    tag.async = true;\n",
       "    tag.onload = () => {\n",
       "        exports = savedexports;\n",
       "        module = savedmodule;\n",
       "        resolve();\n",
       "    };\n",
       "  var firstScriptTag = document.getElementsByTagName('script')[0];\n",
       "  firstScriptTag.parentNode.insertBefore(tag, firstScriptTag);\n",
       "});\n",
       "};\n",
       "\n",
       "if(typeof $3Dmolpromise === 'undefined') {\n",
       "$3Dmolpromise = null;\n",
       "  $3Dmolpromise = loadScriptAsync('https://cdnjs.cloudflare.com/ajax/libs/3Dmol/2.1.0/3Dmol-min.js');\n",
       "}\n",
       "\n",
       "var viewer_17507089743990889 = null;\n",
       "var warn = document.getElementById(\"3dmolwarning_17507089743990889\");\n",
       "if(warn) {\n",
       "    warn.parentNode.removeChild(warn);\n",
       "}\n",
       "$3Dmolpromise.then(function() {\n",
       "viewer_17507089743990889 = $3Dmol.createViewer(document.getElementById(\"3dmolviewer_17507089743990889\"),{backgroundColor:\"white\"});\n",
       "viewer_17507089743990889.zoomTo();\n",
       "\tviewer_17507089743990889.addModel(\"\\n     RDKit          3D\\n\\n  9  8  0  0  0  0  0  0  0  0999 V2000\\n   -0.9093   -0.0582   -0.1809 C   0  0  0  0  0  0  0  0  0  0  0  0\\n    0.5566   -0.3458    0.1199 C   0  0  0  0  0  0  0  0  0  0  0  0\\n    1.3615    0.7140   -0.3194 O   0  0  0  0  0  0  0  0  0  0  0  0\\n   -1.5336   -0.9168    0.1448 H   0  0  0  0  0  0  0  0  0  0  0  0\\n   -1.0502    0.0967   -1.2716 H   0  0  0  0  0  0  0  0  0  0  0  0\\n   -1.2390    0.8523    0.3630 H   0  0  0  0  0  0  0  0  0  0  0  0\\n    0.8617   -1.2709   -0.4133 H   0  0  0  0  0  0  0  0  0  0  0  0\\n    0.6946   -0.5153    1.2119 H   0  0  0  0  0  0  0  0  0  0  0  0\\n    1.2576    1.4440    0.3456 H   0  0  0  0  0  0  0  0  0  0  0  0\\n  1  2  1  0\\n  2  3  1  0\\n  1  4  1  0\\n  1  5  1  0\\n  1  6  1  0\\n  2  7  1  0\\n  2  8  1  0\\n  3  9  1  0\\nM  END\\n\",\"mol\");\n",
       "\tviewer_17507089743990889.setStyle({\"stick\": {\"radius\": 0.15}});\n",
       "\tviewer_17507089743990889.addSurface(1,{\"opacity\": 0.7, \"color\": \"0x99ccff\"});\n",
       "\tviewer_17507089743990889.zoomTo();\n",
       "viewer_17507089743990889.render();\n",
       "});\n",
       "</script>"
      ]
     },
     "metadata": {},
     "output_type": "display_data"
    },
    {
     "name": "stdout",
     "output_type": "stream",
     "text": [
      "\n",
      "Molecule: O=C=O\n"
     ]
    },
    {
     "data": {
      "image/jpeg": "[encoded data removed]",
      "image/png": "[encoded data removed]",
      "text/plain": [
       "<PIL.PngImagePlugin.PngImageFile image mode=RGB size=200x150>"
      ]
     },
     "metadata": {},
     "output_type": "display_data"
    },
    {
     "name": "stdout",
     "output_type": "stream",
     "text": [
      "— stick\n"
     ]
    },
    {
     "data": {
      "application/3dmoljs_load.v0": "<div id=\"3dmolviewer_1750708974408563\"  style=\"position: relative; width: 400px; height: 300px;\">\n        <p id=\"3dmolwarning_1750708974408563\" style=\"background-color:#ffcccc;color:black\">3Dmol.js failed to load for some reason.  Please check your browser console for error messages.<br></p>\n        </div>\n<script>\n\nvar loadScriptAsync = function(uri){\n  return new Promise((resolve, reject) => {\n    //this is to ignore the existence of requirejs amd\n    var savedexports, savedmodule;\n    if (typeof exports !== 'undefined') savedexports = exports;\n    else exports = {}\n    if (typeof module !== 'undefined') savedmodule = module;\n    else module = {}\n\n    var tag = document.createElement('script');\n    tag.src = uri;\n    tag.async = true;\n    tag.onload = () => {\n        exports = savedexports;\n        module = savedmodule;\n        resolve();\n    };\n  var firstScriptTag = document.getElementsByTagName('script')[0];\n  firstScriptTag.parentNode.insertBefore(tag, firstScriptTag);\n});\n};\n\nif(typeof $3Dmolpromise === 'undefined') {\n$3Dmolpromise = null;\n  $3Dmolpromise = loadScriptAsync('https://cdnjs.cloudflare.com/ajax/libs/3Dmol/2.1.0/3Dmol-min.js');\n}\n\nvar viewer_1750708974408563 = null;\nvar warn = document.getElementById(\"3dmolwarning_1750708974408563\");\nif(warn) {\n    warn.parentNode.removeChild(warn);\n}\n$3Dmolpromise.then(function() {\nviewer_1750708974408563 = $3Dmol.createViewer(document.getElementById(\"3dmolviewer_1750708974408563\"),{backgroundColor:\"white\"});\nviewer_1750708974408563.zoomTo();\n\tviewer_1750708974408563.addModel(\"\\n     RDKit          3D\\n\\n  3  2  0  0  0  0  0  0  0  0999 V2000\\n   -1.2253    0.6063    0.0000 O   0  0  0  0  0  0  0  0  0  0  0  0\\n   -0.0000    0.4333    0.0000 C   0  0  0  0  0  0  0  0  0  0  0  0\\n    1.2253    0.2603    0.0000 O   0  0  0  0  0  0  0  0  0  0  0  0\\n  1  2  2  0\\n  2  3  2  0\\nM  END\\n\",\"mol\");\n\tviewer_1750708974408563.setStyle({\"stick\": {}});\n\tviewer_1750708974408563.zoomTo();\nviewer_1750708974408563.render();\n});\n</script>",
      "text/html": [
       "<div id=\"3dmolviewer_1750708974408563\"  style=\"position: relative; width: 400px; height: 300px;\">\n",
       "        <p id=\"3dmolwarning_1750708974408563\" style=\"background-color:#ffcccc;color:black\">3Dmol.js failed to load for some reason.  Please check your browser console for error messages.<br></p>\n",
       "        </div>\n",
       "<script>\n",
       "\n",
       "var loadScriptAsync = function(uri){\n",
       "  return new Promise((resolve, reject) => {\n",
       "    //this is to ignore the existence of requirejs amd\n",
       "    var savedexports, savedmodule;\n",
       "    if (typeof exports !== 'undefined') savedexports = exports;\n",
       "    else exports = {}\n",
       "    if (typeof module !== 'undefined') savedmodule = module;\n",
       "    else module = {}\n",
       "\n",
       "    var tag = document.createElement('script');\n",
       "    tag.src = uri;\n",
       "    tag.async = true;\n",
       "    tag.onload = () => {\n",
       "        exports = savedexports;\n",
       "        module = savedmodule;\n",
       "        resolve();\n",
       "    };\n",
       "  var firstScriptTag = document.getElementsByTagName('script')[0];\n",
       "  firstScriptTag.parentNode.insertBefore(tag, firstScriptTag);\n",
       "});\n",
       "};\n",
       "\n",
       "if(typeof $3Dmolpromise === 'undefined') {\n",
       "$3Dmolpromise = null;\n",
       "  $3Dmolpromise = loadScriptAsync('https://cdnjs.cloudflare.com/ajax/libs/3Dmol/2.1.0/3Dmol-min.js');\n",
       "}\n",
       "\n",
       "var viewer_1750708974408563 = null;\n",
       "var warn = document.getElementById(\"3dmolwarning_1750708974408563\");\n",
       "if(warn) {\n",
       "    warn.parentNode.removeChild(warn);\n",
       "}\n",
       "$3Dmolpromise.then(function() {\n",
       "viewer_1750708974408563 = $3Dmol.createViewer(document.getElementById(\"3dmolviewer_1750708974408563\"),{backgroundColor:\"white\"});\n",
       "viewer_1750708974408563.zoomTo();\n",
       "\tviewer_1750708974408563.addModel(\"\\n     RDKit          3D\\n\\n  3  2  0  0  0  0  0  0  0  0999 V2000\\n   -1.2253    0.6063    0.0000 O   0  0  0  0  0  0  0  0  0  0  0  0\\n   -0.0000    0.4333    0.0000 C   0  0  0  0  0  0  0  0  0  0  0  0\\n    1.2253    0.2603    0.0000 O   0  0  0  0  0  0  0  0  0  0  0  0\\n  1  2  2  0\\n  2  3  2  0\\nM  END\\n\",\"mol\");\n",
       "\tviewer_1750708974408563.setStyle({\"stick\": {}});\n",
       "\tviewer_1750708974408563.zoomTo();\n",
       "viewer_1750708974408563.render();\n",
       "});\n",
       "</script>"
      ]
     },
     "metadata": {},
     "output_type": "display_data"
    },
    {
     "name": "stdout",
     "output_type": "stream",
     "text": [
      "— sphere\n"
     ]
    },
    {
     "data": {
      "application/3dmoljs_load.v0": "<div id=\"3dmolviewer_1750708974409324\"  style=\"position: relative; width: 400px; height: 300px;\">\n        <p id=\"3dmolwarning_1750708974409324\" style=\"background-color:#ffcccc;color:black\">3Dmol.js failed to load for some reason.  Please check your browser console for error messages.<br></p>\n        </div>\n<script>\n\nvar loadScriptAsync = function(uri){\n  return new Promise((resolve, reject) => {\n    //this is to ignore the existence of requirejs amd\n    var savedexports, savedmodule;\n    if (typeof exports !== 'undefined') savedexports = exports;\n    else exports = {}\n    if (typeof module !== 'undefined') savedmodule = module;\n    else module = {}\n\n    var tag = document.createElement('script');\n    tag.src = uri;\n    tag.async = true;\n    tag.onload = () => {\n        exports = savedexports;\n        module = savedmodule;\n        resolve();\n    };\n  var firstScriptTag = document.getElementsByTagName('script')[0];\n  firstScriptTag.parentNode.insertBefore(tag, firstScriptTag);\n});\n};\n\nif(typeof $3Dmolpromise === 'undefined') {\n$3Dmolpromise = null;\n  $3Dmolpromise = loadScriptAsync('https://cdnjs.cloudflare.com/ajax/libs/3Dmol/2.1.0/3Dmol-min.js');\n}\n\nvar viewer_1750708974409324 = null;\nvar warn = document.getElementById(\"3dmolwarning_1750708974409324\");\nif(warn) {\n    warn.parentNode.removeChild(warn);\n}\n$3Dmolpromise.then(function() {\nviewer_1750708974409324 = $3Dmol.createViewer(document.getElementById(\"3dmolviewer_1750708974409324\"),{backgroundColor:\"white\"});\nviewer_1750708974409324.zoomTo();\n\tviewer_1750708974409324.addModel(\"\\n     RDKit          3D\\n\\n  3  2  0  0  0  0  0  0  0  0999 V2000\\n   -1.2253    0.6063    0.0000 O   0  0  0  0  0  0  0  0  0  0  0  0\\n   -0.0000    0.4333    0.0000 C   0  0  0  0  0  0  0  0  0  0  0  0\\n    1.2253    0.2603    0.0000 O   0  0  0  0  0  0  0  0  0  0  0  0\\n  1  2  2  0\\n  2  3  2  0\\nM  END\\n\",\"mol\");\n\tviewer_1750708974409324.setStyle({\"sphere\": {}});\n\tviewer_1750708974409324.zoomTo();\nviewer_1750708974409324.render();\n});\n</script>",
      "text/html": [
       "<div id=\"3dmolviewer_1750708974409324\"  style=\"position: relative; width: 400px; height: 300px;\">\n",
       "        <p id=\"3dmolwarning_1750708974409324\" style=\"background-color:#ffcccc;color:black\">3Dmol.js failed to load for some reason.  Please check your browser console for error messages.<br></p>\n",
       "        </div>\n",
       "<script>\n",
       "\n",
       "var loadScriptAsync = function(uri){\n",
       "  return new Promise((resolve, reject) => {\n",
       "    //this is to ignore the existence of requirejs amd\n",
       "    var savedexports, savedmodule;\n",
       "    if (typeof exports !== 'undefined') savedexports = exports;\n",
       "    else exports = {}\n",
       "    if (typeof module !== 'undefined') savedmodule = module;\n",
       "    else module = {}\n",
       "\n",
       "    var tag = document.createElement('script');\n",
       "    tag.src = uri;\n",
       "    tag.async = true;\n",
       "    tag.onload = () => {\n",
       "        exports = savedexports;\n",
       "        module = savedmodule;\n",
       "        resolve();\n",
       "    };\n",
       "  var firstScriptTag = document.getElementsByTagName('script')[0];\n",
       "  firstScriptTag.parentNode.insertBefore(tag, firstScriptTag);\n",
       "});\n",
       "};\n",
       "\n",
       "if(typeof $3Dmolpromise === 'undefined') {\n",
       "$3Dmolpromise = null;\n",
       "  $3Dmolpromise = loadScriptAsync('https://cdnjs.cloudflare.com/ajax/libs/3Dmol/2.1.0/3Dmol-min.js');\n",
       "}\n",
       "\n",
       "var viewer_1750708974409324 = null;\n",
       "var warn = document.getElementById(\"3dmolwarning_1750708974409324\");\n",
       "if(warn) {\n",
       "    warn.parentNode.removeChild(warn);\n",
       "}\n",
       "$3Dmolpromise.then(function() {\n",
       "viewer_1750708974409324 = $3Dmol.createViewer(document.getElementById(\"3dmolviewer_1750708974409324\"),{backgroundColor:\"white\"});\n",
       "viewer_1750708974409324.zoomTo();\n",
       "\tviewer_1750708974409324.addModel(\"\\n     RDKit          3D\\n\\n  3  2  0  0  0  0  0  0  0  0999 V2000\\n   -1.2253    0.6063    0.0000 O   0  0  0  0  0  0  0  0  0  0  0  0\\n   -0.0000    0.4333    0.0000 C   0  0  0  0  0  0  0  0  0  0  0  0\\n    1.2253    0.2603    0.0000 O   0  0  0  0  0  0  0  0  0  0  0  0\\n  1  2  2  0\\n  2  3  2  0\\nM  END\\n\",\"mol\");\n",
       "\tviewer_1750708974409324.setStyle({\"sphere\": {}});\n",
       "\tviewer_1750708974409324.zoomTo();\n",
       "viewer_1750708974409324.render();\n",
       "});\n",
       "</script>"
      ]
     },
     "metadata": {},
     "output_type": "display_data"
    },
    {
     "name": "stdout",
     "output_type": "stream",
     "text": [
      "— line\n"
     ]
    },
    {
     "data": {
      "application/3dmoljs_load.v0": "<div id=\"3dmolviewer_1750708974410073\"  style=\"position: relative; width: 400px; height: 300px;\">\n        <p id=\"3dmolwarning_1750708974410073\" style=\"background-color:#ffcccc;color:black\">3Dmol.js failed to load for some reason.  Please check your browser console for error messages.<br></p>\n        </div>\n<script>\n\nvar loadScriptAsync = function(uri){\n  return new Promise((resolve, reject) => {\n    //this is to ignore the existence of requirejs amd\n    var savedexports, savedmodule;\n    if (typeof exports !== 'undefined') savedexports = exports;\n    else exports = {}\n    if (typeof module !== 'undefined') savedmodule = module;\n    else module = {}\n\n    var tag = document.createElement('script');\n    tag.src = uri;\n    tag.async = true;\n    tag.onload = () => {\n        exports = savedexports;\n        module = savedmodule;\n        resolve();\n    };\n  var firstScriptTag = document.getElementsByTagName('script')[0];\n  firstScriptTag.parentNode.insertBefore(tag, firstScriptTag);\n});\n};\n\nif(typeof $3Dmolpromise === 'undefined') {\n$3Dmolpromise = null;\n  $3Dmolpromise = loadScriptAsync('https://cdnjs.cloudflare.com/ajax/libs/3Dmol/2.1.0/3Dmol-min.js');\n}\n\nvar viewer_1750708974410073 = null;\nvar warn = document.getElementById(\"3dmolwarning_1750708974410073\");\nif(warn) {\n    warn.parentNode.removeChild(warn);\n}\n$3Dmolpromise.then(function() {\nviewer_1750708974410073 = $3Dmol.createViewer(document.getElementById(\"3dmolviewer_1750708974410073\"),{backgroundColor:\"white\"});\nviewer_1750708974410073.zoomTo();\n\tviewer_1750708974410073.addModel(\"\\n     RDKit          3D\\n\\n  3  2  0  0  0  0  0  0  0  0999 V2000\\n   -1.2253    0.6063    0.0000 O   0  0  0  0  0  0  0  0  0  0  0  0\\n   -0.0000    0.4333    0.0000 C   0  0  0  0  0  0  0  0  0  0  0  0\\n    1.2253    0.2603    0.0000 O   0  0  0  0  0  0  0  0  0  0  0  0\\n  1  2  2  0\\n  2  3  2  0\\nM  END\\n\",\"mol\");\n\tviewer_1750708974410073.setStyle({\"line\": {}});\n\tviewer_1750708974410073.zoomTo();\nviewer_1750708974410073.render();\n});\n</script>",
      "text/html": [
       "<div id=\"3dmolviewer_1750708974410073\"  style=\"position: relative; width: 400px; height: 300px;\">\n",
       "        <p id=\"3dmolwarning_1750708974410073\" style=\"background-color:#ffcccc;color:black\">3Dmol.js failed to load for some reason.  Please check your browser console for error messages.<br></p>\n",
       "        </div>\n",
       "<script>\n",
       "\n",
       "var loadScriptAsync = function(uri){\n",
       "  return new Promise((resolve, reject) => {\n",
       "    //this is to ignore the existence of requirejs amd\n",
       "    var savedexports, savedmodule;\n",
       "    if (typeof exports !== 'undefined') savedexports = exports;\n",
       "    else exports = {}\n",
       "    if (typeof module !== 'undefined') savedmodule = module;\n",
       "    else module = {}\n",
       "\n",
       "    var tag = document.createElement('script');\n",
       "    tag.src = uri;\n",
       "    tag.async = true;\n",
       "    tag.onload = () => {\n",
       "        exports = savedexports;\n",
       "        module = savedmodule;\n",
       "        resolve();\n",
       "    };\n",
       "  var firstScriptTag = document.getElementsByTagName('script')[0];\n",
       "  firstScriptTag.parentNode.insertBefore(tag, firstScriptTag);\n",
       "});\n",
       "};\n",
       "\n",
       "if(typeof $3Dmolpromise === 'undefined') {\n",
       "$3Dmolpromise = null;\n",
       "  $3Dmolpromise = loadScriptAsync('https://cdnjs.cloudflare.com/ajax/libs/3Dmol/2.1.0/3Dmol-min.js');\n",
       "}\n",
       "\n",
       "var viewer_1750708974410073 = null;\n",
       "var warn = document.getElementById(\"3dmolwarning_1750708974410073\");\n",
       "if(warn) {\n",
       "    warn.parentNode.removeChild(warn);\n",
       "}\n",
       "$3Dmolpromise.then(function() {\n",
       "viewer_1750708974410073 = $3Dmol.createViewer(document.getElementById(\"3dmolviewer_1750708974410073\"),{backgroundColor:\"white\"});\n",
       "viewer_1750708974410073.zoomTo();\n",
       "\tviewer_1750708974410073.addModel(\"\\n     RDKit          3D\\n\\n  3  2  0  0  0  0  0  0  0  0999 V2000\\n   -1.2253    0.6063    0.0000 O   0  0  0  0  0  0  0  0  0  0  0  0\\n   -0.0000    0.4333    0.0000 C   0  0  0  0  0  0  0  0  0  0  0  0\\n    1.2253    0.2603    0.0000 O   0  0  0  0  0  0  0  0  0  0  0  0\\n  1  2  2  0\\n  2  3  2  0\\nM  END\\n\",\"mol\");\n",
       "\tviewer_1750708974410073.setStyle({\"line\": {}});\n",
       "\tviewer_1750708974410073.zoomTo();\n",
       "viewer_1750708974410073.render();\n",
       "});\n",
       "</script>"
      ]
     },
     "metadata": {},
     "output_type": "display_data"
    },
    {
     "name": "stdout",
     "output_type": "stream",
     "text": [
      "— surface\n"
     ]
    },
    {
     "data": {
      "application/3dmoljs_load.v0": "<div id=\"3dmolviewer_175070897441077\"  style=\"position: relative; width: 400px; height: 300px;\">\n        <p id=\"3dmolwarning_175070897441077\" style=\"background-color:#ffcccc;color:black\">3Dmol.js failed to load for some reason.  Please check your browser console for error messages.<br></p>\n        </div>\n<script>\n\nvar loadScriptAsync = function(uri){\n  return new Promise((resolve, reject) => {\n    //this is to ignore the existence of requirejs amd\n    var savedexports, savedmodule;\n    if (typeof exports !== 'undefined') savedexports = exports;\n    else exports = {}\n    if (typeof module !== 'undefined') savedmodule = module;\n    else module = {}\n\n    var tag = document.createElement('script');\n    tag.src = uri;\n    tag.async = true;\n    tag.onload = () => {\n        exports = savedexports;\n        module = savedmodule;\n        resolve();\n    };\n  var firstScriptTag = document.getElementsByTagName('script')[0];\n  firstScriptTag.parentNode.insertBefore(tag, firstScriptTag);\n});\n};\n\nif(typeof $3Dmolpromise === 'undefined') {\n$3Dmolpromise = null;\n  $3Dmolpromise = loadScriptAsync('https://cdnjs.cloudflare.com/ajax/libs/3Dmol/2.1.0/3Dmol-min.js');\n}\n\nvar viewer_175070897441077 = null;\nvar warn = document.getElementById(\"3dmolwarning_175070897441077\");\nif(warn) {\n    warn.parentNode.removeChild(warn);\n}\n$3Dmolpromise.then(function() {\nviewer_175070897441077 = $3Dmol.createViewer(document.getElementById(\"3dmolviewer_175070897441077\"),{backgroundColor:\"white\"});\nviewer_175070897441077.zoomTo();\n\tviewer_175070897441077.addModel(\"\\n     RDKit          3D\\n\\n  3  2  0  0  0  0  0  0  0  0999 V2000\\n   -1.2253    0.6063    0.0000 O   0  0  0  0  0  0  0  0  0  0  0  0\\n   -0.0000    0.4333    0.0000 C   0  0  0  0  0  0  0  0  0  0  0  0\\n    1.2253    0.2603    0.0000 O   0  0  0  0  0  0  0  0  0  0  0  0\\n  1  2  2  0\\n  2  3  2  0\\nM  END\\n\",\"mol\");\n\tviewer_175070897441077.setStyle({\"stick\": {\"radius\": 0.15}});\n\tviewer_175070897441077.addSurface(1,{\"opacity\": 0.7, \"color\": \"0x99ccff\"});\n\tviewer_175070897441077.zoomTo();\nviewer_175070897441077.render();\n});\n</script>",
      "text/html": [
       "<div id=\"3dmolviewer_175070897441077\"  style=\"position: relative; width: 400px; height: 300px;\">\n",
       "        <p id=\"3dmolwarning_175070897441077\" style=\"background-color:#ffcccc;color:black\">3Dmol.js failed to load for some reason.  Please check your browser console for error messages.<br></p>\n",
       "        </div>\n",
       "<script>\n",
       "\n",
       "var loadScriptAsync = function(uri){\n",
       "  return new Promise((resolve, reject) => {\n",
       "    //this is to ignore the existence of requirejs amd\n",
       "    var savedexports, savedmodule;\n",
       "    if (typeof exports !== 'undefined') savedexports = exports;\n",
       "    else exports = {}\n",
       "    if (typeof module !== 'undefined') savedmodule = module;\n",
       "    else module = {}\n",
       "\n",
       "    var tag = document.createElement('script');\n",
       "    tag.src = uri;\n",
       "    tag.async = true;\n",
       "    tag.onload = () => {\n",
       "        exports = savedexports;\n",
       "        module = savedmodule;\n",
       "        resolve();\n",
       "    };\n",
       "  var firstScriptTag = document.getElementsByTagName('script')[0];\n",
       "  firstScriptTag.parentNode.insertBefore(tag, firstScriptTag);\n",
       "});\n",
       "};\n",
       "\n",
       "if(typeof $3Dmolpromise === 'undefined') {\n",
       "$3Dmolpromise = null;\n",
       "  $3Dmolpromise = loadScriptAsync('https://cdnjs.cloudflare.com/ajax/libs/3Dmol/2.1.0/3Dmol-min.js');\n",
       "}\n",
       "\n",
       "var viewer_175070897441077 = null;\n",
       "var warn = document.getElementById(\"3dmolwarning_175070897441077\");\n",
       "if(warn) {\n",
       "    warn.parentNode.removeChild(warn);\n",
       "}\n",
       "$3Dmolpromise.then(function() {\n",
       "viewer_175070897441077 = $3Dmol.createViewer(document.getElementById(\"3dmolviewer_175070897441077\"),{backgroundColor:\"white\"});\n",
       "viewer_175070897441077.zoomTo();\n",
       "\tviewer_175070897441077.addModel(\"\\n     RDKit          3D\\n\\n  3  2  0  0  0  0  0  0  0  0999 V2000\\n   -1.2253    0.6063    0.0000 O   0  0  0  0  0  0  0  0  0  0  0  0\\n   -0.0000    0.4333    0.0000 C   0  0  0  0  0  0  0  0  0  0  0  0\\n    1.2253    0.2603    0.0000 O   0  0  0  0  0  0  0  0  0  0  0  0\\n  1  2  2  0\\n  2  3  2  0\\nM  END\\n\",\"mol\");\n",
       "\tviewer_175070897441077.setStyle({\"stick\": {\"radius\": 0.15}});\n",
       "\tviewer_175070897441077.addSurface(1,{\"opacity\": 0.7, \"color\": \"0x99ccff\"});\n",
       "\tviewer_175070897441077.zoomTo();\n",
       "viewer_175070897441077.render();\n",
       "});\n",
       "</script>"
      ]
     },
     "metadata": {},
     "output_type": "display_data"
    }
   ],
   "source": [
    "# TODO 1: Replace with your own SMILES list\n",
    "my_smiles = ['CCO', 'O=C=O']  # ethanol, CO2 – edit me!\n",
    "\n",
    "for smi in my_smiles:\n",
    "    mol = Chem.MolFromSmiles(smi)\n",
    "    m3d = embed_3d(mol)\n",
    "    print(f'\\nMolecule: {smi}')\n",
    "    # 2‑D\n",
    "    display(Draw.MolToImage(mol, size=(200,150)))\n",
    "    # 3‑D styles\n",
    "    for sty in ['stick', 'sphere', 'line', 'surface']:\n",
    "        print(f'— {sty}')\n",
    "        view_style(m3d, sty)\n",
    "    # TODO 2: Write your reflection here (markdown cell?)\n"
   ]
  },
  {
   "cell_type": "markdown",
   "id": "31e4088e",
   "metadata": {},
   "source": [
    "### Challenge ⭐ — Side‑by‑side Grid\n",
    "Write a function that renders a **2 × 2 grid** of the four 3‑D styles for a single molecule so you can compare them at a glance. *(Tip: py3Dmol supports creating multiple `view` objects and concatenating them in HTML.)*"
   ]
  },
  {
   "cell_type": "code",
   "execution_count": 9,
   "id": "569d4910",
   "metadata": {},
   "outputs": [],
   "source": [
    "# TODO 3: Implement side‑by‑side grid (optional)\n",
    "def four_view_grid(mol3d):\n",
    "    pass  # ← Your code here\n"
   ]
  },
  {
   "cell_type": "markdown",
   "id": "f63ee457",
   "metadata": {},
   "source": [
    "## Summary & Next Steps\n",
    "- Different visualisation styles highlight **different aspects** of molecular structure.  \n",
    "- Knowing when to choose ball‑and‑stick vs space‑filling (for example) is a key part of scientific communication.  \n",
    "- Experiment with colour schemes, surfaces (`addSurface` options in py3Dmol), and even **electrostatic potential maps** (requires cube files) to deepen your visual toolbox."
   ]
  }
 ],
 "metadata": {
  "kernelspec": {
   "display_name": "molssi-actcms-test",
   "language": "python",
   "name": "python3"
  },
  "language_info": {
   "codemirror_mode": {
    "name": "ipython",
    "version": 3
   },
   "file_extension": ".py",
   "mimetype": "text/x-python",
   "name": "python",
   "nbconvert_exporter": "python",
   "pygments_lexer": "ipython3",
   "version": "3.11.9"
  }
 },
 "nbformat": 4,
 "nbformat_minor": 5
}
