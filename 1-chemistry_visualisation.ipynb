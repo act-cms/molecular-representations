{
 "cells": [
  {
   "cell_type": "markdown",
   "id": "75a33887",
   "metadata": {},
   "source": [
    "[![Open In Colab](https://colab.research.google.com/assets/colab-badge.svg)](https://colab.research.google.com/github/act-cms/molecular-representations/blob/main/1-chemistry_visualisation.ipynb)\n"
   ]
  },
  {
   "cell_type": "markdown",
   "id": "5c27770f",
   "metadata": {},
   "source": [
    "# Molecular Visualisation Toolkit 🎨🧬\n",
    "\n",
    "*General Chemistry & Cyberinfrastructure Skills Module*"
   ]
  },
  {
   "cell_type": "markdown",
   "id": "2d01c7b7",
   "metadata": {},
   "source": [
    "## Learning Objective\n",
    "Construct and **distinguish** between different molecular visualisations, including (but not limited to):\n",
    "- **Ball‑and‑stick**\n",
    "- **Space‑filling** (CPK)\n",
    "- **Line / wireframe**\n",
    "- **2‑D line drawing**\n",
    "- **Electron‑cloud / VDW surface**"
   ]
  },
  {
   "cell_type": "markdown",
   "id": "341be8d9",
   "metadata": {},
   "source": [
    "### Warm‑Up Questions\n",
    "\n",
    "**WQ‑1.** What are some of the different ways we've discussed to represent/draw molecules in class so far? In which cases is each most useful?\n",
    "\n",
    "<span style=\"color:cyan\"><strong>Free response:</strong> YOUR RESPONSE TEXT HERE </span>\n",
    "\n",
    "**WQ‑2.** What are some ways you've previously tried to visualise molecules or look up what their structure looks like? Have you ever asked ChatGPT or similar tools to help you with this?\n",
    "\n",
    "<span style=\"color:cyan\"><strong>Free response:</strong> YOUR RESPONSE TEXT HERE </span>\n"
   ]
  },
  {
   "cell_type": "markdown",
   "id": "348eb1f7",
   "metadata": {},
   "source": [
    "### Generative AI Shortcomings for Chemical Visualisation\n",
    "\n",
    "The following results were obtained using ChatGPT 5 Thinking in October 2025."
   ]
  },
  {
   "cell_type": "code",
   "execution_count": null,
   "id": "65b5d352",
   "metadata": {},
   "outputs": [],
   "source": [
    "from IPython.display import Image, display, HTML\n",
    "\n",
    "display(HTML('<b>Caffeine:</b> \"What does a caffeine molecule look like? Please generate an image\"'))\n",
    "display(Image('caffeine_chatgpt.png', width=200, height=150))\n",
    "\n",
    "display(HTML('<b>Ozone:</b> \"Please generate an image of the electron density around an O<sub>3</sub> molecule\"'))\n",
    "display(Image('o3_chatgpt.png', width=200, height=150))\n",
    "\n"
   ]
  },
  {
   "cell_type": "markdown",
   "id": "7abf8d4b",
   "metadata": {},
   "source": [
    "## Prerequisites\n",
    "- Python ≥ 3.8\n",
    "- **RDKit** for molecule parsing & 2‑D depictions\n",
    "- **py3Dmol** for interactive 3‑D\n",
    "\n",
    "On Google Colab, run the install cell below first."
   ]
  },
  {
   "cell_type": "code",
   "execution_count": null,
   "id": "6c962c5a",
   "metadata": {},
   "outputs": [],
   "source": [
    "# !pip install rdkit-pypi py3Dmol -q   # ← Uncomment if needed\n",
    "\n",
    "from rdkit import Chem\n",
    "from rdkit.Chem import AllChem, Draw\n",
    "from rdkit.Chem.Draw import rdMolDraw2D\n",
    "try:\n",
    "    import py3Dmol\n",
    "except ModuleNotFoundError:\n",
    "    raise ModuleNotFoundError('Install py3Dmol to use this notebook!')"
   ]
  },
  {
   "cell_type": "code",
   "execution_count": null,
   "id": "0d542e5a",
   "metadata": {},
   "outputs": [],
   "source": [
    "def embed_3d(mol):\n",
    "    \"\"\"Return a 3‑D conformation using RDKit ETKDG and UFF optimise.\"\"\"\n",
    "    m = Chem.AddHs(Chem.Mol(mol))\n",
    "    AllChem.EmbedMolecule(m, AllChem.ETKDG())\n",
    "    AllChem.UFFOptimizeMolecule(m)\n",
    "    return m\n",
    "\n",
    "def view_style(mol3d, style='stick'):\n",
    "    \"\"\"Show *mol3d* (with 3‑D coords) in chosen *style*.\"\"\"\n",
    "    block = Chem.MolToMolBlock(mol3d)\n",
    "    v = py3Dmol.view(width=400, height=300)\n",
    "    v.addModel(block, 'mol')\n",
    "    if style == 'surface':\n",
    "        v.setStyle({'stick':{'radius':0.15}})\n",
    "        v.addSurface(py3Dmol.VDW, {'opacity':0.7, 'color':'0x99ccff'})\n",
    "    else:\n",
    "        v.setStyle({style:{}})\n",
    "    v.zoomTo()\n",
    "    return v.show()\n"
   ]
  },
  {
   "cell_type": "markdown",
   "id": "988e1459",
   "metadata": {},
   "source": [
    "## Visualisation Styles at a Glance\n",
    "| Style | What it emphasises | Typical use |\n",
    "|-------|--------------------|--------------|\n",
    "| **Line / wireframe** | Connectivity (bonds), fastest to render | quick sketches, large biomolecules |\n",
    "| **Ball‑and‑stick** | Both atoms (balls) and bonds (sticks); shows angles | teaching geometry |\n",
    "| **Space‑filling (CPK)** | Atomic radii & overall molecular shape | packing, docking visualisation |\n",
    "| **Electron cloud / VDW surface** | Approx. electron density; cavities & pockets | reactivity, protein‑ligand fits |\n",
    "| **2‑D depiction** | Flat schematic | reports, publications |"
   ]
  },
  {
   "cell_type": "markdown",
   "id": "88bec538",
   "metadata": {},
   "source": [
    "## Worked Example — Caffeine ☕\n",
    "We’ll generate 2‑D and 3‑D views in multiple styles."
   ]
  },
  {
   "cell_type": "code",
   "execution_count": null,
   "id": "800dbb43",
   "metadata": {},
   "outputs": [],
   "source": [
    "caffeine = Chem.MolFromSmiles('Cn1cnc2c1c(=O)n(C)c(=O)n2C')\n",
    "caff3d = embed_3d(caffeine)\n",
    "\n",
    "# 2‑D depiction\n",
    "Draw.MolToImage(caffeine, size=(250, 200))"
   ]
  },
  {
   "cell_type": "code",
   "execution_count": null,
   "id": "8ccf59d0",
   "metadata": {},
   "outputs": [],
   "source": [
    "# Ball‑and‑stick\n",
    "view_style(caff3d, 'stick')"
   ]
  },
  {
   "cell_type": "code",
   "execution_count": null,
   "id": "464dff77",
   "metadata": {},
   "outputs": [],
   "source": [
    "# Space‑filling (CPK)\n",
    "view_style(caff3d, 'sphere')"
   ]
  },
  {
   "cell_type": "code",
   "execution_count": null,
   "id": "305a35f9",
   "metadata": {},
   "outputs": [],
   "source": [
    "# Wireframe / line\n",
    "view_style(caff3d, 'line')"
   ]
  },
  {
   "cell_type": "code",
   "execution_count": null,
   "id": "743d6020",
   "metadata": {},
   "outputs": [],
   "source": [
    "# Electron cloud (VDW surface) + thin sticks for reference\n",
    "view_style(caff3d, 'surface')"
   ]
  },
  {
   "cell_type": "markdown",
   "id": "0ec492b7",
   "metadata": {},
   "source": [
    "## Your Turn 📝\n",
    "1. Pick **two** molecules of interest (size ≤ 80 atoms recommended).  \n",
    "2. Generate **all four** representations for each.  \n",
    "3. Briefly note which visualisation you find most informative and **why**.\n",
    "\n",
    "*(Hint: Re‑use the helper `embed_3d` and `view_style`.)*"
   ]
  },
  {
   "cell_type": "code",
   "execution_count": null,
   "id": "f745b432",
   "metadata": {},
   "outputs": [],
   "source": [
    "# TODO 1: Replace with your own SMILES list\n",
    "my_smiles = ['[O-][O+]=O', 'O=C=O', 'F']  # TODO: add 2 more SMILES strings to this list; look up SMILES online (e.g. PubChem, Wikipedia)\n",
    "\n",
    "for smi in my_smiles:\n",
    "    mol = Chem.MolFromSmiles(smi)\n",
    "    m3d = embed_3d(mol)\n",
    "    print(f'\\nMolecule: {smi}')\n",
    "    # 2‑D\n",
    "    display(Draw.MolToImage(mol, size=(200,150)))\n",
    "    # 3‑D styles\n",
    "    for sty in ['stick', 'sphere', 'line', 'surface']:\n",
    "        print(f'— {sty}')\n",
    "        view_style(m3d, sty)\n"
   ]
  },
  {
   "cell_type": "markdown",
   "id": "70f6ac94",
   "metadata": {},
   "source": [
    "**Reflection.** Which visualisation(s) did you find most informative? Why?\n",
    "\n",
    "<span style=\"color:cyan\"><strong>Free response:</strong> YOUR RESPONSE TEXT HERE </span>"
   ]
  },
  {
   "cell_type": "markdown",
   "id": "3ea784ac",
   "metadata": {},
   "source": [
    "### Critical‑Thinking Questions\n",
    "\n",
    "**CTQ‑1.** Why are generative AI models not reliable for chemical visualisation? Is there a way you can make them more reliable through better prompting?\n",
    "\n",
    "<span style=\"color:cyan\"><strong>Free response:</strong> YOUR RESPONSE TEXT HERE </span>\n",
    "\n",
    "**CTQ‑2.** What is the main difference between a **ball‑and‑stick** model and a **space‑filling** model? Which would be better for understanding molecular packing in a crystal?\n",
    "\n",
    "<span style=\"color:cyan\"><strong>Free response:</strong> YOUR RESPONSE TEXT HERE </span>\n",
    "\n",
    "**CTQ‑3.** Why might a **wireframe** representation be preferred over a **ball‑and‑stick** model when visualizing a large protein with thousands of atoms?\n",
    "\n",
    "<span style=\"color:cyan\"><strong>Free response:</strong> YOUR RESPONSE TEXT HERE </span>\n"
   ]
  },
  {
   "cell_type": "markdown",
   "id": "507b098e",
   "metadata": {},
   "source": [
    "### Challenge ⭐ — Side‑by‑side Grid\n",
    "Write a function that renders a **2 × 2 grid** of the four 3‑D styles for a single molecule so you can compare them at a glance. *(Tip: py3Dmol supports creating multiple `view` objects and concatenating them in HTML.)*"
   ]
  },
  {
   "cell_type": "code",
   "execution_count": null,
   "id": "b3dc4731",
   "metadata": {},
   "outputs": [],
   "source": [
    "# TODO 3: Implement side‑by‑side grid (optional)\n",
    "def four_view_grid(mol3d):\n",
    "    pass  # ← Your code here\n"
   ]
  },
  {
   "cell_type": "markdown",
   "id": "f63ee457",
   "metadata": {},
   "source": [
    "## Summary & Next Steps\n",
    "- Different visualisation styles highlight **different aspects** of molecular structure.  \n",
    "- Knowing when to choose ball‑and‑stick vs space‑filling (for example) is a key part of scientific communication.  \n",
    "- Experiment with colour schemes, surfaces (`addSurface` options in py3Dmol), and even **electrostatic potential maps** (requires cube files) to deepen your visual toolbox."
   ]
  }
 ],
 "metadata": {
  "kernelspec": {
   "display_name": "molssi-actcms-molecular-representations",
   "language": "python",
   "name": "python3"
  },
  "language_info": {
   "codemirror_mode": {
    "name": "ipython",
    "version": 3
   },
   "file_extension": ".py",
   "mimetype": "text/x-python",
   "name": "python",
   "nbconvert_exporter": "python",
   "pygments_lexer": "ipython3",
   "version": "3.11.9"
  }
 },
 "nbformat": 4,
 "nbformat_minor": 5
}
