{
 "cells": [
  {
   "cell_type": "markdown",
   "id": "ea6464f2",
   "metadata": {},
   "source": [
    "# Hybridisation Explorer: from **sp** to **sp³d²**\n",
    "\n",
    "*General Chemistry & Cyberinfrastructure Skills Module*\n"
   ]
  },
  {
   "cell_type": "markdown",
   "id": "49ff6731",
   "metadata": {},
   "source": [
    "## Learning Objective\n",
    "By the end of this activity, you should be able to **describe** orbital hybridisation and **determine** whether a particular atom is *sp*, *sp²*, *sp³*, *sp³d*, or *sp³d²* hybridised.\n"
   ]
  },
  {
   "cell_type": "markdown",
   "id": "ff2a7243",
   "metadata": {},
   "source": [
    "## Prerequisites\n",
    "- Python ≥ 3.8\n",
    "- **RDKit** for cheminformatics\n",
    "- *(Optional)* **py3Dmol** for 3‑D visualisation\n",
    "\n",
    "> **Tip:** If you’re running this on Google Colab, execute the installation cell below **first**."
   ]
  },
  {
   "cell_type": "code",
   "execution_count": null,
   "id": "2abc28b9",
   "metadata": {},
   "outputs": [],
   "source": [
    "# Uncomment the next line the first time you run this notebook (or on Colab)\n",
    "# !pip install rdkit-pypi py3Dmol -q\n",
    "\n",
    "from rdkit import Chem\n",
    "from rdkit.Chem import AllChem\n",
    "\n",
    "# Helper function to convert RDKit HybridizationType to a nice string\n",
    "def hybrid_str(atom):\n",
    "    return str(atom.GetHybridization()).split('.')[-1].lower()\n",
    "\n",
    "# (Optional) quick viewer\n",
    "try:\n",
    "    import py3Dmol\n",
    "    def show_3d(mol):\n",
    "        m2 = Chem.AddHs(mol)\n",
    "        AllChem.EmbedMolecule(m2, randomSeed=0xf00d)\n",
    "        mb = Chem.MolToMolBlock(m2)\n",
    "        v = py3Dmol.view()\n",
    "        v.addModel(mb, 'mol')\n",
    "        v.setStyle({'stick': {}})\n",
    "        v.zoomTo()\n",
    "        return v.show()\n",
    "except ModuleNotFoundError:\n",
    "    def show_3d(mol):\n",
    "        print('🛈 Install py3Dmol for a 3‑D view.')\n"
   ]
  },
  {
   "cell_type": "markdown",
   "id": "76b115c0",
   "metadata": {},
   "source": [
    "## Quick Concept Check 🔍\n",
    "Hybridisation is a *model* that helps rationalise molecular shape and bonding.\n",
    "\n",
    "| Hybridisation | Steric number* | Example geometry |\n",
    "|---------------|---------------|------------------|\n",
    "| sp            | 2             | Linear |\n",
    "| sp²           | 3             | Trigonal planar |\n",
    "| sp³           | 4             | Tetrahedral |\n",
    "| sp³d          | 5             | Trigonal bipyramidal |\n",
    "| sp³d²         | 6             | Octahedral |\n",
    "\n",
    "*Steric number = *σ*‑bonds + lone‑pairs on the atom."
   ]
  },
  {
   "cell_type": "markdown",
   "id": "6dcf99ab",
   "metadata": {},
   "source": [
    "## Worked Example 1 — Methane\n",
    "We’ll let RDKit calculate the hybridisation of each atom in methane (*CH₄*)."
   ]
  },
  {
   "cell_type": "code",
   "execution_count": null,
   "id": "48f2f929",
   "metadata": {},
   "outputs": [],
   "source": [
    "methane = Chem.MolFromSmiles('C')\n",
    "for atom in methane.GetAtoms():\n",
    "    print(f'Atom {atom.GetIdx():>2} ({atom.GetSymbol():<2}) → {hybrid_str(atom)}')\n",
    "\n",
    "# Visualise the 3‑D structure (optional)\n",
    "show_3d(methane)"
   ]
  },
  {
   "cell_type": "markdown",
   "id": "b987af12",
   "metadata": {},
   "source": [
    "## Worked Example 2 — Ethene vs Acetylene\n",
    "Ethene (*C₂H₄*) has a C=C double bond, whereas acetylene (*C₂H₂*) has a C≡C triple bond."
   ]
  },
  {
   "cell_type": "code",
   "execution_count": null,
   "id": "a1caca4f",
   "metadata": {},
   "outputs": [],
   "source": [
    "for name, smiles in {'Ethene':'C=C', 'Acetylene':'C#C'}.items():\n",
    "    mol = Chem.MolFromSmiles(smiles)\n",
    "    hybs = {hybrid_str(a) for a in mol.GetAtoms() if a.GetSymbol() == 'C'}\n",
    "    print(f'{name:10s}: carbon atoms → {\", \".join(sorted(hybs))}')\n",
    "    show_3d(mol)\n"
   ]
  },
  {
   "cell_type": "markdown",
   "id": "105e95c0",
   "metadata": {},
   "source": [
    "## Worked Example 3 — Beyond Octet\n",
    "Let’s inspect *PCl₅* (trigonal bipyramidal, sp³d) and *SF₆* (octahedral, sp³d²)."
   ]
  },
  {
   "cell_type": "code",
   "execution_count": null,
   "id": "d98d3e34",
   "metadata": {},
   "outputs": [],
   "source": [
    "examples = {\n",
    "    'Phosphorus pentachloride': 'ClP(Cl)(Cl)(Cl)Cl',\n",
    "    'Sulfur hexafluoride'     : 'FS(F)(F)(F)(F)F'\n",
    "}\n",
    "\n",
    "for name, smi in examples.items():\n",
    "    mol = Chem.MolFromSmiles(smi)\n",
    "    # central atom is the first heavy atom RDKit parses\n",
    "    central = mol.GetAtomWithIdx(1) if mol.GetAtomWithIdx(0).GetSymbol() == 'Cl' else mol.GetAtomWithIdx(0)\n",
    "    print(f'{name}: central {central.GetSymbol()} → {hybrid_str(central)}')\n",
    "    show_3d(mol)"
   ]
  },
  {
   "cell_type": "markdown",
   "id": "a3687bd0",
   "metadata": {},
   "source": [
    "## Your Turn 📝\n",
    "Pick **two** molecules you’re curious about (e.g. *CO₂*, *NH₃*, *XeF₂*…).\n",
    "1. Create an RDKit molecule from SMILES.\n",
    "2. Write a loop that prints the hybridisation of **every** atom.\n",
    "3. Compare the results with VSEPR predictions.\n",
    "\n",
    "*(💡 Need a hint? Revisit the `for`‑loop in the methane example.)*"
   ]
  },
  {
   "cell_type": "code",
   "execution_count": null,
   "id": "17f93de2",
   "metadata": {},
   "outputs": [],
   "source": [
    "# TODO 1: Replace with your own SMILES strings\n",
    "my_smiles = ['CO2', 'N']  # ← EDIT ME\n",
    "\n",
    "for smi in my_smiles:\n",
    "    # TODO 2: Construct molecule and analyse hybridisation\n",
    "    pass  # ← Your code here\n"
   ]
  },
  {
   "cell_type": "markdown",
   "id": "b9d88c5e",
   "metadata": {},
   "source": [
    "### Challenge: Write a Helper Function\n",
    "Write a function `predict_hybridisation(atom)` that returns the hybridisation based **only** on the steric number (σ bonds + lone pairs) *without* using RDKit’s built‑in method. Test it on a few molecules."
   ]
  },
  {
   "cell_type": "code",
   "execution_count": null,
   "id": "49afda5d",
   "metadata": {},
   "outputs": [],
   "source": [
    "def predict_hybridisation(atom):\n",
    "    \"\"\"Return a string like 'sp3' based on steric number.*\n",
    "    *Assumes atom has already computed valence & lone pair info.*\"\"\"\n",
    "    # TODO 3: Implement logic here\n",
    "    raise NotImplementedError\n"
   ]
  },
  {
   "cell_type": "markdown",
   "id": "6f9eedc1",
   "metadata": {},
   "source": [
    "## Summary & Next Steps\n",
    "- **Hybridisation** links atomic orbital mixing to molecular geometry.\n",
    "- RDKit can programmatically report each atom’s hybridisation, enabling rapid checks across many structures.\n",
    "- Challenge yourself to automate VSEPR‑based predictions **without** RDKit’s helper!\n",
    "\n",
    "> **Extension:** Combine this workflow with data from databases (e.g. the *Materials Project* API) to analyse hybridisation trends across thousands of molecules."
   ]
  }
 ],
 "metadata": {
  "kernelspec": {
   "display_name": "molssi-actcms-test",
   "language": "python",
   "name": "python3"
  },
  "language_info": {
   "codemirror_mode": {
    "name": "ipython",
    "version": 3
   },
   "file_extension": ".py",
   "mimetype": "text/x-python",
   "name": "python",
   "nbconvert_exporter": "python",
   "pygments_lexer": "ipython3",
   "version": "3.11.9"
  }
 },
 "nbformat": 4,
 "nbformat_minor": 5
}
