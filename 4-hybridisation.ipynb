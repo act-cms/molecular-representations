{
 "cells": [
  {
   "cell_type": "markdown",
   "id": "ea6464f2",
   "metadata": {},
   "source": [
    "# Hybridisation Explorer: from **sp** to **sp³d²**\n",
    "\n",
    "*General Chemistry & Cyberinfrastructure Skills Module*\n"
   ]
  },
  {
   "cell_type": "markdown",
   "id": "49ff6731",
   "metadata": {},
   "source": [
    "## Learning Objective\n",
    "By the end of this activity, you should be able to **describe** orbital hybridisation and **determine** whether a particular atom is *sp*, *sp²*, *sp³*, *sp³d*, or *sp³d²* hybridised.\n"
   ]
  },
  {
   "cell_type": "markdown",
   "id": "ff2a7243",
   "metadata": {},
   "source": [
    "## Prerequisites\n",
    "- Python ≥ 3.8\n",
    "- **RDKit** for cheminformatics\n",
    "- *(Optional)* **py3Dmol** for 3‑D visualisation\n",
    "\n",
    "> **Tip:** If you’re running this on Google Colab, execute the installation cell below **first**."
   ]
  },
  {
   "cell_type": "code",
   "execution_count": 1,
   "id": "2abc28b9",
   "metadata": {},
   "outputs": [],
   "source": [
    "# Uncomment the next line the first time you run this notebook (or on Colab)\n",
    "# !pip install rdkit-pypi py3Dmol -q\n",
    "\n",
    "from rdkit import Chem\n",
    "from rdkit.Chem import AllChem\n",
    "\n",
    "# Helper function to convert RDKit HybridizationType to a nice string\n",
    "def hybrid_str(atom):\n",
    "    return str(atom.GetHybridization()).split('.')[-1].lower()\n",
    "\n",
    "# (Optional) quick viewer\n",
    "try:\n",
    "    import py3Dmol\n",
    "    def show_3d(mol):\n",
    "        m2 = Chem.AddHs(mol)\n",
    "        AllChem.EmbedMolecule(m2, randomSeed=0xf00d)\n",
    "        mb = Chem.MolToMolBlock(m2)\n",
    "        v = py3Dmol.view()\n",
    "        v.addModel(mb, 'mol')\n",
    "        v.setStyle({'stick': {}})\n",
    "        v.zoomTo()\n",
    "        return v.show()\n",
    "except ModuleNotFoundError:\n",
    "    def show_3d(mol):\n",
    "        print('🛈 Install py3Dmol for a 3‑D view.')\n"
   ]
  },
  {
   "cell_type": "markdown",
   "id": "76b115c0",
   "metadata": {},
   "source": [
    "## Quick Concept Check 🔍\n",
    "Hybridisation is a *model* that helps rationalise molecular shape and bonding.\n",
    "\n",
    "| Hybridisation | Steric number* | Example geometry |\n",
    "|---------------|---------------|------------------|\n",
    "| sp            | 2             | Linear |\n",
    "| sp²           | 3             | Trigonal planar |\n",
    "| sp³           | 4             | Tetrahedral |\n",
    "| sp³d          | 5             | Trigonal bipyramidal |\n",
    "| sp³d²         | 6             | Octahedral |\n",
    "\n",
    "*Steric number = *σ*‑bonds + lone‑pairs on the atom."
   ]
  },
  {
   "cell_type": "markdown",
   "id": "6dcf99ab",
   "metadata": {},
   "source": [
    "## Worked Example 1 — Methane\n",
    "We’ll let RDKit calculate the hybridisation of each atom in methane (*CH₄*)."
   ]
  },
  {
   "cell_type": "code",
   "execution_count": 2,
   "id": "48f2f929",
   "metadata": {},
   "outputs": [
    {
     "name": "stdout",
     "output_type": "stream",
     "text": [
      "Atom  0 (C ) → sp3\n"
     ]
    },
    {
     "data": {
      "application/3dmoljs_load.v0": "<div id=\"3dmolviewer_1750633888780693\"  style=\"position: relative; width: 640px; height: 480px;\">\n        <p id=\"3dmolwarning_1750633888780693\" style=\"background-color:#ffcccc;color:black\">3Dmol.js failed to load for some reason.  Please check your browser console for error messages.<br></p>\n        </div>\n<script>\n\nvar loadScriptAsync = function(uri){\n  return new Promise((resolve, reject) => {\n    //this is to ignore the existence of requirejs amd\n    var savedexports, savedmodule;\n    if (typeof exports !== 'undefined') savedexports = exports;\n    else exports = {}\n    if (typeof module !== 'undefined') savedmodule = module;\n    else module = {}\n\n    var tag = document.createElement('script');\n    tag.src = uri;\n    tag.async = true;\n    tag.onload = () => {\n        exports = savedexports;\n        module = savedmodule;\n        resolve();\n    };\n  var firstScriptTag = document.getElementsByTagName('script')[0];\n  firstScriptTag.parentNode.insertBefore(tag, firstScriptTag);\n});\n};\n\nif(typeof $3Dmolpromise === 'undefined') {\n$3Dmolpromise = null;\n  $3Dmolpromise = loadScriptAsync('https://cdnjs.cloudflare.com/ajax/libs/3Dmol/2.1.0/3Dmol-min.js');\n}\n\nvar viewer_1750633888780693 = null;\nvar warn = document.getElementById(\"3dmolwarning_1750633888780693\");\nif(warn) {\n    warn.parentNode.removeChild(warn);\n}\n$3Dmolpromise.then(function() {\nviewer_1750633888780693 = $3Dmol.createViewer(document.getElementById(\"3dmolviewer_1750633888780693\"),{backgroundColor:\"white\"});\nviewer_1750633888780693.zoomTo();\n\tviewer_1750633888780693.addModel(\"\\n     RDKit          3D\\n\\n  5  4  0  0  0  0  0  0  0  0999 V2000\\n    0.0009    0.0041   -0.0202 C   0  0  0  0  0  0  0  0  0  0  0  0\\n   -0.6577   -0.8481   -0.3214 H   0  0  0  0  0  0  0  0  0  0  0  0\\n   -0.4585    0.9752   -0.3061 H   0  0  0  0  0  0  0  0  0  0  0  0\\n    0.0853   -0.0253    1.0804 H   0  0  0  0  0  0  0  0  0  0  0  0\\n    1.0300   -0.1058   -0.4327 H   0  0  0  0  0  0  0  0  0  0  0  0\\n  1  2  1  0\\n  1  3  1  0\\n  1  4  1  0\\n  1  5  1  0\\nM  END\\n\",\"mol\");\n\tviewer_1750633888780693.setStyle({\"stick\": {}});\n\tviewer_1750633888780693.zoomTo();\nviewer_1750633888780693.render();\n});\n</script>",
      "text/html": [
       "<div id=\"3dmolviewer_1750633888780693\"  style=\"position: relative; width: 640px; height: 480px;\">\n",
       "        <p id=\"3dmolwarning_1750633888780693\" style=\"background-color:#ffcccc;color:black\">3Dmol.js failed to load for some reason.  Please check your browser console for error messages.<br></p>\n",
       "        </div>\n",
       "<script>\n",
       "\n",
       "var loadScriptAsync = function(uri){\n",
       "  return new Promise((resolve, reject) => {\n",
       "    //this is to ignore the existence of requirejs amd\n",
       "    var savedexports, savedmodule;\n",
       "    if (typeof exports !== 'undefined') savedexports = exports;\n",
       "    else exports = {}\n",
       "    if (typeof module !== 'undefined') savedmodule = module;\n",
       "    else module = {}\n",
       "\n",
       "    var tag = document.createElement('script');\n",
       "    tag.src = uri;\n",
       "    tag.async = true;\n",
       "    tag.onload = () => {\n",
       "        exports = savedexports;\n",
       "        module = savedmodule;\n",
       "        resolve();\n",
       "    };\n",
       "  var firstScriptTag = document.getElementsByTagName('script')[0];\n",
       "  firstScriptTag.parentNode.insertBefore(tag, firstScriptTag);\n",
       "});\n",
       "};\n",
       "\n",
       "if(typeof $3Dmolpromise === 'undefined') {\n",
       "$3Dmolpromise = null;\n",
       "  $3Dmolpromise = loadScriptAsync('https://cdnjs.cloudflare.com/ajax/libs/3Dmol/2.1.0/3Dmol-min.js');\n",
       "}\n",
       "\n",
       "var viewer_1750633888780693 = null;\n",
       "var warn = document.getElementById(\"3dmolwarning_1750633888780693\");\n",
       "if(warn) {\n",
       "    warn.parentNode.removeChild(warn);\n",
       "}\n",
       "$3Dmolpromise.then(function() {\n",
       "viewer_1750633888780693 = $3Dmol.createViewer(document.getElementById(\"3dmolviewer_1750633888780693\"),{backgroundColor:\"white\"});\n",
       "viewer_1750633888780693.zoomTo();\n",
       "\tviewer_1750633888780693.addModel(\"\\n     RDKit          3D\\n\\n  5  4  0  0  0  0  0  0  0  0999 V2000\\n    0.0009    0.0041   -0.0202 C   0  0  0  0  0  0  0  0  0  0  0  0\\n   -0.6577   -0.8481   -0.3214 H   0  0  0  0  0  0  0  0  0  0  0  0\\n   -0.4585    0.9752   -0.3061 H   0  0  0  0  0  0  0  0  0  0  0  0\\n    0.0853   -0.0253    1.0804 H   0  0  0  0  0  0  0  0  0  0  0  0\\n    1.0300   -0.1058   -0.4327 H   0  0  0  0  0  0  0  0  0  0  0  0\\n  1  2  1  0\\n  1  3  1  0\\n  1  4  1  0\\n  1  5  1  0\\nM  END\\n\",\"mol\");\n",
       "\tviewer_1750633888780693.setStyle({\"stick\": {}});\n",
       "\tviewer_1750633888780693.zoomTo();\n",
       "viewer_1750633888780693.render();\n",
       "});\n",
       "</script>"
      ]
     },
     "metadata": {},
     "output_type": "display_data"
    }
   ],
   "source": [
    "methane = Chem.MolFromSmiles('C')\n",
    "for atom in methane.GetAtoms():\n",
    "    print(f'Atom {atom.GetIdx():>2} ({atom.GetSymbol():<2}) → {hybrid_str(atom)}')\n",
    "\n",
    "# Visualise the 3‑D structure (optional)\n",
    "show_3d(methane)"
   ]
  },
  {
   "cell_type": "markdown",
   "id": "b987af12",
   "metadata": {},
   "source": [
    "## Worked Example 2 — Ethene vs Acetylene\n",
    "Ethene (*C₂H₄*) has a C=C double bond, whereas acetylene (*C₂H₂*) has a C≡C triple bond."
   ]
  },
  {
   "cell_type": "code",
   "execution_count": 3,
   "id": "a1caca4f",
   "metadata": {},
   "outputs": [
    {
     "name": "stdout",
     "output_type": "stream",
     "text": [
      "Ethene    : carbon atoms → sp2\n"
     ]
    },
    {
     "data": {
      "application/3dmoljs_load.v0": "<div id=\"3dmolviewer_17506338887911308\"  style=\"position: relative; width: 640px; height: 480px;\">\n        <p id=\"3dmolwarning_17506338887911308\" style=\"background-color:#ffcccc;color:black\">3Dmol.js failed to load for some reason.  Please check your browser console for error messages.<br></p>\n        </div>\n<script>\n\nvar loadScriptAsync = function(uri){\n  return new Promise((resolve, reject) => {\n    //this is to ignore the existence of requirejs amd\n    var savedexports, savedmodule;\n    if (typeof exports !== 'undefined') savedexports = exports;\n    else exports = {}\n    if (typeof module !== 'undefined') savedmodule = module;\n    else module = {}\n\n    var tag = document.createElement('script');\n    tag.src = uri;\n    tag.async = true;\n    tag.onload = () => {\n        exports = savedexports;\n        module = savedmodule;\n        resolve();\n    };\n  var firstScriptTag = document.getElementsByTagName('script')[0];\n  firstScriptTag.parentNode.insertBefore(tag, firstScriptTag);\n});\n};\n\nif(typeof $3Dmolpromise === 'undefined') {\n$3Dmolpromise = null;\n  $3Dmolpromise = loadScriptAsync('https://cdnjs.cloudflare.com/ajax/libs/3Dmol/2.1.0/3Dmol-min.js');\n}\n\nvar viewer_17506338887911308 = null;\nvar warn = document.getElementById(\"3dmolwarning_17506338887911308\");\nif(warn) {\n    warn.parentNode.removeChild(warn);\n}\n$3Dmolpromise.then(function() {\nviewer_17506338887911308 = $3Dmol.createViewer(document.getElementById(\"3dmolviewer_17506338887911308\"),{backgroundColor:\"white\"});\nviewer_17506338887911308.zoomTo();\n\tviewer_17506338887911308.addModel(\"\\n     RDKit          3D\\n\\n  6  5  0  0  0  0  0  0  0  0999 V2000\\n    0.6302    0.1078   -0.1344 C   0  0  0  0  0  0  0  0  0  0  0  0\\n   -0.6383   -0.1167    0.1337 C   0  0  0  0  0  0  0  0  0  0  0  0\\n    1.2581   -0.6416   -0.5438 H   0  0  0  0  0  0  0  0  0  0  0  0\\n    1.0541    1.0829    0.0653 H   0  0  0  0  0  0  0  0  0  0  0  0\\n   -1.0523   -1.0857   -0.0667 H   0  0  0  0  0  0  0  0  0  0  0  0\\n   -1.2518    0.6534    0.5459 H   0  0  0  0  0  0  0  0  0  0  0  0\\n  1  2  2  3\\n  1  3  1  0\\n  1  4  1  0\\n  2  5  1  0\\n  2  6  1  0\\nM  END\\n\",\"mol\");\n\tviewer_17506338887911308.setStyle({\"stick\": {}});\n\tviewer_17506338887911308.zoomTo();\nviewer_17506338887911308.render();\n});\n</script>",
      "text/html": [
       "<div id=\"3dmolviewer_17506338887911308\"  style=\"position: relative; width: 640px; height: 480px;\">\n",
       "        <p id=\"3dmolwarning_17506338887911308\" style=\"background-color:#ffcccc;color:black\">3Dmol.js failed to load for some reason.  Please check your browser console for error messages.<br></p>\n",
       "        </div>\n",
       "<script>\n",
       "\n",
       "var loadScriptAsync = function(uri){\n",
       "  return new Promise((resolve, reject) => {\n",
       "    //this is to ignore the existence of requirejs amd\n",
       "    var savedexports, savedmodule;\n",
       "    if (typeof exports !== 'undefined') savedexports = exports;\n",
       "    else exports = {}\n",
       "    if (typeof module !== 'undefined') savedmodule = module;\n",
       "    else module = {}\n",
       "\n",
       "    var tag = document.createElement('script');\n",
       "    tag.src = uri;\n",
       "    tag.async = true;\n",
       "    tag.onload = () => {\n",
       "        exports = savedexports;\n",
       "        module = savedmodule;\n",
       "        resolve();\n",
       "    };\n",
       "  var firstScriptTag = document.getElementsByTagName('script')[0];\n",
       "  firstScriptTag.parentNode.insertBefore(tag, firstScriptTag);\n",
       "});\n",
       "};\n",
       "\n",
       "if(typeof $3Dmolpromise === 'undefined') {\n",
       "$3Dmolpromise = null;\n",
       "  $3Dmolpromise = loadScriptAsync('https://cdnjs.cloudflare.com/ajax/libs/3Dmol/2.1.0/3Dmol-min.js');\n",
       "}\n",
       "\n",
       "var viewer_17506338887911308 = null;\n",
       "var warn = document.getElementById(\"3dmolwarning_17506338887911308\");\n",
       "if(warn) {\n",
       "    warn.parentNode.removeChild(warn);\n",
       "}\n",
       "$3Dmolpromise.then(function() {\n",
       "viewer_17506338887911308 = $3Dmol.createViewer(document.getElementById(\"3dmolviewer_17506338887911308\"),{backgroundColor:\"white\"});\n",
       "viewer_17506338887911308.zoomTo();\n",
       "\tviewer_17506338887911308.addModel(\"\\n     RDKit          3D\\n\\n  6  5  0  0  0  0  0  0  0  0999 V2000\\n    0.6302    0.1078   -0.1344 C   0  0  0  0  0  0  0  0  0  0  0  0\\n   -0.6383   -0.1167    0.1337 C   0  0  0  0  0  0  0  0  0  0  0  0\\n    1.2581   -0.6416   -0.5438 H   0  0  0  0  0  0  0  0  0  0  0  0\\n    1.0541    1.0829    0.0653 H   0  0  0  0  0  0  0  0  0  0  0  0\\n   -1.0523   -1.0857   -0.0667 H   0  0  0  0  0  0  0  0  0  0  0  0\\n   -1.2518    0.6534    0.5459 H   0  0  0  0  0  0  0  0  0  0  0  0\\n  1  2  2  3\\n  1  3  1  0\\n  1  4  1  0\\n  2  5  1  0\\n  2  6  1  0\\nM  END\\n\",\"mol\");\n",
       "\tviewer_17506338887911308.setStyle({\"stick\": {}});\n",
       "\tviewer_17506338887911308.zoomTo();\n",
       "viewer_17506338887911308.render();\n",
       "});\n",
       "</script>"
      ]
     },
     "metadata": {},
     "output_type": "display_data"
    },
    {
     "name": "stdout",
     "output_type": "stream",
     "text": [
      "Acetylene : carbon atoms → sp\n"
     ]
    },
    {
     "data": {
      "application/3dmoljs_load.v0": "<div id=\"3dmolviewer_1750633888794576\"  style=\"position: relative; width: 640px; height: 480px;\">\n        <p id=\"3dmolwarning_1750633888794576\" style=\"background-color:#ffcccc;color:black\">3Dmol.js failed to load for some reason.  Please check your browser console for error messages.<br></p>\n        </div>\n<script>\n\nvar loadScriptAsync = function(uri){\n  return new Promise((resolve, reject) => {\n    //this is to ignore the existence of requirejs amd\n    var savedexports, savedmodule;\n    if (typeof exports !== 'undefined') savedexports = exports;\n    else exports = {}\n    if (typeof module !== 'undefined') savedmodule = module;\n    else module = {}\n\n    var tag = document.createElement('script');\n    tag.src = uri;\n    tag.async = true;\n    tag.onload = () => {\n        exports = savedexports;\n        module = savedmodule;\n        resolve();\n    };\n  var firstScriptTag = document.getElementsByTagName('script')[0];\n  firstScriptTag.parentNode.insertBefore(tag, firstScriptTag);\n});\n};\n\nif(typeof $3Dmolpromise === 'undefined') {\n$3Dmolpromise = null;\n  $3Dmolpromise = loadScriptAsync('https://cdnjs.cloudflare.com/ajax/libs/3Dmol/2.1.0/3Dmol-min.js');\n}\n\nvar viewer_1750633888794576 = null;\nvar warn = document.getElementById(\"3dmolwarning_1750633888794576\");\nif(warn) {\n    warn.parentNode.removeChild(warn);\n}\n$3Dmolpromise.then(function() {\nviewer_1750633888794576 = $3Dmol.createViewer(document.getElementById(\"3dmolviewer_1750633888794576\"),{backgroundColor:\"white\"});\nviewer_1750633888794576.zoomTo();\n\tviewer_1750633888794576.addModel(\"\\n     RDKit          3D\\n\\n  4  3  0  0  0  0  0  0  0  0999 V2000\\n    0.3554   -0.2037   -0.4481 C   0  0  0  0  0  0  0  0  0  0  0  0\\n   -0.3718    0.2147    0.4020 C   0  0  0  0  0  0  0  0  0  0  0  0\\n    1.0156   -0.6055   -1.2353 H   0  0  0  0  0  0  0  0  0  0  0  0\\n   -0.9992    0.5945    1.1572 H   0  0  0  0  0  0  0  0  0  0  0  0\\n  1  2  3  0\\n  1  3  1  0\\n  2  4  1  0\\nM  END\\n\",\"mol\");\n\tviewer_1750633888794576.setStyle({\"stick\": {}});\n\tviewer_1750633888794576.zoomTo();\nviewer_1750633888794576.render();\n});\n</script>",
      "text/html": [
       "<div id=\"3dmolviewer_1750633888794576\"  style=\"position: relative; width: 640px; height: 480px;\">\n",
       "        <p id=\"3dmolwarning_1750633888794576\" style=\"background-color:#ffcccc;color:black\">3Dmol.js failed to load for some reason.  Please check your browser console for error messages.<br></p>\n",
       "        </div>\n",
       "<script>\n",
       "\n",
       "var loadScriptAsync = function(uri){\n",
       "  return new Promise((resolve, reject) => {\n",
       "    //this is to ignore the existence of requirejs amd\n",
       "    var savedexports, savedmodule;\n",
       "    if (typeof exports !== 'undefined') savedexports = exports;\n",
       "    else exports = {}\n",
       "    if (typeof module !== 'undefined') savedmodule = module;\n",
       "    else module = {}\n",
       "\n",
       "    var tag = document.createElement('script');\n",
       "    tag.src = uri;\n",
       "    tag.async = true;\n",
       "    tag.onload = () => {\n",
       "        exports = savedexports;\n",
       "        module = savedmodule;\n",
       "        resolve();\n",
       "    };\n",
       "  var firstScriptTag = document.getElementsByTagName('script')[0];\n",
       "  firstScriptTag.parentNode.insertBefore(tag, firstScriptTag);\n",
       "});\n",
       "};\n",
       "\n",
       "if(typeof $3Dmolpromise === 'undefined') {\n",
       "$3Dmolpromise = null;\n",
       "  $3Dmolpromise = loadScriptAsync('https://cdnjs.cloudflare.com/ajax/libs/3Dmol/2.1.0/3Dmol-min.js');\n",
       "}\n",
       "\n",
       "var viewer_1750633888794576 = null;\n",
       "var warn = document.getElementById(\"3dmolwarning_1750633888794576\");\n",
       "if(warn) {\n",
       "    warn.parentNode.removeChild(warn);\n",
       "}\n",
       "$3Dmolpromise.then(function() {\n",
       "viewer_1750633888794576 = $3Dmol.createViewer(document.getElementById(\"3dmolviewer_1750633888794576\"),{backgroundColor:\"white\"});\n",
       "viewer_1750633888794576.zoomTo();\n",
       "\tviewer_1750633888794576.addModel(\"\\n     RDKit          3D\\n\\n  4  3  0  0  0  0  0  0  0  0999 V2000\\n    0.3554   -0.2037   -0.4481 C   0  0  0  0  0  0  0  0  0  0  0  0\\n   -0.3718    0.2147    0.4020 C   0  0  0  0  0  0  0  0  0  0  0  0\\n    1.0156   -0.6055   -1.2353 H   0  0  0  0  0  0  0  0  0  0  0  0\\n   -0.9992    0.5945    1.1572 H   0  0  0  0  0  0  0  0  0  0  0  0\\n  1  2  3  0\\n  1  3  1  0\\n  2  4  1  0\\nM  END\\n\",\"mol\");\n",
       "\tviewer_1750633888794576.setStyle({\"stick\": {}});\n",
       "\tviewer_1750633888794576.zoomTo();\n",
       "viewer_1750633888794576.render();\n",
       "});\n",
       "</script>"
      ]
     },
     "metadata": {},
     "output_type": "display_data"
    }
   ],
   "source": [
    "for name, smiles in {'Ethene':'C=C', 'Acetylene':'C#C'}.items():\n",
    "    mol = Chem.MolFromSmiles(smiles)\n",
    "    hybs = {hybrid_str(a) for a in mol.GetAtoms() if a.GetSymbol() == 'C'}\n",
    "    print(f'{name:10s}: carbon atoms → {\", \".join(sorted(hybs))}')\n",
    "    show_3d(mol)\n"
   ]
  },
  {
   "cell_type": "markdown",
   "id": "105e95c0",
   "metadata": {},
   "source": [
    "## Worked Example 3 — Beyond Octet\n",
    "Let’s inspect *PCl₅* (trigonal bipyramidal, sp³d) and *SF₆* (octahedral, sp³d²)."
   ]
  },
  {
   "cell_type": "code",
   "execution_count": 4,
   "id": "d98d3e34",
   "metadata": {},
   "outputs": [
    {
     "name": "stdout",
     "output_type": "stream",
     "text": [
      "Phosphorus pentachloride: central P → sp3d\n"
     ]
    },
    {
     "name": "stderr",
     "output_type": "stream",
     "text": [
      "[19:11:28] UFFTYPER: Warning: hybridization set to SP3 for atom 1\n"
     ]
    },
    {
     "data": {
      "application/3dmoljs_load.v0": "<div id=\"3dmolviewer_17506338888036768\"  style=\"position: relative; width: 640px; height: 480px;\">\n        <p id=\"3dmolwarning_17506338888036768\" style=\"background-color:#ffcccc;color:black\">3Dmol.js failed to load for some reason.  Please check your browser console for error messages.<br></p>\n        </div>\n<script>\n\nvar loadScriptAsync = function(uri){\n  return new Promise((resolve, reject) => {\n    //this is to ignore the existence of requirejs amd\n    var savedexports, savedmodule;\n    if (typeof exports !== 'undefined') savedexports = exports;\n    else exports = {}\n    if (typeof module !== 'undefined') savedmodule = module;\n    else module = {}\n\n    var tag = document.createElement('script');\n    tag.src = uri;\n    tag.async = true;\n    tag.onload = () => {\n        exports = savedexports;\n        module = savedmodule;\n        resolve();\n    };\n  var firstScriptTag = document.getElementsByTagName('script')[0];\n  firstScriptTag.parentNode.insertBefore(tag, firstScriptTag);\n});\n};\n\nif(typeof $3Dmolpromise === 'undefined') {\n$3Dmolpromise = null;\n  $3Dmolpromise = loadScriptAsync('https://cdnjs.cloudflare.com/ajax/libs/3Dmol/2.1.0/3Dmol-min.js');\n}\n\nvar viewer_17506338888036768 = null;\nvar warn = document.getElementById(\"3dmolwarning_17506338888036768\");\nif(warn) {\n    warn.parentNode.removeChild(warn);\n}\n$3Dmolpromise.then(function() {\nviewer_17506338888036768 = $3Dmol.createViewer(document.getElementById(\"3dmolviewer_17506338888036768\"),{backgroundColor:\"white\"});\nviewer_17506338888036768.zoomTo();\n\tviewer_17506338888036768.addModel(\"\\n     RDKit          3D\\n\\n  6  5  0  0  0  0  0  0  0  0999 V2000\\n    1.6585   -1.0397    0.6064 Cl  0  0  0  0  0  0  0  0  0  0  0  0\\n    0.0572    0.0027    0.0170 P   0  0  0  0  0  5  0  0  0  0  0  0\\n    0.5669    0.0110   -1.7985 Cl  0  0  0  0  0  0  0  0  0  0  0  0\\n    0.0795    2.0185    0.0318 Cl  0  0  0  0  0  0  0  0  0  0  0  0\\n   -0.7371    0.0100    1.7404 Cl  0  0  0  0  0  0  0  0  0  0  0  0\\n   -1.6250   -1.0025   -0.5971 Cl  0  0  0  0  0  0  0  0  0  0  0  0\\n  1  2  1  0\\n  2  3  1  0\\n  2  4  1  0\\n  2  5  1  0\\n  2  6  1  0\\nM  END\\n\",\"mol\");\n\tviewer_17506338888036768.setStyle({\"stick\": {}});\n\tviewer_17506338888036768.zoomTo();\nviewer_17506338888036768.render();\n});\n</script>",
      "text/html": [
       "<div id=\"3dmolviewer_17506338888036768\"  style=\"position: relative; width: 640px; height: 480px;\">\n",
       "        <p id=\"3dmolwarning_17506338888036768\" style=\"background-color:#ffcccc;color:black\">3Dmol.js failed to load for some reason.  Please check your browser console for error messages.<br></p>\n",
       "        </div>\n",
       "<script>\n",
       "\n",
       "var loadScriptAsync = function(uri){\n",
       "  return new Promise((resolve, reject) => {\n",
       "    //this is to ignore the existence of requirejs amd\n",
       "    var savedexports, savedmodule;\n",
       "    if (typeof exports !== 'undefined') savedexports = exports;\n",
       "    else exports = {}\n",
       "    if (typeof module !== 'undefined') savedmodule = module;\n",
       "    else module = {}\n",
       "\n",
       "    var tag = document.createElement('script');\n",
       "    tag.src = uri;\n",
       "    tag.async = true;\n",
       "    tag.onload = () => {\n",
       "        exports = savedexports;\n",
       "        module = savedmodule;\n",
       "        resolve();\n",
       "    };\n",
       "  var firstScriptTag = document.getElementsByTagName('script')[0];\n",
       "  firstScriptTag.parentNode.insertBefore(tag, firstScriptTag);\n",
       "});\n",
       "};\n",
       "\n",
       "if(typeof $3Dmolpromise === 'undefined') {\n",
       "$3Dmolpromise = null;\n",
       "  $3Dmolpromise = loadScriptAsync('https://cdnjs.cloudflare.com/ajax/libs/3Dmol/2.1.0/3Dmol-min.js');\n",
       "}\n",
       "\n",
       "var viewer_17506338888036768 = null;\n",
       "var warn = document.getElementById(\"3dmolwarning_17506338888036768\");\n",
       "if(warn) {\n",
       "    warn.parentNode.removeChild(warn);\n",
       "}\n",
       "$3Dmolpromise.then(function() {\n",
       "viewer_17506338888036768 = $3Dmol.createViewer(document.getElementById(\"3dmolviewer_17506338888036768\"),{backgroundColor:\"white\"});\n",
       "viewer_17506338888036768.zoomTo();\n",
       "\tviewer_17506338888036768.addModel(\"\\n     RDKit          3D\\n\\n  6  5  0  0  0  0  0  0  0  0999 V2000\\n    1.6585   -1.0397    0.6064 Cl  0  0  0  0  0  0  0  0  0  0  0  0\\n    0.0572    0.0027    0.0170 P   0  0  0  0  0  5  0  0  0  0  0  0\\n    0.5669    0.0110   -1.7985 Cl  0  0  0  0  0  0  0  0  0  0  0  0\\n    0.0795    2.0185    0.0318 Cl  0  0  0  0  0  0  0  0  0  0  0  0\\n   -0.7371    0.0100    1.7404 Cl  0  0  0  0  0  0  0  0  0  0  0  0\\n   -1.6250   -1.0025   -0.5971 Cl  0  0  0  0  0  0  0  0  0  0  0  0\\n  1  2  1  0\\n  2  3  1  0\\n  2  4  1  0\\n  2  5  1  0\\n  2  6  1  0\\nM  END\\n\",\"mol\");\n",
       "\tviewer_17506338888036768.setStyle({\"stick\": {}});\n",
       "\tviewer_17506338888036768.zoomTo();\n",
       "viewer_17506338888036768.render();\n",
       "});\n",
       "</script>"
      ]
     },
     "metadata": {},
     "output_type": "display_data"
    },
    {
     "name": "stdout",
     "output_type": "stream",
     "text": [
      "Sulfur hexafluoride: central F → sp3\n"
     ]
    },
    {
     "name": "stderr",
     "output_type": "stream",
     "text": [
      "[19:11:28] UFFTYPER: Unrecognized atom type: S_6+6 (1)\n"
     ]
    },
    {
     "data": {
      "application/3dmoljs_load.v0": "<div id=\"3dmolviewer_1750633888809\"  style=\"position: relative; width: 640px; height: 480px;\">\n        <p id=\"3dmolwarning_1750633888809\" style=\"background-color:#ffcccc;color:black\">3Dmol.js failed to load for some reason.  Please check your browser console for error messages.<br></p>\n        </div>\n<script>\n\nvar loadScriptAsync = function(uri){\n  return new Promise((resolve, reject) => {\n    //this is to ignore the existence of requirejs amd\n    var savedexports, savedmodule;\n    if (typeof exports !== 'undefined') savedexports = exports;\n    else exports = {}\n    if (typeof module !== 'undefined') savedmodule = module;\n    else module = {}\n\n    var tag = document.createElement('script');\n    tag.src = uri;\n    tag.async = true;\n    tag.onload = () => {\n        exports = savedexports;\n        module = savedmodule;\n        resolve();\n    };\n  var firstScriptTag = document.getElementsByTagName('script')[0];\n  firstScriptTag.parentNode.insertBefore(tag, firstScriptTag);\n});\n};\n\nif(typeof $3Dmolpromise === 'undefined') {\n$3Dmolpromise = null;\n  $3Dmolpromise = loadScriptAsync('https://cdnjs.cloudflare.com/ajax/libs/3Dmol/2.1.0/3Dmol-min.js');\n}\n\nvar viewer_1750633888809 = null;\nvar warn = document.getElementById(\"3dmolwarning_1750633888809\");\nif(warn) {\n    warn.parentNode.removeChild(warn);\n}\n$3Dmolpromise.then(function() {\nviewer_1750633888809 = $3Dmol.createViewer(document.getElementById(\"3dmolviewer_1750633888809\"),{backgroundColor:\"white\"});\nviewer_1750633888809.zoomTo();\n\tviewer_1750633888809.addModel(\"\\n     RDKit          2D\\n\\n  7  6  0  0  0  0  0  0  0  0999 V2000\\n    0.0000    0.0000    0.0000 F   0  0  0  0  0  0  0  0  0  0  0  0\\n    1.2990    0.7500    0.0000 S   0  0  0  0  0  6  0  0  0  0  0  0\\n    1.2990   -0.7500    0.0000 F   0  0  0  0  0  0  0  0  0  0  0  0\\n    2.5981    0.0000    0.0000 F   0  0  0  0  0  0  0  0  0  0  0  0\\n    1.2990    2.2500    0.0000 F   0  0  0  0  0  0  0  0  0  0  0  0\\n    2.5981    1.5000    0.0000 F   0  0  0  0  0  0  0  0  0  0  0  0\\n    0.0000    1.5000    0.0000 F   0  0  0  0  0  0  0  0  0  0  0  0\\n  1  2  1  0\\n  2  3  1  0\\n  2  4  1  0\\n  2  5  1  0\\n  2  6  1  0\\n  2  7  1  0\\nM  END\\n\",\"mol\");\n\tviewer_1750633888809.setStyle({\"stick\": {}});\n\tviewer_1750633888809.zoomTo();\nviewer_1750633888809.render();\n});\n</script>",
      "text/html": [
       "<div id=\"3dmolviewer_1750633888809\"  style=\"position: relative; width: 640px; height: 480px;\">\n",
       "        <p id=\"3dmolwarning_1750633888809\" style=\"background-color:#ffcccc;color:black\">3Dmol.js failed to load for some reason.  Please check your browser console for error messages.<br></p>\n",
       "        </div>\n",
       "<script>\n",
       "\n",
       "var loadScriptAsync = function(uri){\n",
       "  return new Promise((resolve, reject) => {\n",
       "    //this is to ignore the existence of requirejs amd\n",
       "    var savedexports, savedmodule;\n",
       "    if (typeof exports !== 'undefined') savedexports = exports;\n",
       "    else exports = {}\n",
       "    if (typeof module !== 'undefined') savedmodule = module;\n",
       "    else module = {}\n",
       "\n",
       "    var tag = document.createElement('script');\n",
       "    tag.src = uri;\n",
       "    tag.async = true;\n",
       "    tag.onload = () => {\n",
       "        exports = savedexports;\n",
       "        module = savedmodule;\n",
       "        resolve();\n",
       "    };\n",
       "  var firstScriptTag = document.getElementsByTagName('script')[0];\n",
       "  firstScriptTag.parentNode.insertBefore(tag, firstScriptTag);\n",
       "});\n",
       "};\n",
       "\n",
       "if(typeof $3Dmolpromise === 'undefined') {\n",
       "$3Dmolpromise = null;\n",
       "  $3Dmolpromise = loadScriptAsync('https://cdnjs.cloudflare.com/ajax/libs/3Dmol/2.1.0/3Dmol-min.js');\n",
       "}\n",
       "\n",
       "var viewer_1750633888809 = null;\n",
       "var warn = document.getElementById(\"3dmolwarning_1750633888809\");\n",
       "if(warn) {\n",
       "    warn.parentNode.removeChild(warn);\n",
       "}\n",
       "$3Dmolpromise.then(function() {\n",
       "viewer_1750633888809 = $3Dmol.createViewer(document.getElementById(\"3dmolviewer_1750633888809\"),{backgroundColor:\"white\"});\n",
       "viewer_1750633888809.zoomTo();\n",
       "\tviewer_1750633888809.addModel(\"\\n     RDKit          2D\\n\\n  7  6  0  0  0  0  0  0  0  0999 V2000\\n    0.0000    0.0000    0.0000 F   0  0  0  0  0  0  0  0  0  0  0  0\\n    1.2990    0.7500    0.0000 S   0  0  0  0  0  6  0  0  0  0  0  0\\n    1.2990   -0.7500    0.0000 F   0  0  0  0  0  0  0  0  0  0  0  0\\n    2.5981    0.0000    0.0000 F   0  0  0  0  0  0  0  0  0  0  0  0\\n    1.2990    2.2500    0.0000 F   0  0  0  0  0  0  0  0  0  0  0  0\\n    2.5981    1.5000    0.0000 F   0  0  0  0  0  0  0  0  0  0  0  0\\n    0.0000    1.5000    0.0000 F   0  0  0  0  0  0  0  0  0  0  0  0\\n  1  2  1  0\\n  2  3  1  0\\n  2  4  1  0\\n  2  5  1  0\\n  2  6  1  0\\n  2  7  1  0\\nM  END\\n\",\"mol\");\n",
       "\tviewer_1750633888809.setStyle({\"stick\": {}});\n",
       "\tviewer_1750633888809.zoomTo();\n",
       "viewer_1750633888809.render();\n",
       "});\n",
       "</script>"
      ]
     },
     "metadata": {},
     "output_type": "display_data"
    }
   ],
   "source": [
    "examples = {\n",
    "    'Phosphorus pentachloride': 'ClP(Cl)(Cl)(Cl)Cl',\n",
    "    'Sulfur hexafluoride'     : 'FS(F)(F)(F)(F)F'\n",
    "}\n",
    "\n",
    "for name, smi in examples.items():\n",
    "    mol = Chem.MolFromSmiles(smi)\n",
    "    # central atom is the first heavy atom RDKit parses\n",
    "    central = mol.GetAtomWithIdx(1) if mol.GetAtomWithIdx(0).GetSymbol() == 'Cl' else mol.GetAtomWithIdx(0)\n",
    "    print(f'{name}: central {central.GetSymbol()} → {hybrid_str(central)}')\n",
    "    show_3d(mol)"
   ]
  },
  {
   "cell_type": "markdown",
   "id": "a3687bd0",
   "metadata": {},
   "source": [
    "## Your Turn 📝\n",
    "Pick **two** molecules you’re curious about (e.g. *CO₂*, *NH₃*, *XeF₂*…).\n",
    "1. Create an RDKit molecule from SMILES.\n",
    "2. Write a loop that prints the hybridisation of **every** atom.\n",
    "3. Compare the results with VSEPR predictions.\n",
    "\n",
    "*(💡 Need a hint? Revisit the `for`‑loop in the methane example.)*"
   ]
  },
  {
   "cell_type": "code",
   "execution_count": 5,
   "id": "17f93de2",
   "metadata": {},
   "outputs": [],
   "source": [
    "# TODO 1: Replace with your own SMILES strings\n",
    "my_smiles = ['CO2', 'N']  # ← EDIT ME\n",
    "\n",
    "for smi in my_smiles:\n",
    "    # TODO 2: Construct molecule and analyse hybridisation\n",
    "    pass  # ← Your code here\n"
   ]
  },
  {
   "cell_type": "markdown",
   "id": "b9d88c5e",
   "metadata": {},
   "source": [
    "### Challenge: Write a Helper Function\n",
    "Write a function `predict_hybridisation(atom)` that returns the hybridisation based **only** on the steric number (σ bonds + lone pairs) *without* using RDKit’s built‑in method. Test it on a few molecules."
   ]
  },
  {
   "cell_type": "code",
   "execution_count": 6,
   "id": "49afda5d",
   "metadata": {},
   "outputs": [],
   "source": [
    "def predict_hybridisation(atom):\n",
    "    \"\"\"Return a string like 'sp3' based on steric number.*\n",
    "    *Assumes atom has already computed valence & lone pair info.*\"\"\"\n",
    "    # TODO 3: Implement logic here\n",
    "    raise NotImplementedError\n"
   ]
  },
  {
   "cell_type": "markdown",
   "id": "6f9eedc1",
   "metadata": {},
   "source": [
    "## Summary & Next Steps\n",
    "- **Hybridisation** links atomic orbital mixing to molecular geometry.\n",
    "- RDKit can programmatically report each atom’s hybridisation, enabling rapid checks across many structures.\n",
    "- Challenge yourself to automate VSEPR‑based predictions **without** RDKit’s helper!\n",
    "\n",
    "> **Extension:** Combine this workflow with data from databases (e.g. the *Materials Project* API) to analyse hybridisation trends across thousands of molecules."
   ]
  }
 ],
 "metadata": {
  "kernelspec": {
   "display_name": "molssi-actcms-test",
   "language": "python",
   "name": "python3"
  },
  "language_info": {
   "codemirror_mode": {
    "name": "ipython",
    "version": 3
   },
   "file_extension": ".py",
   "mimetype": "text/x-python",
   "name": "python",
   "nbconvert_exporter": "python",
   "pygments_lexer": "ipython3",
   "version": "3.11.9"
  }
 },
 "nbformat": 4,
 "nbformat_minor": 5
}
