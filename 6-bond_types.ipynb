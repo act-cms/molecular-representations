{
 "cells": [
  {
   "cell_type": "markdown",
   "id": "c46b2608",
   "metadata": {},
   "source": [
    "# Bond Detective: Ionic vs Covalent 🕵️‍♂️⚛️\n",
    "\n",
    "*General Chemistry & Cyberinfrastructure Skills Module*"
   ]
  },
  {
   "cell_type": "markdown",
   "id": "bdb0a9e1",
   "metadata": {},
   "source": [
    "### Warm‑Up Questions\n",
    "\n",
    "**WQ‑1.** What is **electronegativity**, and how does the difference in electronegativity between two atoms determine the type of bond they form?\n",
    "\n",
    "<span style=\"color:cyan\"><strong>Free response:</strong> YOUR RESPONSE TEXT HERE </span>\n",
    "\n",
    "**WQ‑2.** Why do ionic compounds typically have much higher melting points than covalent compounds? What does this tell us about the strength of ionic vs covalent bonds?\n",
    "\n",
    "<span style=\"color:cyan\"><strong>Free response:</strong> YOUR RESPONSE TEXT HERE </span>\n"
   ]
  },
  {
   "cell_type": "markdown",
   "id": "090b5658",
   "metadata": {},
   "source": [
    "## Learning Objective\n",
    "Identify and **differentiate** between **ionic** and **covalent** bonds by analysing electronegativity differences and the underlying electron‐transfer / electron‐sharing mechanisms."
   ]
  },
  {
   "cell_type": "markdown",
   "id": "464e6eb0",
   "metadata": {},
   "source": [
    "## Prerequisites\n",
    "- Python ≥ 3.8\n",
    "- **RDKit** for cheminformatics\n",
    "- **pandas** *(optional)* for tabular summaries\n",
    "\n",
    "If you are running on Google Colab, execute the install cell below first."
   ]
  },
  {
   "cell_type": "code",
   "execution_count": null,
   "id": "06c25542",
   "metadata": {},
   "outputs": [],
   "source": [
    "# !pip install rdkit-pypi pandas -q   # ← Uncomment on first run \n",
    "\n",
    "from rdkit import Chem\n",
    "import pandas as pd"
   ]
  },
  {
   "cell_type": "markdown",
   "id": "770b3b94",
   "metadata": {},
   "source": [
    "## Concept Recap 🔍\n",
    "**Electronegativity (χ)** is a measure of an atom’s ability to attract electrons in a bond.  \n",
    "\n",
    "A common rule‑of‑thumb using the **Pauling scale**:\n",
    "\n",
    "| Δχ (difference) | Bond Type | Electron behaviour |\n",
    "|:---------------:|-----------|--------------------|\n",
    "| ≳ 1.7           | *Ionic*          | Near‑complete **transfer** of electrons, generating cations/anions |\n",
    "| 0.4 – 1.7       | *Polar covalent* | Unequal **sharing** (dipole) |\n",
    "| < 0.4           | *Non‑polar covalent* | Nearly equal sharing |\n",
    "\n",
    "> **Reality check ✋** – Bonding is a continuum. These cut‑offs are fuzzy but useful for first‑pass classification."
   ]
  },
  {
   "cell_type": "code",
   "execution_count": null,
   "id": "2a22d467",
   "metadata": {},
   "outputs": [],
   "source": [
    "# Pauling electronegativity values for common elements\n",
    "ELECTRONEGATIVITY = {\n",
    "    'H': 2.20, 'C': 2.55, 'N': 3.04, 'O': 3.44, 'F': 3.98,\n",
    "    'P': 2.19, 'S': 2.58, 'Cl': 3.16, 'Br': 2.96, 'I': 2.66,\n",
    "    'Na': 0.93, 'K': 0.82, 'Mg': 1.31, 'Ca': 1.00,\n",
    "    'Al': 1.61, 'Si': 1.90,\n",
    "}\n",
    "\n",
    "# Helper functions\n",
    "def en_diff(sym1, sym2):\n",
    "    \"\"\"Return |χ1 − χ2| if both symbols found; else None.\"\"\"\n",
    "    try:\n",
    "        return abs(ELECTRONEGATIVITY[sym1] - ELECTRONEGATIVITY[sym2])\n",
    "    except KeyError:\n",
    "        return None\n",
    "\n",
    "def classify_bond(delta):\n",
    "    if delta is None:\n",
    "        return 'unknown'\n",
    "    if delta >= 1.7:\n",
    "        return 'ionic'\n",
    "    elif delta >= 0.4:\n",
    "        return 'polar covalent'\n",
    "    else:\n",
    "        return 'non‑polar covalent'"
   ]
  },
  {
   "cell_type": "markdown",
   "id": "f34fe32e",
   "metadata": {},
   "source": [
    "## Quick Examples (Individual Pairs)\n",
    "Let’s check a few classic pairs:"
   ]
  },
  {
   "cell_type": "code",
   "execution_count": null,
   "id": "8f421a2b",
   "metadata": {},
   "outputs": [],
   "source": [
    "pairs = [('Na', 'Cl'), ('H', 'Cl'), ('C', 'H')]\n",
    "for a, b in pairs:\n",
    "    d = en_diff(a, b)\n",
    "    print(f'{a}–{b}: Δχ = {d:.2f} ⇒ {classify_bond(d)}')"
   ]
  },
  {
   "cell_type": "markdown",
   "id": "664da40b",
   "metadata": {},
   "source": [
    "## Worked Example — Classify Every Bond in a Molecule\n",
    "We’ll analyse **calcium oxide** (*CaO*) and **water** (*H₂O*)."
   ]
  },
  {
   "cell_type": "code",
   "execution_count": null,
   "id": "67351a9b",
   "metadata": {},
   "outputs": [],
   "source": [
    "def bond_table(smiles):\n",
    "    mol = Chem.AddHs(Chem.MolFromSmiles(smiles))\n",
    "    data = []\n",
    "    for bond in mol.GetBonds():\n",
    "        a1, a2 = bond.GetBeginAtom(), bond.GetEndAtom()\n",
    "        s1, s2 = a1.GetSymbol(), a2.GetSymbol()\n",
    "        delta = en_diff(s1, s2)\n",
    "        data.append({\n",
    "            'Atom 1': s1,\n",
    "            'Atom 2': s2,\n",
    "            'Bond type (RDKit)': str(bond.GetBondType()),\n",
    "            'Δχ': None if delta is None else round(delta, 2),\n",
    "            'Classification': classify_bond(delta)\n",
    "        })\n",
    "    return pd.DataFrame(data)\n",
    "\n",
    "for label, smi in {'Calcium oxide':'[Ca+2].[O-2]', 'Water':'O'}.items():\n",
    "    print(f'\\n{label} ({smi})')\n",
    "    display(bond_table(smi))"
   ]
  },
  {
   "cell_type": "markdown",
   "id": "ea8dc6e1",
   "metadata": {},
   "source": [
    "## Your Turn 📝\n",
    "1. Pick **two** inorganic salts and **two** covalent molecules.  \n",
    "2. Build a DataFrame of every bond using `bond_table`.  \n",
    "3. For each molecule, count how many bonds fall in each category.\n",
    "\n",
    "**Stretch goal ⭐:** Visualise the distribution with a bar chart (e.g. `matplotlib`)."
   ]
  },
  {
   "cell_type": "code",
   "execution_count": null,
   "id": "898ec357",
   "metadata": {},
   "outputs": [],
   "source": [
    "# TODO 1: Replace with your chosen SMILES strings\n",
    "my_smiles = {\n",
    "    'Salt 1': 'NaCl',\n",
    "    'Salt 2': '[Mg+2].[O-]S(=O)(=O)[O-]',  # MgSO4 (simplified!)\n",
    "    'Molecule 1': 'CCO',      # ethanol\n",
    "    'Molecule 2': 'O=C=O'     # CO2\n",
    "}\n",
    "\n",
    "results = {}\n",
    "for label, smi in my_smiles.items():\n",
    "    # TODO 2: Generate bond table and store in `results`\n",
    "    pass  # ← Your code here\n"
   ]
  },
  {
   "cell_type": "markdown",
   "id": "5ef3ff94",
   "metadata": {},
   "source": [
    "### Challenge: Expand the Electronegativity Table\n",
    "Add at least **five** more elements to `ELECTRONEGATIVITY` so your classifier can handle a wider range of molecules."
   ]
  },
  {
   "cell_type": "markdown",
   "id": "9514a96b",
   "metadata": {},
   "source": [
    "### Auto‑Graded Checkpoints\n",
    "\n",
    "**Checkpoint CP‑1 (2 pts)** — Implement `bond_classification_summary(mol)` that returns a dictionary with counts of each bond type (ionic, polar covalent, non-polar covalent) in the molecule.\n"
   ]
  },
  {
   "cell_type": "code",
   "execution_count": null,
   "id": "74fbc428",
   "metadata": {},
   "outputs": [],
   "source": [
    "### BEGIN SOLUTION\n",
    "def bond_classification_summary(mol):\n",
    "    \"\"\"Return counts of each bond type in the molecule.\"\"\"\n",
    "    mol = Chem.AddHs(mol)\n",
    "    summary = {'ionic': 0, 'polar covalent': 0, 'non‑polar covalent': 0, 'unknown': 0}\n",
    "    \n",
    "    for bond in mol.GetBonds():\n",
    "        a1, a2 = bond.GetBeginAtom(), bond.GetEndAtom()\n",
    "        s1, s2 = a1.GetSymbol(), a2.GetSymbol()\n",
    "        delta = en_diff(s1, s2)\n",
    "        bond_type = classify_bond(delta)\n",
    "        summary[bond_type] += 1\n",
    "    \n",
    "    return summary\n",
    "### END SOLUTION\n"
   ]
  },
  {
   "cell_type": "code",
   "execution_count": null,
   "id": "d672c1fc",
   "metadata": {},
   "outputs": [],
   "source": [
    "# hidden tests\n",
    "from rdkit import Chem\n",
    "result = bond_classification_summary(Chem.MolFromSmiles('CCO'))\n",
    "assert result['non‑polar covalent'] >= 0  # C-C and C-H bonds\n",
    "assert result['polar covalent'] >= 0      # C-O bond\n",
    "\n",
    "result2 = bond_classification_summary(Chem.MolFromSmiles('O'))\n",
    "assert result2['polar covalent'] >= 0  # O-H bonds\n"
   ]
  },
  {
   "cell_type": "markdown",
   "id": "4ee81e56",
   "metadata": {},
   "source": [
    "**Checkpoint CP‑2 (3 pts)** — Implement `most_polar_bond(mol)` that returns the bond with the highest electronegativity difference in the molecule, along with its Δχ value.\n"
   ]
  },
  {
   "cell_type": "code",
   "execution_count": null,
   "id": "92255e1a",
   "metadata": {},
   "outputs": [],
   "source": [
    "### BEGIN SOLUTION\n",
    "def most_polar_bond(mol):\n",
    "    \"\"\"Return the most polar bond and its electronegativity difference.\"\"\"\n",
    "    mol = Chem.AddHs(mol)\n",
    "    max_delta = 0.0\n",
    "    most_polar = None\n",
    "    \n",
    "    for bond in mol.GetBonds():\n",
    "        a1, a2 = bond.GetBeginAtom(), bond.GetEndAtom()\n",
    "        s1, s2 = a1.GetSymbol(), a2.GetSymbol()\n",
    "        delta = en_diff(s1, s2)\n",
    "        if delta is not None and delta > max_delta:\n",
    "            max_delta = delta\n",
    "            most_polar = f\"{s1}-{s2}\"\n",
    "    \n",
    "    return most_polar, max_delta\n",
    "### END SOLUTION\n"
   ]
  },
  {
   "cell_type": "code",
   "execution_count": null,
   "id": "67e05b35",
   "metadata": {},
   "outputs": [],
   "source": [
    "# hidden tests\n",
    "from rdkit import Chem\n",
    "bond, delta = most_polar_bond(Chem.MolFromSmiles('CCO'))\n",
    "assert delta >= 0.0\n",
    "assert bond is not None\n",
    "\n",
    "bond2, delta2 = most_polar_bond(Chem.MolFromSmiles('O'))\n",
    "assert delta2 >= 0.0\n"
   ]
  },
  {
   "cell_type": "markdown",
   "id": "7c2783d5",
   "metadata": {},
   "source": [
    "### Critical‑Thinking Questions\n",
    "\n",
    "**CTQ‑1.** Why might the **electronegativity difference** rule of thumb (Δχ > 1.7 = ionic) sometimes fail for certain types of bonds? Give an example where this classification might be misleading.\n",
    "\n",
    "<span style=\"color:cyan\"><strong>Free response:</strong> YOUR RESPONSE TEXT HERE </span>\n",
    "\n",
    "**CTQ‑2.** How does the **size** of atoms affect the nature of their bonds? Why might a bond between two large atoms behave differently than expected based on electronegativity alone?\n",
    "\n",
    "<span style=\"color:cyan\"><strong>Free response:</strong> YOUR RESPONSE TEXT HERE </span>\n"
   ]
  },
  {
   "cell_type": "code",
   "execution_count": null,
   "id": "5caaa4b9",
   "metadata": {},
   "outputs": [],
   "source": [
    "# TODO 3: Add more elements and re‑run previous cells to see the effect\n",
    "ELECTRONEGATIVITY.update({'Li': 0.98, 'Sr': 0.95, 'B': 2.04, 'Se': 2.55, 'Te': 2.10})"
   ]
  },
  {
   "cell_type": "markdown",
   "id": "a82f228c",
   "metadata": {},
   "source": [
    "## Summary & Next Steps\n",
    "- **Electronegativity difference** offers a fast heuristic for bond type, linking the *mechanism* (electron transfer vs sharing) to an observable quantity.  \n",
    "- Programmatic analysis lets you scan all bonds in any molecule.  \n",
    "- Refine your approach by integrating larger periodic‑table datasets or combining Δχ with other metrics (formal charge, lattice energy) for more nuanced classifications."
   ]
  }
 ],
 "metadata": {
  "kernelspec": {
   "display_name": "molssi-actcms-molecular-representations",
   "language": "python",
   "name": "python3"
  },
  "language_info": {
   "codemirror_mode": {
    "name": "ipython",
    "version": 3
   },
   "file_extension": ".py",
   "mimetype": "text/x-python",
   "name": "python",
   "nbconvert_exporter": "python",
   "pygments_lexer": "ipython3",
   "version": "3.11.9"
  }
 },
 "nbformat": 4,
 "nbformat_minor": 5
}
