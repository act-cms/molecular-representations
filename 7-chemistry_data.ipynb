{
 "cells": [
  {
   "cell_type": "markdown",
   "id": "b036cbdc",
   "metadata": {},
   "source": [
    "# Pandas + RDKit: Working with Chemical CSV Data 📈⚗️\n",
    "\n",
    "*General Chemistry & Cyberinfrastructure Skills Module*"
   ]
  },
  {
   "cell_type": "markdown",
   "id": "d6770e50",
   "metadata": {},
   "source": [
    "## Learning Objectives\n",
    "1. **Read** and **write** chemical data (SMILES + property columns) using **pandas** CSV I/O.\n",
    "2. **Clean** datasets by removing invalid SMILES and missing values.\n",
    "3. **Visualise** chemical property trends with matplotlib and seaborn, leveraging RDKit‐derived descriptors."
   ]
  },
  {
   "cell_type": "markdown",
   "id": "76cddece",
   "metadata": {},
   "source": [
    "## Prerequisites\n",
    "- Python ≥ 3.8\n",
    "- **pandas** for tabular data handling\n",
    "- **RDKit** for chemistry operations\n",
    "- **matplotlib** / **seaborn** for plots\n",
    "\n",
    "On Google Colab, run the install cell below first."
   ]
  },
  {
   "cell_type": "code",
   "execution_count": 1,
   "id": "53d83e73",
   "metadata": {},
   "outputs": [],
   "source": [
    "# !pip install rdkit-pypi pandas matplotlib seaborn -q  # ← Uncomment if needed\n",
    "import pandas as pd\n",
    "import matplotlib.pyplot as plt\n",
    "import seaborn as sns\n",
    "from rdkit import Chem\n",
    "from rdkit.Chem import Descriptors\n"
   ]
  },
  {
   "cell_type": "markdown",
   "id": "9a81dd0a",
   "metadata": {},
   "source": [
    "## Step 1 – Load a CSV\n",
    "To get started, we’ll create a **tiny sample CSV** on the fly. In real projects you’d load an existing file:"
   ]
  },
  {
   "cell_type": "code",
   "execution_count": 2,
   "id": "d7304598",
   "metadata": {},
   "outputs": [
    {
     "name": "stdout",
     "output_type": "stream",
     "text": [
      "Wrote sample CSV → sample_mols.csv\n"
     ]
    }
   ],
   "source": [
    "sample_csv = 'sample_mols.csv'\n",
    "pd.DataFrame({\n",
    "    'SMILES': ['CCO', 'c1ccccc1', 'invalid_smiles', 'O=C=O'],\n",
    "    'IC50_nM': [120, 3000, 50, None]\n",
    "}).to_csv(sample_csv, index=False)\n",
    "print('Wrote sample CSV →', sample_csv)"
   ]
  },
  {
   "cell_type": "code",
   "execution_count": 3,
   "id": "a4b4206f",
   "metadata": {},
   "outputs": [
    {
     "data": {
      "text/html": [
       "<div>\n",
       "<style scoped>\n",
       "    .dataframe tbody tr th:only-of-type {\n",
       "        vertical-align: middle;\n",
       "    }\n",
       "\n",
       "    .dataframe tbody tr th {\n",
       "        vertical-align: top;\n",
       "    }\n",
       "\n",
       "    .dataframe thead th {\n",
       "        text-align: right;\n",
       "    }\n",
       "</style>\n",
       "<table border=\"1\" class=\"dataframe\">\n",
       "  <thead>\n",
       "    <tr style=\"text-align: right;\">\n",
       "      <th></th>\n",
       "      <th>SMILES</th>\n",
       "      <th>IC50_nM</th>\n",
       "    </tr>\n",
       "  </thead>\n",
       "  <tbody>\n",
       "    <tr>\n",
       "      <th>0</th>\n",
       "      <td>CCO</td>\n",
       "      <td>120.0</td>\n",
       "    </tr>\n",
       "    <tr>\n",
       "      <th>1</th>\n",
       "      <td>c1ccccc1</td>\n",
       "      <td>3000.0</td>\n",
       "    </tr>\n",
       "    <tr>\n",
       "      <th>2</th>\n",
       "      <td>invalid_smiles</td>\n",
       "      <td>50.0</td>\n",
       "    </tr>\n",
       "    <tr>\n",
       "      <th>3</th>\n",
       "      <td>O=C=O</td>\n",
       "      <td>NaN</td>\n",
       "    </tr>\n",
       "  </tbody>\n",
       "</table>\n",
       "</div>"
      ],
      "text/plain": [
       "           SMILES  IC50_nM\n",
       "0             CCO    120.0\n",
       "1        c1ccccc1   3000.0\n",
       "2  invalid_smiles     50.0\n",
       "3           O=C=O      NaN"
      ]
     },
     "execution_count": 3,
     "metadata": {},
     "output_type": "execute_result"
    }
   ],
   "source": [
    "df = pd.read_csv(sample_csv)\n",
    "df"
   ]
  },
  {
   "cell_type": "markdown",
   "id": "752324ad",
   "metadata": {},
   "source": [
    "## Step 2 – Clean the Dataset\n",
    "We’ll parse each SMILES with RDKit; invalid strings become **NaN** in a new `Mol` column:"
   ]
  },
  {
   "cell_type": "code",
   "execution_count": 4,
   "id": "f886bafc",
   "metadata": {},
   "outputs": [
    {
     "name": "stdout",
     "output_type": "stream",
     "text": [
      "Rows after cleaning: 2\n"
     ]
    },
    {
     "name": "stderr",
     "output_type": "stream",
     "text": [
      "[20:08:34] SMILES Parse Error: syntax error while parsing: invalid_smiles\n",
      "[20:08:34] SMILES Parse Error: Failed parsing SMILES 'invalid_smiles' for input: 'invalid_smiles'\n"
     ]
    },
    {
     "data": {
      "text/html": [
       "<div>\n",
       "<style scoped>\n",
       "    .dataframe tbody tr th:only-of-type {\n",
       "        vertical-align: middle;\n",
       "    }\n",
       "\n",
       "    .dataframe tbody tr th {\n",
       "        vertical-align: top;\n",
       "    }\n",
       "\n",
       "    .dataframe thead th {\n",
       "        text-align: right;\n",
       "    }\n",
       "</style>\n",
       "<table border=\"1\" class=\"dataframe\">\n",
       "  <thead>\n",
       "    <tr style=\"text-align: right;\">\n",
       "      <th></th>\n",
       "      <th>SMILES</th>\n",
       "      <th>IC50_nM</th>\n",
       "      <th>Mol</th>\n",
       "    </tr>\n",
       "  </thead>\n",
       "  <tbody>\n",
       "    <tr>\n",
       "      <th>0</th>\n",
       "      <td>CCO</td>\n",
       "      <td>120.0</td>\n",
       "      <td>&lt;rdkit.Chem.rdchem.Mol object at 0x160ce8cf0&gt;</td>\n",
       "    </tr>\n",
       "    <tr>\n",
       "      <th>1</th>\n",
       "      <td>c1ccccc1</td>\n",
       "      <td>3000.0</td>\n",
       "      <td>&lt;rdkit.Chem.rdchem.Mol object at 0x160ce8f90&gt;</td>\n",
       "    </tr>\n",
       "  </tbody>\n",
       "</table>\n",
       "</div>"
      ],
      "text/plain": [
       "     SMILES  IC50_nM                                            Mol\n",
       "0       CCO    120.0  <rdkit.Chem.rdchem.Mol object at 0x160ce8cf0>\n",
       "1  c1ccccc1   3000.0  <rdkit.Chem.rdchem.Mol object at 0x160ce8f90>"
      ]
     },
     "execution_count": 4,
     "metadata": {},
     "output_type": "execute_result"
    }
   ],
   "source": [
    "def smiles_to_mol(s):\n",
    "    try:\n",
    "        return Chem.MolFromSmiles(s)\n",
    "    except Exception:\n",
    "        return None\n",
    "\n",
    "df['Mol'] = df['SMILES'].apply(smiles_to_mol)\n",
    "clean = df.dropna(subset=['Mol', 'IC50_nM'])\n",
    "print('Rows after cleaning:', len(clean))\n",
    "clean"
   ]
  },
  {
   "cell_type": "markdown",
   "id": "af2c3a06",
   "metadata": {},
   "source": [
    "## Step 3 – Compute Descriptors\n",
    "Let’s add molecular weight and logP using RDKit:"
   ]
  },
  {
   "cell_type": "code",
   "execution_count": 5,
   "id": "48af87db",
   "metadata": {},
   "outputs": [
    {
     "name": "stderr",
     "output_type": "stream",
     "text": [
      "/var/folders/pq/nzssjf4s7wv93wh0v84tp2700000gn/T/ipykernel_36476/3410437298.py:1: SettingWithCopyWarning: \n",
      "A value is trying to be set on a copy of a slice from a DataFrame.\n",
      "Try using .loc[row_indexer,col_indexer] = value instead\n",
      "\n",
      "See the caveats in the documentation: https://pandas.pydata.org/pandas-docs/stable/user_guide/indexing.html#returning-a-view-versus-a-copy\n",
      "  clean['MolWt'] = clean['Mol'].apply(Descriptors.MolWt)\n",
      "/var/folders/pq/nzssjf4s7wv93wh0v84tp2700000gn/T/ipykernel_36476/3410437298.py:2: SettingWithCopyWarning: \n",
      "A value is trying to be set on a copy of a slice from a DataFrame.\n",
      "Try using .loc[row_indexer,col_indexer] = value instead\n",
      "\n",
      "See the caveats in the documentation: https://pandas.pydata.org/pandas-docs/stable/user_guide/indexing.html#returning-a-view-versus-a-copy\n",
      "  clean['logP'] = clean['Mol'].apply(Descriptors.MolLogP)\n"
     ]
    },
    {
     "data": {
      "text/html": [
       "<div>\n",
       "<style scoped>\n",
       "    .dataframe tbody tr th:only-of-type {\n",
       "        vertical-align: middle;\n",
       "    }\n",
       "\n",
       "    .dataframe tbody tr th {\n",
       "        vertical-align: top;\n",
       "    }\n",
       "\n",
       "    .dataframe thead th {\n",
       "        text-align: right;\n",
       "    }\n",
       "</style>\n",
       "<table border=\"1\" class=\"dataframe\">\n",
       "  <thead>\n",
       "    <tr style=\"text-align: right;\">\n",
       "      <th></th>\n",
       "      <th>SMILES</th>\n",
       "      <th>IC50_nM</th>\n",
       "      <th>Mol</th>\n",
       "      <th>MolWt</th>\n",
       "      <th>logP</th>\n",
       "    </tr>\n",
       "  </thead>\n",
       "  <tbody>\n",
       "    <tr>\n",
       "      <th>0</th>\n",
       "      <td>CCO</td>\n",
       "      <td>120.0</td>\n",
       "      <td>&lt;rdkit.Chem.rdchem.Mol object at 0x160ce8cf0&gt;</td>\n",
       "      <td>46.069</td>\n",
       "      <td>-0.0014</td>\n",
       "    </tr>\n",
       "    <tr>\n",
       "      <th>1</th>\n",
       "      <td>c1ccccc1</td>\n",
       "      <td>3000.0</td>\n",
       "      <td>&lt;rdkit.Chem.rdchem.Mol object at 0x160ce8f90&gt;</td>\n",
       "      <td>78.114</td>\n",
       "      <td>1.6866</td>\n",
       "    </tr>\n",
       "  </tbody>\n",
       "</table>\n",
       "</div>"
      ],
      "text/plain": [
       "     SMILES  IC50_nM                                            Mol   MolWt  \\\n",
       "0       CCO    120.0  <rdkit.Chem.rdchem.Mol object at 0x160ce8cf0>  46.069   \n",
       "1  c1ccccc1   3000.0  <rdkit.Chem.rdchem.Mol object at 0x160ce8f90>  78.114   \n",
       "\n",
       "     logP  \n",
       "0 -0.0014  \n",
       "1  1.6866  "
      ]
     },
     "execution_count": 5,
     "metadata": {},
     "output_type": "execute_result"
    }
   ],
   "source": [
    "clean['MolWt'] = clean['Mol'].apply(Descriptors.MolWt)\n",
    "clean['logP'] = clean['Mol'].apply(Descriptors.MolLogP)\n",
    "clean"
   ]
  },
  {
   "cell_type": "markdown",
   "id": "effc0d4b",
   "metadata": {},
   "source": [
    "## Step 4 – Visualise\n",
    "Plot logP vs. IC₅₀ (nM) and colour by molecular weight:"
   ]
  },
  {
   "cell_type": "code",
   "execution_count": 6,
   "id": "110de8ab",
   "metadata": {},
   "outputs": [
    {
     "data": {
      "image/png": "[encoded data removed]",
      "text/plain": [
       "<Figure size 500x400 with 2 Axes>"
      ]
     },
     "metadata": {},
     "output_type": "display_data"
    }
   ],
   "source": [
    "sns.set(style='whitegrid')\n",
    "plt.figure(figsize=(5,4))\n",
    "scatter = plt.scatter(clean['logP'], clean['IC50_nM'], c=clean['MolWt'], s=80, cmap='viridis')\n",
    "plt.colorbar(scatter, label='MolWt')\n",
    "plt.xlabel('logP')\n",
    "plt.ylabel('IC50 (nM)')\n",
    "plt.title('Activity vs. lipophilicity')\n",
    "plt.show()"
   ]
  },
  {
   "cell_type": "markdown",
   "id": "e809d998",
   "metadata": {},
   "source": [
    "## Step 5 – Save Cleaned Data\n",
    "Export the curated data (with descriptors) to a new CSV:"
   ]
  },
  {
   "cell_type": "code",
   "execution_count": 8,
   "id": "7c473867",
   "metadata": {},
   "outputs": [
    {
     "name": "stdout",
     "output_type": "stream",
     "text": [
      "Cleaned CSV saved to: cleaned_mols.csv\n"
     ]
    }
   ],
   "source": [
    "clean_out = 'cleaned_mols.csv'\n",
    "cols_to_save = ['SMILES', 'IC50_nM', 'MolWt', 'logP']\n",
    "clean[cols_to_save].to_csv(clean_out, index=False)\n",
    "print('Cleaned CSV saved to:', clean_out)"
   ]
  },
  {
   "cell_type": "markdown",
   "id": "6d0d54b8",
   "metadata": {},
   "source": [
    "## Your Turn 📝\n",
    "1. Replace `sample_csv` with **your own dataset** (or build a bigger one).  \n",
    "2. Add at least **two more RDKit descriptors** (*TPSA*, *NumHBA*, etc.).  \n",
    "3. Plot a pairplot (`sns.pairplot`) of descriptors vs. activity.  \n",
    "4. Optional: use `pandas` group‐by or `qcut` to bin molecules by molecular weight and compare median activities."
   ]
  },
  {
   "cell_type": "markdown",
   "id": "6b51c362",
   "metadata": {},
   "source": [
    "## Summary & Next Steps\n",
    "- **pandas** makes CSV I/O and cleaning straightforward.  \n",
    "- **RDKit** can enrich each molecule with physicochemical descriptors.  \n",
    "- **seaborn/matplotlib** provide quick insight into property trends.  \n",
    "Expand this workflow to thousands of compounds, export to other formats (Parquet, Excel), or feed the cleaned data into ML models."
   ]
  }
 ],
 "metadata": {
  "kernelspec": {
   "display_name": "molssi-actcms-test",
   "language": "python",
   "name": "python3"
  },
  "language_info": {
   "codemirror_mode": {
    "name": "ipython",
    "version": 3
   },
   "file_extension": ".py",
   "mimetype": "text/x-python",
   "name": "python",
   "nbconvert_exporter": "python",
   "pygments_lexer": "ipython3",
   "version": "3.11.9"
  }
 },
 "nbformat": 4,
 "nbformat_minor": 5
}
