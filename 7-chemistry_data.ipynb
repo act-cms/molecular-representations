{
 "cells": [
  {
   "cell_type": "markdown",
   "id": "b036cbdc",
   "metadata": {},
   "source": [
    "# Pandas + RDKit: Working with Chemical CSV Data 📈⚗️\n",
    "\n",
    "*General Chemistry & Cyberinfrastructure Skills Module*"
   ]
  },
  {
   "cell_type": "markdown",
   "id": "71f865dd",
   "metadata": {},
   "source": [
    "### Warm‑Up Questions\n",
    "\n",
    "**WQ‑1.** What are the main challenges when working with **chemical data** in CSV format? Why might some SMILES strings be invalid, and how would you handle them?\n",
    "\n",
    "<span style=\"color:cyan\"><strong>Free response:</strong> YOUR RESPONSE TEXT HERE </span>\n",
    "\n",
    "**WQ‑2.** Why might **molecular descriptors** like molecular weight and logP be important for drug discovery? What do these properties tell us about a molecule's behavior?\n",
    "\n",
    "<span style=\"color:cyan\"><strong>Free response:</strong> YOUR RESPONSE TEXT HERE </span>\n"
   ]
  },
  {
   "cell_type": "markdown",
   "id": "d6770e50",
   "metadata": {},
   "source": [
    "## Learning Objectives\n",
    "1. **Read** and **write** chemical data (SMILES + property columns) using **pandas** CSV I/O.\n",
    "2. **Clean** datasets by removing invalid SMILES and missing values.\n",
    "3. **Visualise** chemical property trends with matplotlib and seaborn, leveraging RDKit‐derived descriptors."
   ]
  },
  {
   "cell_type": "markdown",
   "id": "76cddece",
   "metadata": {},
   "source": [
    "## Prerequisites\n",
    "- Python ≥ 3.8\n",
    "- **pandas** for tabular data handling\n",
    "- **RDKit** for chemistry operations\n",
    "- **matplotlib** / **seaborn** for plots\n",
    "\n",
    "On Google Colab, run the install cell below first."
   ]
  },
  {
   "cell_type": "code",
   "execution_count": null,
   "id": "53d83e73",
   "metadata": {},
   "outputs": [],
   "source": [
    "# !pip install rdkit-pypi pandas matplotlib seaborn -q  # ← Uncomment if needed \n",
    "import pandas as pd\n",
    "import matplotlib.pyplot as plt\n",
    "import seaborn as sns\n",
    "from rdkit import Chem\n",
    "from rdkit.Chem import Descriptors\n"
   ]
  },
  {
   "cell_type": "markdown",
   "id": "9a81dd0a",
   "metadata": {},
   "source": [
    "## Step 1 – Load a CSV\n",
    "To get started, we’ll create a **tiny sample CSV** on the fly. In real projects you’d load an existing file:"
   ]
  },
  {
   "cell_type": "code",
   "execution_count": null,
   "id": "d7304598",
   "metadata": {},
   "outputs": [],
   "source": [
    "sample_csv = 'sample_mols.csv'\n",
    "pd.DataFrame({\n",
    "    'SMILES': ['CCO', 'c1ccccc1', 'invalid_smiles', 'O=C=O'],\n",
    "    'IC50_nM': [120, 3000, 50, None]\n",
    "}).to_csv(sample_csv, index=False)\n",
    "print('Wrote sample CSV →', sample_csv)"
   ]
  },
  {
   "cell_type": "code",
   "execution_count": null,
   "id": "a4b4206f",
   "metadata": {},
   "outputs": [],
   "source": [
    "df = pd.read_csv(sample_csv)\n",
    "df"
   ]
  },
  {
   "cell_type": "markdown",
   "id": "752324ad",
   "metadata": {},
   "source": [
    "## Step 2 – Clean the Dataset\n",
    "We’ll parse each SMILES with RDKit; invalid strings become **NaN** in a new `Mol` column:"
   ]
  },
  {
   "cell_type": "code",
   "execution_count": null,
   "id": "f886bafc",
   "metadata": {},
   "outputs": [],
   "source": [
    "def smiles_to_mol(s):\n",
    "    try:\n",
    "        return Chem.MolFromSmiles(s)\n",
    "    except Exception:\n",
    "        return None\n",
    "\n",
    "df['Mol'] = df['SMILES'].apply(smiles_to_mol)\n",
    "clean = df.dropna(subset=['Mol', 'IC50_nM'])\n",
    "print('Rows after cleaning:', len(clean))\n",
    "clean"
   ]
  },
  {
   "cell_type": "markdown",
   "id": "af2c3a06",
   "metadata": {},
   "source": [
    "## Step 3 – Compute Descriptors\n",
    "Let’s add molecular weight and logP using RDKit:"
   ]
  },
  {
   "cell_type": "code",
   "execution_count": null,
   "id": "48af87db",
   "metadata": {},
   "outputs": [],
   "source": [
    "clean['MolWt'] = clean['Mol'].apply(Descriptors.MolWt)\n",
    "clean['logP'] = clean['Mol'].apply(Descriptors.MolLogP)\n",
    "clean"
   ]
  },
  {
   "cell_type": "markdown",
   "id": "effc0d4b",
   "metadata": {},
   "source": [
    "## Step 4 – Visualise\n",
    "Plot logP vs. IC₅₀ (nM) and colour by molecular weight:"
   ]
  },
  {
   "cell_type": "code",
   "execution_count": null,
   "id": "110de8ab",
   "metadata": {},
   "outputs": [],
   "source": [
    "sns.set(style='whitegrid')\n",
    "plt.figure(figsize=(5,4))\n",
    "scatter = plt.scatter(clean['logP'], clean['IC50_nM'], c=clean['MolWt'], s=80, cmap='viridis')\n",
    "plt.colorbar(scatter, label='MolWt')\n",
    "plt.xlabel('logP')\n",
    "plt.ylabel('IC50 (nM)')\n",
    "plt.title('Activity vs. lipophilicity')\n",
    "plt.show()"
   ]
  },
  {
   "cell_type": "markdown",
   "id": "e809d998",
   "metadata": {},
   "source": [
    "## Step 5 – Save Cleaned Data\n",
    "Export the curated data (with descriptors) to a new CSV:"
   ]
  },
  {
   "cell_type": "code",
   "execution_count": null,
   "id": "7c473867",
   "metadata": {},
   "outputs": [],
   "source": [
    "clean_out = 'cleaned_mols.csv'\n",
    "cols_to_save = ['SMILES', 'IC50_nM', 'MolWt', 'logP']\n",
    "clean[cols_to_save].to_csv(clean_out, index=False)\n",
    "print('Cleaned CSV saved to:', clean_out)"
   ]
  },
  {
   "cell_type": "markdown",
   "id": "32f15297",
   "metadata": {},
   "source": [
    "### Auto‑Graded Checkpoints\n",
    "\n",
    "**Checkpoint CP‑1 (2 pts)** — Implement `validate_smiles_list(smiles_list)` that returns a list of valid SMILES strings, filtering out any invalid ones.\n"
   ]
  },
  {
   "cell_type": "code",
   "execution_count": null,
   "id": "92a66214",
   "metadata": {},
   "outputs": [],
   "source": [
    "### BEGIN SOLUTION\n",
    "from rdkit import Chem\n",
    "\n",
    "def validate_smiles_list(smiles_list):\n",
    "    \"\"\"Return list of valid SMILES strings.\"\"\"\n",
    "    valid_smiles = []\n",
    "    for smiles in smiles_list:\n",
    "        mol = Chem.MolFromSmiles(smiles)\n",
    "        if mol is not None:\n",
    "            valid_smiles.append(smiles)\n",
    "    return valid_smiles\n",
    "### END SOLUTION\n"
   ]
  },
  {
   "cell_type": "code",
   "execution_count": null,
   "id": "9b70afad",
   "metadata": {},
   "outputs": [],
   "source": [
    "# hidden tests\n",
    "from rdkit import Chem\n",
    "test_smiles = ['CCO', 'invalid_smiles', 'c1ccccc1', 'bad_smiles']\n",
    "valid = validate_smiles_list(test_smiles)\n",
    "assert len(valid) == 2\n",
    "assert 'CCO' in valid\n",
    "assert 'c1ccccc1' in valid\n"
   ]
  },
  {
   "cell_type": "markdown",
   "id": "761c4ad9",
   "metadata": {},
   "source": [
    "**Checkpoint CP‑2 (3 pts)** — Implement `compute_descriptor_matrix(smiles_list)` that returns a pandas DataFrame with molecular weight, logP, and TPSA for each valid SMILES string.\n"
   ]
  },
  {
   "cell_type": "code",
   "execution_count": null,
   "id": "68de8574",
   "metadata": {},
   "outputs": [],
   "source": [
    "### BEGIN SOLUTION\n",
    "import pandas as pd\n",
    "from rdkit import Chem\n",
    "from rdkit.Chem import Descriptors, rdMolDescriptors\n",
    "\n",
    "def compute_descriptor_matrix(smiles_list):\n",
    "    \"\"\"Return DataFrame with molecular descriptors.\"\"\"\n",
    "    data = []\n",
    "    for smiles in smiles_list:\n",
    "        mol = Chem.MolFromSmiles(smiles)\n",
    "        if mol is not None:\n",
    "            row = {\n",
    "                'SMILES': smiles,\n",
    "                'MolWt': Descriptors.MolWt(mol),\n",
    "                'logP': Descriptors.MolLogP(mol),\n",
    "                'TPSA': rdMolDescriptors.CalcTPSA(mol)\n",
    "            }\n",
    "            data.append(row)\n",
    "    return pd.DataFrame(data)\n",
    "### END SOLUTION\n"
   ]
  },
  {
   "cell_type": "code",
   "execution_count": null,
   "id": "992f61f8",
   "metadata": {},
   "outputs": [],
   "source": [
    "# hidden tests\n",
    "import pandas as pd\n",
    "from rdkit import Chem\n",
    "test_smiles = ['CCO', 'c1ccccc1']\n",
    "df = compute_descriptor_matrix(test_smiles)\n",
    "assert len(df) == 2\n",
    "assert 'MolWt' in df.columns\n",
    "assert 'logP' in df.columns\n",
    "assert 'TPSA' in df.columns\n",
    "assert df['MolWt'].iloc[0] > 0\n"
   ]
  },
  {
   "cell_type": "markdown",
   "id": "48975ecd",
   "metadata": {},
   "source": [
    "### Critical‑Thinking Questions\n",
    "\n",
    "**CTQ‑1.** Why might **data cleaning** be particularly important when working with chemical datasets? What types of errors are common in chemical databases, and how might they affect downstream analysis?\n",
    "\n",
    "<span style=\"color:cyan\"><strong>Free response:</strong> YOUR RESPONSE TEXT HERE </span>\n",
    "\n",
    "**CTQ‑2.** How might the choice of **molecular descriptors** affect the results of a machine learning model? Why might some descriptors be more informative than others for predicting certain properties?\n",
    "\n",
    "<span style=\"color:cyan\"><strong>Free response:</strong> YOUR RESPONSE TEXT HERE </span>\n"
   ]
  },
  {
   "cell_type": "markdown",
   "id": "8bb25cec",
   "metadata": {},
   "source": []
  },
  {
   "cell_type": "markdown",
   "id": "6d0d54b8",
   "metadata": {},
   "source": [
    "## Your Turn 📝\n",
    "1. Replace `sample_csv` with **your own dataset** (or build a bigger one).  \n",
    "2. Add at least **two more RDKit descriptors** (*TPSA*, *NumHBA*, etc.).  \n",
    "3. Plot a pairplot (`sns.pairplot`) of descriptors vs. activity.  \n",
    "4. Optional: use `pandas` group‐by or `qcut` to bin molecules by molecular weight and compare median activities."
   ]
  },
  {
   "cell_type": "markdown",
   "id": "6b51c362",
   "metadata": {},
   "source": [
    "## Summary & Next Steps\n",
    "- **pandas** makes CSV I/O and cleaning straightforward.  \n",
    "- **RDKit** can enrich each molecule with physicochemical descriptors.  \n",
    "- **seaborn/matplotlib** provide quick insight into property trends.  \n",
    "Expand this workflow to thousands of compounds, export to other formats (Parquet, Excel), or feed the cleaned data into ML models."
   ]
  }
 ],
 "metadata": {
  "kernelspec": {
   "display_name": "molssi-actcms-molecular-representations",
   "language": "python",
   "name": "python3"
  },
  "language_info": {
   "codemirror_mode": {
    "name": "ipython",
    "version": 3
   },
   "file_extension": ".py",
   "mimetype": "text/x-python",
   "name": "python",
   "nbconvert_exporter": "python",
   "pygments_lexer": "ipython3",
   "version": "3.11.9"
  }
 },
 "nbformat": 4,
 "nbformat_minor": 5
}
